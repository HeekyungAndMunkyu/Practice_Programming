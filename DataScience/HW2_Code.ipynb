{
 "metadata": {
  "name": "",
  "signature": "sha256:1d40eeca61bb4b99d0839c0f6095854ead2275685778db3341eab2dc356bb721"
 },
 "nbformat": 3,
 "nbformat_minor": 0,
 "worksheets": [
  {
   "cells": [
    {
     "cell_type": "markdown",
     "metadata": {},
     "source": [
      "# HW2 - Basic Regression\n",
      "\n",
      "#### Data Science in Korea University\n",
      "#### COSE471, Spring 2015\n",
      "#### Due : 4/19 (SUN)  11:59 PM \n",
      "\n",
      "####---------------------------------------------------------------------------------------------------------------------------------------------------------------------------------------------------------------------------"
     ]
    },
    {
     "cell_type": "markdown",
     "metadata": {},
     "source": [
      "\n",
      "## Breif description of HW2\n",
      "### Fetching population data used in HW1, then we will use the data for our regression analysis\n",
      "[0]. By using \"DataFrame.to_csv\", you can export a csv file from a DataFrame in your memory.\n",
      "For this homework, we will provide csv file of population ( provided file name : allCountries_1950_2050 )\n",
      "\n",
      "##We will go through the following steps:\n",
      "1. By using \"DataFrame.from_csv(), import a csv file provided\n",
      "2. Make Data for input X (year) , output Y ( population ) as a list\n",
      "3. Write a function for the linear regression and plot it\n",
      "4. Use a library to plot a qudaratic(2nd order) function\n",
      "5. Predict population of all nations in 2080\n",
      "\n",
      "\n",
      "To give you some starting points for your homework, we will also show the different sub-steps that can be taken to reach the presented solution."
     ]
    },
    {
     "cell_type": "code",
     "collapsed": false,
     "input": [
      "%matplotlib inline \n",
      "\n",
      "from collections import defaultdict\n",
      "\n",
      "import pandas as pd\n",
      "import matplotlib.pyplot as plt\n",
      "import numpy as np"
     ],
     "language": "python",
     "metadata": {},
     "outputs": [],
     "prompt_number": 62
    },
    {
     "cell_type": "markdown",
     "metadata": {},
     "source": [
      "## 1. By using \"DataFrame.from_csv(), import a csv file provided\n",
      "\n",
      "##### Use DataFrame library\n",
      "* load file \"allCountries_1950_2050\" as a DataFrame"
     ]
    },
    {
     "cell_type": "code",
     "collapsed": false,
     "input": [
      "# write your code here"
     ],
     "language": "python",
     "metadata": {},
     "outputs": [],
     "prompt_number": 73
    },
    {
     "cell_type": "markdown",
     "metadata": {},
     "source": [
      "## 2. Make Data for input X (year) , output Y ( population ) as a list\n",
      "### Only for 'South Korea' Data\n",
      "\n",
      "\n",
      "* From a loaded DataFrame, retrieve data only for South Korea\n",
      "* For input X ( year / 1950 ~ 2050 )\n",
      "* For output Y ( poupulation of each year of South Korea)\n",
      "\n",
      "** Hint: retrieve each data and use tolist()"
     ]
    },
    {
     "cell_type": "code",
     "collapsed": false,
     "input": [
      "# write yor code here\n",
      "xData = \n",
      "yData = "
     ],
     "language": "python",
     "metadata": {},
     "outputs": [
      {
       "ename": "SyntaxError",
       "evalue": "invalid syntax (<ipython-input-74-d41e2177b731>, line 2)",
       "output_type": "pyerr",
       "traceback": [
        "\u001b[1;36m  File \u001b[1;32m\"<ipython-input-74-d41e2177b731>\"\u001b[1;36m, line \u001b[1;32m2\u001b[0m\n\u001b[1;33m    xData =\u001b[0m\n\u001b[1;37m            ^\u001b[0m\n\u001b[1;31mSyntaxError\u001b[0m\u001b[1;31m:\u001b[0m invalid syntax\n"
       ]
      }
     ],
     "prompt_number": 74
    },
    {
     "cell_type": "code",
     "collapsed": false,
     "input": [
      "# provided code\n",
      "# By using np.array, make xData, yData as Array\n",
      "# make xData as int\n",
      "xData = np.array(map(int, xData))\n",
      "yData = np.array(yData)"
     ],
     "language": "python",
     "metadata": {},
     "outputs": [],
     "prompt_number": 78
    },
    {
     "cell_type": "markdown",
     "metadata": {},
     "source": [
      "## 3. Write a function for the linear regression and plot it\n",
      "### Only for 'South Korea' Data\n",
      "* input xData(np.array), yData(np.array)\n",
      "* output : a1, a0  in formula [ y = a1 * x + a0 ]\n",
      "* Write your own code for this\n",
      "* Reference your ppt slides or Google for detalied formula\n",
      "\n",
      "** Hint: retrieve each data and use tolist()"
     ]
    },
    {
     "cell_type": "code",
     "collapsed": false,
     "input": [
      "# write your code here\n",
      "def linear_regress(xData, yData):\n",
      "\n",
      "    return a0, a1"
     ],
     "language": "python",
     "metadata": {},
     "outputs": [],
     "prompt_number": 81
    },
    {
     "cell_type": "markdown",
     "metadata": {},
     "source": [
      "## 3-2. Plot\n",
      "### Only for 'South Korea' Data\n",
      "* Plot data with linear regression line"
     ]
    },
    {
     "cell_type": "code",
     "collapsed": false,
     "input": [
      "# provided code\n",
      "\n",
      "a0, a1 = linear_regress(xData, yData)\n",
      "\n",
      "plt.scatter(xData,yData)\n",
      "x = np.linspace(1950, 2045, 50)\n",
      "y = a0+a1*x\n",
      "plt.plot(x, y, 'r--')"
     ],
     "language": "python",
     "metadata": {},
     "outputs": [
      {
       "metadata": {},
       "output_type": "pyout",
       "prompt_number": 83,
       "text": [
        "[<matplotlib.lines.Line2D at 0xe5ef2e8>]"
       ]
      },
      {
       "metadata": {},
       "output_type": "display_data",
       "png": "[encoded data removed]",
       "text": [
        "<matplotlib.figure.Figure at 0xe5ef860>"
       ]
      }
     ],
     "prompt_number": 83
    },
    {
     "cell_type": "markdown",
     "metadata": {},
     "source": [
      "### Q. What is the predicted population of South Korea in 2060 by linear(1st) regression?\n",
      "\n",
      "#### Your answer here : "
     ]
    },
    {
     "cell_type": "markdown",
     "metadata": {},
     "source": [
      "## 4. Use a library to plot a qudaratic(2nd order) function\n",
      "### Only for 'South Korea' Data\n",
      "* use pylab lib for this to do the same process above"
     ]
    },
    {
     "cell_type": "code",
     "collapsed": false,
     "input": [
      "import pylab\n",
      "\n",
      "#write your code here\n"
     ],
     "language": "python",
     "metadata": {},
     "outputs": [],
     "prompt_number": 86
    },
    {
     "cell_type": "markdown",
     "metadata": {},
     "source": [
      "### Q. What is the predicted population of South Korea in 2060 by quadratic(2nd) regression?\n",
      "\n",
      "#### Your answer here : "
     ]
    },
    {
     "cell_type": "markdown",
     "metadata": {},
     "source": [
      "## 5. Predict population of all nations in 2080\n",
      "### Use all Data\n",
      "\n",
      "* Use linear(1st) regression, quadratic(2nd) regression\n",
      "* You can use pylab for this case\n",
      "\n",
      "* Utilize dataFrame"
     ]
    },
    {
     "cell_type": "code",
     "collapsed": false,
     "input": [
      "# write your code here"
     ],
     "language": "python",
     "metadata": {},
     "outputs": [],
     "prompt_number": 87
    },
    {
     "cell_type": "markdown",
     "metadata": {},
     "source": [
      "### Q. Which country has the 10th most population using linear(1st), quadratic(2nd) regression in 2080?\n",
      "\n",
      "#### Your answer for linear(1st) regresion in 2080 : \n",
      "#### Your answer for quadratic(2nd) regresion in 2080 : "
     ]
    }
   ],
   "metadata": {}
  }
 ]
}