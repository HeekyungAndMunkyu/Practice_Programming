{
 "cells": [
  {
   "cell_type": "markdown",
   "metadata": {},
   "source": [
    "# HW3 - Classification with Support Vector Machine\n",
    "## Naive Handwriting Recognition System\n",
    "\n",
    "#### Data Science in Korea University\n",
    "#### COSE471, Spring 2015\n",
    "#### Due : 5/24 (SUN)  11:59 PM \n"
   ]
  },
  {
   "cell_type": "markdown",
   "metadata": {},
   "source": [
    "## [ For Mac users, please make sure that your file runs on Windows! ]\n",
    "\n",
    "\n",
    "## Preparing the Data\n",
    "\n",
    "Put our traing examples and testing examples in your \"IPython Notebook\" folder or your original directory for your source\n",
    "(train folder, test folder)\n",
    "\n",
    "\n",
    "\n",
    "\n",
    "###We will go through the following steps:\n",
    "* Read the files from folder\n",
    "* Convert from the image(32X32) format to the list(1X1024) format\n",
    "* Train your Training files with SVM library\n",
    "* Predict Test files with your trained SVM model\n",
    "* Measure your accuracy for your Test\n",
    "* Compare with other Classificaiton Models ( 1 or 2 model)\n",
    "\n",
    "To give you some starting points for your homework, we will also show the different sub-steps that can be taken to reach the presented solution."
   ]
  },
  {
   "cell_type": "markdown",
   "metadata": {},
   "source": [
    "## 0. Prepare your Data\n",
    "\n",
    "Make sure your traning examples and testing examples in your \"IPython Notebook\" directory"
   ]
  },
  {
   "cell_type": "code",
   "execution_count": 1,
   "metadata": {
    "collapsed": false
   },
   "outputs": [],
   "source": [
    "import os\n",
    "import numpy as np"
   ]
  },
  {
   "cell_type": "markdown",
   "metadata": {},
   "source": [
    "## 1. Preprocess your Data\n",
    "\n",
    "* Read the files from folder\n",
    "\n",
    "* For Training Data / Convert from the image(32X32) format to the list(1X1024) format\n",
    "* For Training Label(Answer for Data) / Name of the file"
   ]
  },
  {
   "cell_type": "markdown",
   "metadata": {},
   "source": [
    "## 2. Train your Training files with SVM library\n",
    "\n",
    "* Refer to this link\n",
    "* http://scikit-learn.org/stable/modules/svm.html\n",
    "* Try to set your parameter for SVM model"
   ]
  },
  {
   "cell_type": "code",
   "execution_count": 2,
   "metadata": {
    "collapsed": false
   },
   "outputs": [],
   "source": [
    "training = np.genfromtxt('/Users/hee/Practice_Python/DataScience/CreditScoring/training.csv',delimiter=',')"
   ]
  },
  {
   "cell_type": "code",
   "execution_count": 3,
   "metadata": {
    "collapsed": false
   },
   "outputs": [
    {
     "name": "stdout",
     "output_type": "stream",
     "text": [
      "[[             nan              nan              nan ...,              nan\n",
      "               nan              nan]\n",
      " [  4.20820000e+04   1.00000000e+00   1.17350929e+00 ...,   0.00000000e+00\n",
      "    2.00000000e+00   2.00000000e+00]\n",
      " [  4.74630000e+04   0.00000000e+00   4.01181850e-02 ...,   0.00000000e+00\n",
      "    0.00000000e+00   0.00000000e+00]\n",
      " ..., \n",
      " [  5.75000000e+04   0.00000000e+00   8.17888577e-01 ...,   0.00000000e+00\n",
      "    0.00000000e+00   0.00000000e+00]\n",
      " [  1.29582000e+05   1.00000000e+00   9.48217769e-01 ...,   2.00000000e+00\n",
      "    0.00000000e+00   1.00000000e+00]\n",
      " [  9.01260000e+04   0.00000000e+00   1.12952920e-01 ...,   2.00000000e+00\n",
      "    0.00000000e+00   0.00000000e+00]]\n",
      "(90001, 12)\n",
      "(90000, 12)\n",
      "(90000, 10)\n",
      "(90000,)\n"
     ]
    }
   ],
   "source": [
    "print training\n",
    "print training.shape\n",
    "\n",
    "training = training[1:,:] # eliminate 'column name' row [nan nan nan ... nan]\n",
    "print training.shape\n",
    "\n",
    "y = training[:, 1] #SeriousDlqin2yrs\n",
    "x = training[:, 2:] # 10 features\n",
    "print x.shape\n",
    "print y.shape"
   ]
  },
  {
   "cell_type": "code",
   "execution_count": 4,
   "metadata": {
    "collapsed": false
   },
   "outputs": [],
   "source": [
    "# fill nan with zeros\n",
    "\n",
    "x = np.nan_to_num(x)\n",
    "y = np.nan_to_num(y)"
   ]
  },
  {
   "cell_type": "code",
   "execution_count": 5,
   "metadata": {
    "collapsed": false
   },
   "outputs": [
    {
     "name": "stdout",
     "output_type": "stream",
     "text": [
      "(90000, 10)\n",
      "(90000,)\n",
      "(10000, 10)\n",
      "(10000,)\n"
     ]
    },
    {
     "data": {
      "text/plain": [
       "SVC(C=1.0, cache_size=200, class_weight=None, coef0=0.0, degree=3, gamma=0.0,\n",
       "  kernel='rbf', max_iter=-1, probability=True, random_state=None,\n",
       "  shrinking=True, tol=0.001, verbose=False)"
      ]
     },
     "execution_count": 5,
     "metadata": {},
     "output_type": "execute_result"
    }
   ],
   "source": [
    "print x.shape\n",
    "print y.shape\n",
    "\n",
    "from sklearn.svm import SVC\n",
    "xpart = x[:10000, :] # kernel = 'rbf' (default)일 때, 30000개까지 가능. \n",
    "                    # kernel = 'linear'일 때, 100개 가능, 1000개 불가능.\n",
    "ypart = y[:10000]\n",
    "\n",
    "print xpart.shape\n",
    "print ypart.shape\n",
    "#write your code here\n",
    "\n",
    "# Train\n",
    "clf = SVC(probability = True) # probability = True\n",
    "clf.fit(xpart, ypart)"
   ]
  },
  {
   "cell_type": "markdown",
   "metadata": {},
   "source": [
    "## 3. Predict Test files with your trained SVM model\n",
    "\n",
    "* Read the files from folder\n",
    "\n",
    "* For Test Data / Convert from the image(32X32) format to the list(1X1024) format\n",
    "* For Test Label(Answer for Data) / Name of the file"
   ]
  },
  {
   "cell_type": "code",
   "execution_count": 15,
   "metadata": {
    "collapsed": true
   },
   "outputs": [],
   "source": [
    "# load test set\n",
    "\n",
    "test = np.genfromtxt('/Users/hee/Practice_Python/DataScience/CreditScoring/cs-test.csv',delimiter=',')"
   ]
  },
  {
   "cell_type": "code",
   "execution_count": 16,
   "metadata": {
    "collapsed": true
   },
   "outputs": [],
   "source": [
    "test = test[1:,:]\n",
    "\n",
    "ytest = test[:, 1]\n",
    "xtest = test[:, 2:]\n",
    "xtest.shape\n",
    "ytest.shape\n",
    "# fill nan with zeros\n",
    "xtest = np.nan_to_num(xtest)\n",
    "ytest = np.nan_to_num(ytest)"
   ]
  },
  {
   "cell_type": "code",
   "execution_count": 17,
   "metadata": {
    "collapsed": false
   },
   "outputs": [],
   "source": [
    "\n",
    "\n",
    "prediction = clf.predict_proba(xtest)\n"
   ]
  },
  {
   "cell_type": "code",
   "execution_count": 18,
   "metadata": {
    "collapsed": false
   },
   "outputs": [
    {
     "name": "stdout",
     "output_type": "stream",
     "text": [
      "[[ 0.94093792  0.05906208]\n",
      " [ 0.93438469  0.06561531]\n",
      " [ 0.93362796  0.06637204]\n",
      " ..., \n",
      " [ 0.93439469  0.06560531]\n",
      " [ 0.93628435  0.06371565]\n",
      " [ 0.93479304  0.06520696]]\n",
      "(101503, 2)\n"
     ]
    }
   ],
   "source": [
    "print prediction # [0일 확률  1일 확률]\n",
    "print prediction.shape"
   ]
  },
  {
   "cell_type": "code",
   "execution_count": 19,
   "metadata": {
    "collapsed": true
   },
   "outputs": [],
   "source": [
    "pred = prediction[:, 1] # 1일 확률\n",
    "label = pred > 0.1 # 0.1이상일 때, 1이라고 예측하자"
   ]
  },
  {
   "cell_type": "code",
   "execution_count": 27,
   "metadata": {
    "collapsed": false
   },
   "outputs": [
    {
     "name": "stdout",
     "output_type": "stream",
     "text": [
      "[ 0.05906208  0.06561531  0.06637204 ...,  0.06560531  0.06371565\n",
      "  0.06520696]\n",
      "<type 'numpy.ndarray'>\n"
     ]
    }
   ],
   "source": [
    "print pred\n",
    "print type(pred)\n",
    "\n",
    "import pandas as pd\n",
    "predArray = {'probability':pred}\n",
    "predDF = pd.DataFrame(predArray, index = np.linspace(1,101503,101503))"
   ]
  },
  {
   "cell_type": "code",
   "execution_count": 29,
   "metadata": {
    "collapsed": false
   },
   "outputs": [
    {
     "name": "stdout",
     "output_type": "stream",
     "text": [
      "        probability\n",
      "1          0.059062\n",
      "2          0.065615\n",
      "3          0.066372\n",
      "4          0.057220\n",
      "5          0.064880\n",
      "6          0.065601\n",
      "7          0.064952\n",
      "8          0.063387\n",
      "9          0.065615\n",
      "10         0.112171\n",
      "11         0.062875\n",
      "12         0.062617\n",
      "13         0.065517\n",
      "14         0.064459\n",
      "15         0.065554\n",
      "16         0.064183\n",
      "17         0.065615\n",
      "18         0.061601\n",
      "19         0.065795\n",
      "20         0.061645\n",
      "21         0.065615\n",
      "22         0.063946\n",
      "23         0.065425\n",
      "24         0.065615\n",
      "25         0.063389\n",
      "26         0.065403\n",
      "27         0.065602\n",
      "28         0.065430\n",
      "29         0.093559\n",
      "30         0.065615\n",
      "...             ...\n",
      "101474     0.064890\n",
      "101475     0.065520\n",
      "101476     0.065615\n",
      "101477     0.061909\n",
      "101478     0.058406\n",
      "101479     0.059957\n",
      "101480     0.065615\n",
      "101481     0.065562\n",
      "101482     0.065428\n",
      "101483     0.065615\n",
      "101484     0.065615\n",
      "101485     0.059628\n",
      "101486     0.065578\n",
      "101487     0.065615\n",
      "101488     0.056603\n",
      "101489     0.065615\n",
      "101490     0.061079\n",
      "101491     0.064479\n",
      "101492     0.065588\n",
      "101493     0.065330\n",
      "101494     0.065615\n",
      "101495     0.061604\n",
      "101496     0.065221\n",
      "101497     0.061872\n",
      "101498     0.054445\n",
      "101499     0.094891\n",
      "101500     0.065615\n",
      "101501     0.065605\n",
      "101502     0.063716\n",
      "101503     0.065207\n",
      "\n",
      "[101503 rows x 1 columns]\n"
     ]
    }
   ],
   "source": [
    "print predDF\n",
    "\n",
    "predDF.to_csv('predNewSVM.csv')"
   ]
  },
  {
   "cell_type": "markdown",
   "metadata": {},
   "source": [
    "## 4. Measure your accuracy for your Test Data\n",
    "\n",
    "* Accuracy = (nubmer of correct answers) / (all number of documents)"
   ]
  },
  {
   "cell_type": "code",
   "execution_count": 11,
   "metadata": {
    "collapsed": true
   },
   "outputs": [],
   "source": [
    "from scipy.optimize import fmin_cg\n",
    "from sklearn.metrics import precision_recall_fscore_support\n",
    "\n",
    "def predict(theta, X, y, threshold = 0.5):\n",
    "    '''\n",
    "    theta\n",
    "    X\n",
    "    y\n",
    "    L\n",
    "    \n",
    "        prints measures (accuracy, precision, recall, F-score)\n",
    "    \n",
    "    returns: prediction(vector) \n",
    "            \n",
    "    '''\n",
    "    # get prediction\n",
    "    prediction = getPrediction(theta, X, threshold)\n",
    "    \n",
    "    # get measures\n",
    "    measures = getMeasures(y, prediction)\n",
    "    accuracy, precision, recall, fscore = measures\n",
    "    \n",
    "    print 'accuracy', accuracy\n",
    "    print 'precision', precision\n",
    "    print 'recall', recall\n",
    "    print 'fscore', fscore\n",
    "    \n",
    "    return prediction\n",
    "\n",
    "def getPrediction(theta, X, threshold = 0.5):\n",
    "    '''\n",
    "    \n",
    "    returns: vector of labels (0, 1)\n",
    "    '''\n",
    "    \n",
    "    probability = sigmoid(X.dot(theta))\n",
    "    prediction = probability > threshold\n",
    "    \n",
    "    return prediction * 1\n",
    "\n",
    "def getMeasures(y, prediction):\n",
    "    '''\n",
    "    \n",
    "    returns: measures\n",
    "    '''\n",
    "    accuracy = (prediction == y).mean()\n",
    "    \n",
    "    precision, recall, f_score, support = \\\n",
    "        precision_recall_fscore_support(y, prediction, average = 'binary')\n",
    "    \n",
    "    measures = (accuracy, precision, recall, f_score)\n",
    "    return measures"
   ]
  },
  {
   "cell_type": "code",
   "execution_count": 12,
   "metadata": {
    "collapsed": false
   },
   "outputs": [
    {
     "name": "stdout",
     "output_type": "stream",
     "text": [
      "(0.91866666666666663, 0.1125, 0.03140578265204387, 0.049103663289166016)\n"
     ]
    }
   ],
   "source": [
    "measures= getMeasures(ytest, label)\n",
    "print measures # ㅁㅊ"
   ]
  },
  {
   "cell_type": "code",
   "execution_count": 13,
   "metadata": {
    "collapsed": false
   },
   "outputs": [
    {
     "name": "stdout",
     "output_type": "stream",
     "text": [
      "0.918666666667\n"
     ]
    }
   ],
   "source": [
    "#write your code here\n",
    "accuracy = np.mean(label == ytest)\n",
    "print accuracy"
   ]
  },
  {
   "cell_type": "markdown",
   "metadata": {},
   "source": [
    "## 5. Compare with other Classificaiton Models ( 1 or 2 model)\n",
    "\n",
    "* Compare your results and Show your analysis for each results\n",
    "* You can also analyse about different types of parameter for SVM\n",
    "* You are welcome to use all kinds of libraries"
   ]
  },
  {
   "cell_type": "markdown",
   "metadata": {},
   "source": [
    "##TABLE OF CONTENTS\n",
    "\n",
    "###I. Logistic Regression\n",
    "    1. Train\n",
    "    2. Predict\n",
    "    3. Accuracy\n",
    "    4. Compare with SVM\n",
    "    \n",
    "###II. Modify parameters for SVM\n",
    "    1. C\n",
    "    2. kernel\n",
    "    3. degree"
   ]
  },
  {
   "cell_type": "markdown",
   "metadata": {},
   "source": [
    "##II. Modify Parameters for SVM"
   ]
  },
  {
   "cell_type": "code",
   "execution_count": 12,
   "metadata": {
    "collapsed": false
   },
   "outputs": [
    {
     "name": "stdout",
     "output_type": "stream",
     "text": [
      "When C = 1, accuracy is 0.979835.\n",
      "When C = 2, accuracy is 0.988625.\n",
      "When C = 3, accuracy is 0.992761.\n",
      "When C = 4, accuracy is 0.994312.\n",
      "When C = 5, accuracy is 0.996381.\n",
      "When C = 6, accuracy is 0.997415.\n",
      "When C = 7, accuracy is 0.998449.\n",
      "When C = 8, accuracy is 0.998966.\n",
      "When C = 9, accuracy is 0.998966.\n",
      "When C = 10, accuracy is 0.998966.\n",
      "When C = 11, accuracy is 0.999483.\n",
      "When C = 12, accuracy is 1.000000.\n",
      "When C = 13, accuracy is 1.000000.\n",
      "When C = 14, accuracy is 1.000000.\n",
      "When C = 15, accuracy is 1.000000.\n",
      "When C = 16, accuracy is 1.000000.\n",
      "When C = 17, accuracy is 1.000000.\n",
      "When C = 18, accuracy is 1.000000.\n",
      "When C = 19, accuracy is 1.000000.\n",
      "When C = 20, accuracy is 1.000000.\n"
     ]
    }
   ],
   "source": [
    "# 1. C\n",
    "accuracyList = []\n",
    "for i in np.linspace(1, 20, 20):\n",
    "    clf = SVC(C = i)\n",
    "    clf.fit(x, y)\n",
    "    prediction = clf.predict(x)\n",
    "    accuracy = np.mean(prediction == y)\n",
    "    accuracyList.append(accuracy)\n",
    "    print 'When C = %d, accuracy is %f.' % (i, accuracy)\n",
    "    \n"
   ]
  },
  {
   "cell_type": "code",
   "execution_count": null,
   "metadata": {
    "collapsed": false
   },
   "outputs": [],
   "source": [
    "%matplotlib inline \n",
    "import matplotlib.pyplot as plt\n",
    "\n",
    "plt.figure()\n",
    "plt.plot(np.linspace(1, 20, 20), accuracyList, label = 'Accuracy')\n",
    "\n",
    "plt.legend(loc='best')\n",
    "plt.xticks(rotation=70) \n",
    "plt.xlabel(\"C\")\n",
    "plt.ylabel(\"Accuracy\")\n",
    "plt.title(\"C - Accuracy relationship\")"
   ]
  },
  {
   "cell_type": "markdown",
   "metadata": {},
   "source": [
    "With increasing C, accuracy increases as well, however to a certain level."
   ]
  },
  {
   "cell_type": "code",
   "execution_count": null,
   "metadata": {
    "collapsed": false
   },
   "outputs": [],
   "source": [
    "# 2. kernel\n",
    "accuracyListK = []\n",
    "for i in ['linear', 'poly', 'rbf', 'sigmoid']:\n",
    "    clf = SVC(kernel = i)\n",
    "    clf.fit(x, y)\n",
    "    prediction = clf.predict(xTest)\n",
    "    accuracy = np.mean(prediction == yTest)\n",
    "    accuracyListK.append(accuracy)\n",
    "    print 'When kernel = %s, accuracy is %f.' % (i, accuracy)\n"
   ]
  },
  {
   "cell_type": "markdown",
   "metadata": {},
   "source": [
    "From highest accuracy to lowest accuracy: linear > rbf > poly > sigmoid\n",
    "\n",
    "With 'linear' kernel, accuracy was the highest."
   ]
  },
  {
   "cell_type": "code",
   "execution_count": null,
   "metadata": {
    "collapsed": false
   },
   "outputs": [],
   "source": [
    "# 3. degree\n",
    "accuracyListD = []\n",
    "for i in range(1, 6):\n",
    "    clf = SVC(kernel = 'poly', degree = i) # degree only applies when kernel is poly\n",
    "    clf.fit(x, y)\n",
    "    prediction = clf.predict(xTest)\n",
    "    accuracy = np.mean(prediction == yTest)\n",
    "    accuracyListD.append(accuracy)\n",
    "    print 'When degree = %d, accuracy is %f.' % (i, accuracy)\n",
    "\n"
   ]
  },
  {
   "cell_type": "code",
   "execution_count": null,
   "metadata": {
    "collapsed": false
   },
   "outputs": [],
   "source": [
    "plt.figure()\n",
    "plt.plot(range(1, 6), accuracyListD, label = 'Accuracy')\n",
    "\n",
    "plt.legend(loc='best')\n",
    "plt.xticks(rotation=70) \n",
    "plt.xlabel(\"Degree\")\n",
    "plt.ylabel(\"Accuracy\")\n",
    "plt.title(\"Degree - Accuracy relationship (kernel = 'poly')\")"
   ]
  },
  {
   "cell_type": "markdown",
   "metadata": {},
   "source": [
    "When using 'poly' kernel, degree 1 results in the highest accuracy."
   ]
  },
  {
   "cell_type": "markdown",
   "metadata": {},
   "source": [
    "## [ For Mac users, please make sure that your file runs on Windows! ] \n",
    "\n",
    "\n",
    "\n",
    "\n",
    "\n",
    "\n",
    "\n",
    "\n",
    "\n",
    "\n",
    "\n",
    "\n",
    "\n",
    "\n",
    "\n",
    "\n",
    "\n",
    "\n",
    "\n",
    "\n",
    "\n",
    "\n",
    "\n",
    "\n",
    "\n",
    "\n",
    "\n",
    "\n",
    "\n",
    "\n",
    "\n",
    "\n"
   ]
  }
 ],
 "metadata": {
  "kernelspec": {
   "display_name": "Python 2",
   "language": "python",
   "name": "python2"
  },
  "language_info": {
   "codemirror_mode": {
    "name": "ipython",
    "version": 2
   },
   "file_extension": ".py",
   "mimetype": "text/x-python",
   "name": "python",
   "nbconvert_exporter": "python",
   "pygments_lexer": "ipython2",
   "version": "2.7.9"
  }
 },
 "nbformat": 4,
 "nbformat_minor": 0
}
