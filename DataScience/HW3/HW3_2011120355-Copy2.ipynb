{
 "cells": [
  {
   "cell_type": "markdown",
   "metadata": {},
   "source": [
    "# HW3 - Classification with Support Vector Machine\n",
    "## Naive Handwriting Recognition System\n",
    "\n",
    "#### Data Science in Korea University\n",
    "#### COSE471, Spring 2015\n",
    "#### Due : 5/24 (SUN)  11:59 PM \n"
   ]
  },
  {
   "cell_type": "markdown",
   "metadata": {},
   "source": [
    "## [ For Mac users, please make sure that your file runs on Windows! ]\n",
    "\n",
    "\n",
    "## Preparing the Data\n",
    "\n",
    "Put our traing examples and testing examples in your \"IPython Notebook\" folder or your original directory for your source\n",
    "(train folder, test folder)\n",
    "\n",
    "\n",
    "\n",
    "\n",
    "###We will go through the following steps:\n",
    "* Read the files from folder\n",
    "* Convert from the image(32X32) format to the list(1X1024) format\n",
    "* Train your Training files with SVM library\n",
    "* Predict Test files with your trained SVM model\n",
    "* Measure your accuracy for your Test\n",
    "* Compare with other Classificaiton Models ( 1 or 2 model)\n",
    "\n",
    "To give you some starting points for your homework, we will also show the different sub-steps that can be taken to reach the presented solution."
   ]
  },
  {
   "cell_type": "markdown",
   "metadata": {},
   "source": [
    "## 0. Prepare your Data\n",
    "\n",
    "Make sure your traning examples and testing examples in your \"IPython Notebook\" directory"
   ]
  },
  {
   "cell_type": "code",
   "execution_count": 1,
   "metadata": {
    "collapsed": false
   },
   "outputs": [],
   "source": [
    "import os\n",
    "import numpy as np"
   ]
  },
  {
   "cell_type": "markdown",
   "metadata": {},
   "source": [
    "## 1. Preprocess your Data\n",
    "\n",
    "* Read the files from folder\n",
    "\n",
    "* For Training Data / Convert from the image(32X32) format to the list(1X1024) format\n",
    "* For Training Label(Answer for Data) / Name of the file"
   ]
  },
  {
   "cell_type": "markdown",
   "metadata": {},
   "source": [
    "## 2. Train your Training files with SVM library\n",
    "\n",
    "* Refer to this link\n",
    "* http://scikit-learn.org/stable/modules/svm.html\n",
    "* Try to set your parameter for SVM model"
   ]
  },
  {
   "cell_type": "code",
   "execution_count": 2,
   "metadata": {
    "collapsed": false
   },
   "outputs": [],
   "source": [
    "xandy = np.genfromtxt('/Users/hee/Practice_Python/DataScience/CreditScoring/training.csv',delimiter=',')"
   ]
  },
  {
   "cell_type": "code",
   "execution_count": 3,
   "metadata": {
    "collapsed": false
   },
   "outputs": [
    {
     "name": "stdout",
     "output_type": "stream",
     "text": [
      "[[             nan              nan              nan ...,              nan\n",
      "               nan              nan]\n",
      " [  4.20820000e+04   1.00000000e+00   1.17350929e+00 ...,   0.00000000e+00\n",
      "    2.00000000e+00   2.00000000e+00]\n",
      " [  4.74630000e+04   0.00000000e+00   4.01181850e-02 ...,   0.00000000e+00\n",
      "    0.00000000e+00   0.00000000e+00]\n",
      " ..., \n",
      " [  5.75000000e+04   0.00000000e+00   8.17888577e-01 ...,   0.00000000e+00\n",
      "    0.00000000e+00   0.00000000e+00]\n",
      " [  1.29582000e+05   1.00000000e+00   9.48217769e-01 ...,   2.00000000e+00\n",
      "    0.00000000e+00   1.00000000e+00]\n",
      " [  9.01260000e+04   0.00000000e+00   1.12952920e-01 ...,   2.00000000e+00\n",
      "    0.00000000e+00   0.00000000e+00]]\n",
      "(90001, 12)\n",
      "(90000, 12)\n"
     ]
    },
    {
     "data": {
      "text/plain": [
       "(90000,)"
      ]
     },
     "execution_count": 3,
     "metadata": {},
     "output_type": "execute_result"
    }
   ],
   "source": [
    "print xandy\n",
    "print xandy.shape\n",
    "\n",
    "xandy = xandy[1:,:]\n",
    "print xandy.shape\n",
    "\n",
    "y = xandy[:, 1]\n",
    "x = xandy[:, 2:]\n",
    "x.shape\n",
    "y.shape"
   ]
  },
  {
   "cell_type": "code",
   "execution_count": 4,
   "metadata": {
    "collapsed": false
   },
   "outputs": [],
   "source": [
    "x = np.nan_to_num(x)\n",
    "y = np.nan_to_num(y)"
   ]
  },
  {
   "cell_type": "code",
   "execution_count": 9,
   "metadata": {
    "collapsed": false
   },
   "outputs": [
    {
     "name": "stdout",
     "output_type": "stream",
     "text": [
      "(90000, 10)\n",
      "(90000,)\n",
      "(1000, 10)\n",
      "(1000,)\n"
     ]
    },
    {
     "data": {
      "text/plain": [
       "SVC(C=1.0, cache_size=200, class_weight=None, coef0=0.0, degree=3, gamma=0.0,\n",
       "  kernel='linear', max_iter=-1, probability=False, random_state=None,\n",
       "  shrinking=True, tol=0.001, verbose=False)"
      ]
     },
     "execution_count": 9,
     "metadata": {},
     "output_type": "execute_result"
    }
   ],
   "source": [
    "print x.shape\n",
    "print y.shape\n",
    "\n",
    "from sklearn.svm import SVC\n",
    "xpart = x[:1000, :]\n",
    "ypart = y[:1000]\n",
    "\n",
    "print xpart.shape\n",
    "print ypart.shape\n",
    "#write your code here\n",
    "\n",
    "# Train\n",
    "clf = SVC(kernel = 'linear')\n",
    "clf.fit(xpart, ypart)"
   ]
  },
  {
   "cell_type": "markdown",
   "metadata": {},
   "source": [
    "## 3. Predict Test files with your trained SVM model\n",
    "\n",
    "* Read the files from folder\n",
    "\n",
    "* For Test Data / Convert from the image(32X32) format to the list(1X1024) format\n",
    "* For Test Label(Answer for Data) / Name of the file"
   ]
  },
  {
   "cell_type": "code",
   "execution_count": null,
   "metadata": {
    "collapsed": true
   },
   "outputs": [],
   "source": []
  },
  {
   "cell_type": "code",
   "execution_count": 6,
   "metadata": {
    "collapsed": false
   },
   "outputs": [
    {
     "name": "stdout",
     "output_type": "stream",
     "text": [
      "[0 0 0 0 0 0 0 0 0 0 0 0 0 0 0 0 0 0 0 0 0 0 0 0 0 0 0 0 0 0 0 0 0 0 0 0 0\n",
      " 0 0 0 0 0 0 0 0 0 0 0 0 0 0 0 0 0 0 0 0 0 0 0 0 0 0 0 0 0 0 0 0 0 0 0 0 0\n",
      " 0 0 0 0 0 0 0 0 0 0 0 0 0 1 1 1 1 1 1 1 1 1 1 1 1 1 1 1 1 1 1 1 1 1 1 1 1\n",
      " 1 1 1 1 1 1 1 1 1 1 1 1 1 1 1 1 1 1 1 1 1 1 1 1 1 1 1 1 1 1 1 1 1 1 1 1 1\n",
      " 1 1 1 1 1 1 1 1 1 1 1 1 1 1 1 1 1 1 1 1 1 1 1 1 7 1 1 1 1 1 1 1 1 1 1 1 2\n",
      " 2 2 2 2 2 2 2 2 2 2 2 2 2 2 2 2 2 2 2 2 2 2 2 2 2 2 2 2 2 2 2 2 2 2 2 2 2\n",
      " 2 2 2 2 2 2 2 2 2 2 2 2 2 2 2 2 2 2 2 2 2 2 2 2 2 2 8 8 8 2 2 2 8 2 2 2 2\n",
      " 2 2 2 2 2 2 2 2 2 2 2 2 2 2 2 2 9 3 3 3 9 3 3 3 3 3 3 3 3 3 3 3 3 3 3 3 3\n",
      " 3 3 3 3 3 3 3 3 3 3 3 3 3 3 3 3 3 3 9 3 3 3 3 5 8 3 3 3 3 3 3 3 3 3 3 3 3\n",
      " 9 3 3 3 3 3 3 3 3 3 3 3 3 9 3 3 3 3 3 3 3 3 3 3 3 3 3 3 4 4 4 4 4 4 4 4 4\n",
      " 4 4 4 4 4 4 4 4 4 4 4 4 4 4 4 4 4 9 4 4 4 4 4 4 4 4 4 1 4 4 4 4 4 4 4 4 4\n",
      " 4 4 4 4 4 4 4 4 4 0 4 4 4 4 4 4 4 4 4 4 4 4 4 4 4 4 4 4 4 4 4 4 4 4 4 4 4\n",
      " 4 4 4 4 4 4 4 4 4 4 4 4 8 4 4 4 4 4 8 4 4 4 4 4 4 4 4 4 4 4 4 5 5 5 5 5 5\n",
      " 5 5 5 5 5 5 5 5 5 5 5 5 5 5 5 5 5 5 5 5 5 5 5 5 5 5 5 5 5 5 5 5 5 5 5 5 5\n",
      " 5 5 5 5 5 5 5 5 5 5 5 5 5 5 5 5 5 5 5 9 5 5 5 5 5 5 5 5 5 5 5 5 5 5 5 5 5\n",
      " 5 5 5 5 5 5 5 5 5 5 5 5 5 5 5 5 5 5 5 5 5 5 5 5 5 5 5 5 6 6 6 6 6 6 6 6 6\n",
      " 6 6 6 6 6 6 6 6 6 6 6 6 6 6 6 6 6 6 6 6 6 6 6 6 6 6 6 6 6 6 6 6 6 6 6 6 6\n",
      " 6 6 6 6 6 6 6 6 6 6 6 6 6 6 6 6 6 6 6 6 6 6 6 6 6 6 6 6 6 6 6 6 6 6 6 4 6\n",
      " 6 6 6 6 7 7 7 7 7 7 7 7 7 7 7 7 7 7 7 7 7 7 7 7 7 7 7 7 7 7 7 7 7 7 7 7 7\n",
      " 7 7 7 7 7 7 7 7 7 7 7 7 7 7 7 7 7 7 7 7 7 7 7 7 7 7 7 7 7 7 7 7 7 7 7 7 7\n",
      " 7 4 7 7 7 7 7 7 7 7 7 7 7 7 7 7 7 7 7 7 7 7 7 7 7 7 8 8 8 6 8 8 8 8 8 8 8\n",
      " 8 8 8 8 8 8 8 8 8 8 8 8 8 8 8 8 8 8 8 8 8 8 8 8 8 8 8 8 8 1 8 8 8 8 8 8 8\n",
      " 8 8 8 8 8 8 8 8 8 8 8 8 8 8 8 8 8 8 8 8 8 8 8 8 8 8 8 8 8 8 8 8 8 8 8 8 8\n",
      " 8 8 8 8 8 8 9 9 9 9 9 9 1 9 9 9 9 9 9 9 9 9 9 9 9 9 9 9 9 9 9 9 9 9 9 9 9\n",
      " 9 9 9 9 9 9 9 9 9 9 9 9 9 9 9 9 9 9 9 9 9 9 9 9 9 9 7 9 9 9 9 9 9 9 9 9 9\n",
      " 9 9 9 9 9 9 9 9 3 9 9 9 9 9 9 9 9 9 9 9 9]\n"
     ]
    }
   ],
   "source": [
    "xTest = np.array(testList)\n",
    "yTest = np.array(testAnswerList)\n",
    "\n",
    "prediction = clf.predict(xTest)\n",
    "print prediction"
   ]
  },
  {
   "cell_type": "markdown",
   "metadata": {},
   "source": [
    "## 4. Measure your accuracy for your Test Data\n",
    "\n",
    "* Accuracy = (nubmer of correct answers) / (all number of documents)"
   ]
  },
  {
   "cell_type": "code",
   "execution_count": 7,
   "metadata": {
    "collapsed": false
   },
   "outputs": [
    {
     "name": "stdout",
     "output_type": "stream",
     "text": [
      "0.973572938689\n"
     ]
    }
   ],
   "source": [
    "#write your code here\n",
    "accuracy = np.mean(prediction == yTest)\n",
    "print accuracy"
   ]
  },
  {
   "cell_type": "markdown",
   "metadata": {},
   "source": [
    "## 5. Compare with other Classificaiton Models ( 1 or 2 model)\n",
    "\n",
    "* Compare your results and Show your analysis for each results\n",
    "* You can also analyse about different types of parameter for SVM\n",
    "* You are welcome to use all kinds of libraries"
   ]
  },
  {
   "cell_type": "markdown",
   "metadata": {},
   "source": [
    "##TABLE OF CONTENTS\n",
    "\n",
    "###I. Logistic Regression\n",
    "    1. Train\n",
    "    2. Predict\n",
    "    3. Accuracy\n",
    "    4. Compare with SVM\n",
    "    \n",
    "###II. Modify parameters for SVM\n",
    "    1. C\n",
    "    2. kernel\n",
    "    3. degree"
   ]
  },
  {
   "cell_type": "markdown",
   "metadata": {},
   "source": [
    "##I. Logistic Regression"
   ]
  },
  {
   "cell_type": "code",
   "execution_count": 8,
   "metadata": {
    "collapsed": false
   },
   "outputs": [
    {
     "data": {
      "text/plain": [
       "LogisticRegression(C=1.0, class_weight=None, dual=False, fit_intercept=True,\n",
       "          intercept_scaling=1, max_iter=100, multi_class='ovr',\n",
       "          penalty='l2', random_state=None, solver='liblinear', tol=0.0001,\n",
       "          verbose=0)"
      ]
     },
     "execution_count": 8,
     "metadata": {},
     "output_type": "execute_result"
    }
   ],
   "source": [
    "# 1. Train\n",
    "\n",
    "from sklearn.linear_model import LogisticRegression\n",
    "\n",
    "clfLR = LogisticRegression()\n",
    "clfLR.fit(x, y)"
   ]
  },
  {
   "cell_type": "code",
   "execution_count": 9,
   "metadata": {
    "collapsed": false
   },
   "outputs": [
    {
     "name": "stdout",
     "output_type": "stream",
     "text": [
      "[0 0 0 0 0 0 0 0 0 0 0 0 0 0 0 0 0 0 0 0 0 0 0 0 0 0 0 0 0 0 0 0 0 0 0 0 0\n",
      " 0 0 0 0 0 0 0 0 0 0 0 0 0 0 0 0 0 0 0 0 0 0 0 0 0 0 0 0 0 0 0 0 0 0 0 0 0\n",
      " 0 0 0 0 0 0 0 0 0 0 0 0 0 1 1 1 1 1 1 1 1 9 1 1 1 1 1 1 1 1 1 1 1 1 1 1 1\n",
      " 1 1 1 1 1 1 1 1 1 1 1 1 1 1 1 1 1 1 1 1 1 1 1 1 1 1 1 1 1 1 1 1 1 1 1 1 1\n",
      " 1 1 1 1 1 1 1 1 1 1 1 1 1 1 1 1 1 1 1 1 1 1 1 1 7 1 1 1 1 1 1 1 1 1 1 1 2\n",
      " 2 2 2 2 2 2 2 2 2 2 2 2 2 2 2 2 2 2 2 2 2 2 2 2 2 2 2 2 2 2 2 2 2 2 2 2 2\n",
      " 2 2 2 2 2 2 2 2 2 2 2 2 2 2 2 2 2 2 2 2 2 2 2 2 2 2 8 8 8 3 2 2 8 8 2 2 2\n",
      " 2 2 2 2 2 2 2 2 2 2 2 2 2 2 2 2 9 3 3 3 9 3 3 3 3 3 3 3 3 3 3 3 3 3 3 3 3\n",
      " 3 3 3 3 3 3 3 3 3 3 3 3 3 3 3 3 3 3 9 3 3 3 3 5 8 3 3 3 3 3 3 3 3 3 3 3 3\n",
      " 3 3 3 3 3 3 3 3 3 3 3 3 3 9 3 3 3 3 3 3 3 3 3 3 3 3 3 3 4 4 4 4 4 4 9 4 4\n",
      " 4 4 4 4 4 4 4 4 4 4 4 4 4 4 4 4 4 4 4 4 4 4 4 4 4 4 4 4 4 4 4 4 4 4 4 4 4\n",
      " 4 4 4 4 4 4 4 4 4 4 4 4 4 4 4 4 4 4 4 4 4 4 4 4 4 4 1 4 4 4 4 4 4 4 4 4 4\n",
      " 4 4 4 4 4 4 4 4 4 4 9 4 8 4 4 4 4 4 8 4 4 4 4 4 4 4 4 4 4 4 4 5 5 5 5 5 5\n",
      " 5 5 5 5 5 5 5 5 5 5 5 5 5 5 5 5 5 5 5 5 5 5 5 5 5 5 5 5 5 5 5 5 5 5 5 5 5\n",
      " 5 5 5 5 5 5 5 5 5 5 5 5 5 5 5 5 5 5 5 5 5 5 5 5 5 5 5 5 5 5 5 5 5 5 5 5 5\n",
      " 5 5 5 5 5 5 5 5 5 5 5 5 5 5 5 5 5 5 5 5 5 5 5 5 5 5 5 5 6 6 6 6 6 6 6 6 6\n",
      " 6 6 6 6 6 6 6 6 6 6 6 6 6 6 6 6 6 6 6 6 6 6 6 6 6 6 6 6 6 6 6 6 6 6 6 6 6\n",
      " 6 6 6 6 6 6 6 6 6 8 6 6 6 6 6 6 6 6 6 6 6 6 6 6 6 6 6 6 6 6 6 6 6 6 6 4 6\n",
      " 6 6 6 6 7 7 7 7 7 7 7 7 7 7 7 7 7 7 7 7 7 7 7 7 7 7 7 7 7 7 7 7 7 7 7 7 7\n",
      " 7 7 7 7 7 7 7 7 7 7 7 7 7 7 7 7 7 7 7 7 7 7 7 7 7 7 7 7 7 7 7 7 7 7 7 7 7\n",
      " 7 4 7 7 7 7 7 7 7 7 7 7 7 7 7 7 7 7 7 7 7 7 7 7 7 7 8 8 8 6 8 8 8 8 8 8 8\n",
      " 2 8 8 8 8 8 8 8 8 8 8 8 8 8 8 8 8 8 8 8 8 8 8 9 8 8 8 8 8 1 8 8 8 8 8 8 8\n",
      " 8 8 8 8 8 8 8 8 8 8 8 8 8 8 5 8 8 8 8 8 8 8 8 8 8 8 8 8 8 8 8 8 8 8 8 8 8\n",
      " 8 8 8 8 8 8 9 9 9 9 9 9 1 9 9 1 9 9 9 9 9 9 9 9 9 9 9 9 9 9 9 9 9 9 9 9 9\n",
      " 9 9 9 9 9 9 9 9 9 9 9 9 9 9 9 9 9 9 9 9 9 9 9 9 9 9 8 9 9 9 9 9 9 9 5 9 9\n",
      " 9 9 9 9 9 9 9 9 2 9 9 9 9 9 9 9 9 9 9 9 9]\n"
     ]
    }
   ],
   "source": [
    "# 2. Predict\n",
    "\n",
    "predictionLR = clfLR.predict(xTest)\n",
    "print predictionLR"
   ]
  },
  {
   "cell_type": "code",
   "execution_count": 10,
   "metadata": {
    "collapsed": false
   },
   "outputs": [
    {
     "name": "stdout",
     "output_type": "stream",
     "text": [
      "0.966173361522\n"
     ]
    }
   ],
   "source": [
    "# 3. Accuracy\n",
    "\n",
    "accuracy = np.mean(predictionLR == yTest)\n",
    "print accuracy"
   ]
  },
  {
   "cell_type": "markdown",
   "metadata": {},
   "source": [
    "####4. Compare with SVM\n",
    "\n",
    "    * Accuracy of SVM = 0.973572938689\n",
    "    * Accuracy of Logistic Regression = 0.966173361522\n",
    "    \n",
    "    SVM is more accurate than Logistic Regression in this example."
   ]
  },
  {
   "cell_type": "markdown",
   "metadata": {},
   "source": [
    "##II. Modify Parameters for SVM"
   ]
  },
  {
   "cell_type": "code",
   "execution_count": 12,
   "metadata": {
    "collapsed": false
   },
   "outputs": [
    {
     "name": "stdout",
     "output_type": "stream",
     "text": [
      "When C = 1, accuracy is 0.979835.\n",
      "When C = 2, accuracy is 0.988625.\n",
      "When C = 3, accuracy is 0.992761.\n",
      "When C = 4, accuracy is 0.994312.\n",
      "When C = 5, accuracy is 0.996381.\n",
      "When C = 6, accuracy is 0.997415.\n",
      "When C = 7, accuracy is 0.998449.\n",
      "When C = 8, accuracy is 0.998966.\n",
      "When C = 9, accuracy is 0.998966.\n",
      "When C = 10, accuracy is 0.998966.\n",
      "When C = 11, accuracy is 0.999483.\n",
      "When C = 12, accuracy is 1.000000.\n",
      "When C = 13, accuracy is 1.000000.\n",
      "When C = 14, accuracy is 1.000000.\n",
      "When C = 15, accuracy is 1.000000.\n",
      "When C = 16, accuracy is 1.000000.\n",
      "When C = 17, accuracy is 1.000000.\n",
      "When C = 18, accuracy is 1.000000.\n",
      "When C = 19, accuracy is 1.000000.\n",
      "When C = 20, accuracy is 1.000000.\n"
     ]
    }
   ],
   "source": [
    "# 1. C\n",
    "accuracyList = []\n",
    "for i in np.linspace(1, 20, 20):\n",
    "    clf = SVC(C = i)\n",
    "    clf.fit(x, y)\n",
    "    prediction = clf.predict(x)\n",
    "    accuracy = np.mean(prediction == y)\n",
    "    accuracyList.append(accuracy)\n",
    "    print 'When C = %d, accuracy is %f.' % (i, accuracy)\n",
    "    \n"
   ]
  },
  {
   "cell_type": "code",
   "execution_count": null,
   "metadata": {
    "collapsed": false
   },
   "outputs": [],
   "source": [
    "%matplotlib inline \n",
    "import matplotlib.pyplot as plt\n",
    "\n",
    "plt.figure()\n",
    "plt.plot(np.linspace(1, 20, 20), accuracyList, label = 'Accuracy')\n",
    "\n",
    "plt.legend(loc='best')\n",
    "plt.xticks(rotation=70) \n",
    "plt.xlabel(\"C\")\n",
    "plt.ylabel(\"Accuracy\")\n",
    "plt.title(\"C - Accuracy relationship\")"
   ]
  },
  {
   "cell_type": "markdown",
   "metadata": {},
   "source": [
    "With increasing C, accuracy increases as well, however to a certain level."
   ]
  },
  {
   "cell_type": "code",
   "execution_count": null,
   "metadata": {
    "collapsed": false
   },
   "outputs": [],
   "source": [
    "# 2. kernel\n",
    "accuracyListK = []\n",
    "for i in ['linear', 'poly', 'rbf', 'sigmoid']:\n",
    "    clf = SVC(kernel = i)\n",
    "    clf.fit(x, y)\n",
    "    prediction = clf.predict(xTest)\n",
    "    accuracy = np.mean(prediction == yTest)\n",
    "    accuracyListK.append(accuracy)\n",
    "    print 'When kernel = %s, accuracy is %f.' % (i, accuracy)\n"
   ]
  },
  {
   "cell_type": "markdown",
   "metadata": {},
   "source": [
    "From highest accuracy to lowest accuracy: linear > rbf > poly > sigmoid\n",
    "\n",
    "With 'linear' kernel, accuracy was the highest."
   ]
  },
  {
   "cell_type": "code",
   "execution_count": null,
   "metadata": {
    "collapsed": false
   },
   "outputs": [],
   "source": [
    "# 3. degree\n",
    "accuracyListD = []\n",
    "for i in range(1, 6):\n",
    "    clf = SVC(kernel = 'poly', degree = i) # degree only applies when kernel is poly\n",
    "    clf.fit(x, y)\n",
    "    prediction = clf.predict(xTest)\n",
    "    accuracy = np.mean(prediction == yTest)\n",
    "    accuracyListD.append(accuracy)\n",
    "    print 'When degree = %d, accuracy is %f.' % (i, accuracy)\n",
    "\n"
   ]
  },
  {
   "cell_type": "code",
   "execution_count": null,
   "metadata": {
    "collapsed": false
   },
   "outputs": [],
   "source": [
    "plt.figure()\n",
    "plt.plot(range(1, 6), accuracyListD, label = 'Accuracy')\n",
    "\n",
    "plt.legend(loc='best')\n",
    "plt.xticks(rotation=70) \n",
    "plt.xlabel(\"Degree\")\n",
    "plt.ylabel(\"Accuracy\")\n",
    "plt.title(\"Degree - Accuracy relationship (kernel = 'poly')\")"
   ]
  },
  {
   "cell_type": "markdown",
   "metadata": {},
   "source": [
    "When using 'poly' kernel, degree 1 results in the highest accuracy."
   ]
  },
  {
   "cell_type": "markdown",
   "metadata": {},
   "source": [
    "## [ For Mac users, please make sure that your file runs on Windows! ] \n",
    "\n",
    "\n",
    "\n",
    "\n",
    "\n",
    "\n",
    "\n",
    "\n",
    "\n",
    "\n",
    "\n",
    "\n",
    "\n",
    "\n",
    "\n",
    "\n",
    "\n",
    "\n",
    "\n",
    "\n",
    "\n",
    "\n",
    "\n",
    "\n",
    "\n",
    "\n",
    "\n",
    "\n",
    "\n",
    "\n",
    "\n",
    "\n"
   ]
  }
 ],
 "metadata": {
  "kernelspec": {
   "display_name": "Python 2",
   "language": "python",
   "name": "python2"
  },
  "language_info": {
   "codemirror_mode": {
    "name": "ipython",
    "version": 2
   },
   "file_extension": ".py",
   "mimetype": "text/x-python",
   "name": "python",
   "nbconvert_exporter": "python",
   "pygments_lexer": "ipython2",
   "version": "2.7.9"
  }
 },
 "nbformat": 4,
 "nbformat_minor": 0
}
