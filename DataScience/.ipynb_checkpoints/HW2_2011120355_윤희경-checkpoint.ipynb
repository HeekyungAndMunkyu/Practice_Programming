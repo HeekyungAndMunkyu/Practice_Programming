{
 "metadata": {
  "name": "",
  "signature": "sha256:f6b48bf0b643f2695210311408d7c4d10d38afc4f5293cc3372d4465e2de2acb"
 },
 "nbformat": 3,
 "nbformat_minor": 0,
 "worksheets": [
  {
   "cells": [
    {
     "cell_type": "markdown",
     "metadata": {},
     "source": [
      "# HW2 - Basic Regression\n",
      "\n",
      "#### Data Science in Korea University\n",
      "#### COSE471, Spring 2015\n",
      "#### Due : 4/19 (SUN)  11:59 PM \n",
      "\n",
      "####---------------------------------------------------------------------------------------------------------------------------------------------------------------------------------------------------------------------------"
     ]
    },
    {
     "cell_type": "markdown",
     "metadata": {},
     "source": [
      "\n",
      "## Breif description of HW2\n",
      "### Fetching population data used in HW1, then we will use the data for our regression analysis\n",
      "[0]. By using \"DataFrame.to_csv\", you can export a csv file from a DataFrame in your memory.\n",
      "For this homework, we will provide csv file of population ( provided file name : allCountries_1950_2050 )\n",
      "\n",
      "##We will go through the following steps:\n",
      "1. By using \"DataFrame.from_csv(), import a csv file provided\n",
      "2. Make Data for input X (year) , output Y ( population ) as a list\n",
      "3. Write a function for the linear regression and plot it\n",
      "4. Use a library to plot a qudaratic(2nd order) function\n",
      "5. Predict population of all nations in 2080\n",
      "\n",
      "\n",
      "To give you some starting points for your homework, we will also show the different sub-steps that can be taken to reach the presented solution."
     ]
    },
    {
     "cell_type": "code",
     "collapsed": false,
     "input": [
      "%matplotlib inline \n",
      "\n",
      "from collections import defaultdict\n",
      "\n",
      "import pandas as pd\n",
      "import matplotlib.pyplot as plt\n",
      "import numpy as np"
     ],
     "language": "python",
     "metadata": {},
     "outputs": [],
     "prompt_number": 122
    },
    {
     "cell_type": "markdown",
     "metadata": {},
     "source": [
      "## 1. By using \"DataFrame.from_csv(), import a csv file provided\n",
      "\n",
      "##### Use DataFrame library\n",
      "* load file \"allCountries_1950_2050\" as a DataFrame"
     ]
    },
    {
     "cell_type": "code",
     "collapsed": false,
     "input": [
      "# write your code here\n",
      "data = pd.DataFrame.from_csv('allCountries_1950_2050', sep = '\\t', encoding = 'utf-8')"
     ],
     "language": "python",
     "metadata": {},
     "outputs": [],
     "prompt_number": 123
    },
    {
     "cell_type": "code",
     "collapsed": false,
     "input": [
      "data.head()"
     ],
     "language": "python",
     "metadata": {},
     "outputs": [
      {
       "html": [
        "<div style=\"max-height:1000px;max-width:1500px;overflow:auto;\">\n",
        "<table border=\"1\" class=\"dataframe\">\n",
        "  <thead>\n",
        "    <tr style=\"text-align: right;\">\n",
        "      <th></th>\n",
        "      <th>1950</th>\n",
        "      <th>1955</th>\n",
        "      <th>1960</th>\n",
        "      <th>1965</th>\n",
        "      <th>1970</th>\n",
        "      <th>1975</th>\n",
        "      <th>1980</th>\n",
        "      <th>1985</th>\n",
        "      <th>1990</th>\n",
        "      <th>1995</th>\n",
        "      <th>...</th>\n",
        "      <th>2005</th>\n",
        "      <th>2010</th>\n",
        "      <th>2015</th>\n",
        "      <th>2020</th>\n",
        "      <th>2025</th>\n",
        "      <th>2030</th>\n",
        "      <th>2035</th>\n",
        "      <th>2040</th>\n",
        "      <th>2045</th>\n",
        "      <th>2050</th>\n",
        "    </tr>\n",
        "  </thead>\n",
        "  <tbody>\n",
        "    <tr>\n",
        "      <th>Afghanistan</th>\n",
        "      <td> 8150</td>\n",
        "      <td> 8891</td>\n",
        "      <td>  9829</td>\n",
        "      <td> 10998</td>\n",
        "      <td> 12431</td>\n",
        "      <td> 14132</td>\n",
        "      <td> 15044</td>\n",
        "      <td> 13120</td>\n",
        "      <td> 13568</td>\n",
        "      <td> 19445</td>\n",
        "      <td>...</td>\n",
        "      <td> 26335</td>\n",
        "      <td> 29121</td>\n",
        "      <td> 32564</td>\n",
        "      <td> 36644</td>\n",
        "      <td> 41117</td>\n",
        "      <td> 45665</td>\n",
        "      <td> 50195</td>\n",
        "      <td> 54717</td>\n",
        "      <td> 59255</td>\n",
        "      <td> 63795</td>\n",
        "    </tr>\n",
        "    <tr>\n",
        "      <th>Albania</th>\n",
        "      <td> 1227</td>\n",
        "      <td> 1392</td>\n",
        "      <td>  1623</td>\n",
        "      <td>  1884</td>\n",
        "      <td>  2157</td>\n",
        "      <td>  2401</td>\n",
        "      <td>  2671</td>\n",
        "      <td>  2957</td>\n",
        "      <td>  3245</td>\n",
        "      <td>  3158</td>\n",
        "      <td>...</td>\n",
        "      <td>  3025</td>\n",
        "      <td>  2987</td>\n",
        "      <td>  3029</td>\n",
        "      <td>  3075</td>\n",
        "      <td>  3105</td>\n",
        "      <td>  3103</td>\n",
        "      <td>  3062</td>\n",
        "      <td>  2994</td>\n",
        "      <td>  2912</td>\n",
        "      <td>  2824</td>\n",
        "    </tr>\n",
        "    <tr>\n",
        "      <th>Algeria</th>\n",
        "      <td> 8893</td>\n",
        "      <td> 9842</td>\n",
        "      <td> 10909</td>\n",
        "      <td> 11963</td>\n",
        "      <td> 13932</td>\n",
        "      <td> 16140</td>\n",
        "      <td> 18806</td>\n",
        "      <td> 22008</td>\n",
        "      <td> 25089</td>\n",
        "      <td> 28089</td>\n",
        "      <td>...</td>\n",
        "      <td> 32561</td>\n",
        "      <td> 34586</td>\n",
        "      <td> 36640</td>\n",
        "      <td> 38594</td>\n",
        "      <td> 40290</td>\n",
        "      <td> 41641</td>\n",
        "      <td> 42663</td>\n",
        "      <td> 43425</td>\n",
        "      <td> 43940</td>\n",
        "      <td> 44163</td>\n",
        "    </tr>\n",
        "    <tr>\n",
        "      <th>American Samoa</th>\n",
        "      <td>   19</td>\n",
        "      <td>   20</td>\n",
        "      <td>    20</td>\n",
        "      <td>    25</td>\n",
        "      <td>    27</td>\n",
        "      <td>    30</td>\n",
        "      <td>    32</td>\n",
        "      <td>    39</td>\n",
        "      <td>    47</td>\n",
        "      <td>    54</td>\n",
        "      <td>...</td>\n",
        "      <td>    62</td>\n",
        "      <td>    66</td>\n",
        "      <td>    71</td>\n",
        "      <td>    75</td>\n",
        "      <td>    79</td>\n",
        "      <td>    84</td>\n",
        "      <td>    87</td>\n",
        "      <td>    91</td>\n",
        "      <td>    95</td>\n",
        "      <td>    98</td>\n",
        "    </tr>\n",
        "    <tr>\n",
        "      <th>Andorra</th>\n",
        "      <td>    6</td>\n",
        "      <td>    6</td>\n",
        "      <td>     8</td>\n",
        "      <td>    14</td>\n",
        "      <td>    20</td>\n",
        "      <td>    27</td>\n",
        "      <td>    34</td>\n",
        "      <td>    45</td>\n",
        "      <td>    53</td>\n",
        "      <td>    63</td>\n",
        "      <td>...</td>\n",
        "      <td>    76</td>\n",
        "      <td>    85</td>\n",
        "      <td>    86</td>\n",
        "      <td>    86</td>\n",
        "      <td>    85</td>\n",
        "      <td>    84</td>\n",
        "      <td>    83</td>\n",
        "      <td>    81</td>\n",
        "      <td>    78</td>\n",
        "      <td>    75</td>\n",
        "    </tr>\n",
        "  </tbody>\n",
        "</table>\n",
        "<p>5 rows \u00d7 21 columns</p>\n",
        "</div>"
       ],
       "metadata": {},
       "output_type": "pyout",
       "prompt_number": 124,
       "text": [
        "                1950  1955   1960   1965   1970   1975   1980   1985   1990  \\\n",
        "Afghanistan     8150  8891   9829  10998  12431  14132  15044  13120  13568   \n",
        "Albania         1227  1392   1623   1884   2157   2401   2671   2957   3245   \n",
        "Algeria         8893  9842  10909  11963  13932  16140  18806  22008  25089   \n",
        "American Samoa    19    20     20     25     27     30     32     39     47   \n",
        "Andorra            6     6      8     14     20     27     34     45     53   \n",
        "\n",
        "                 1995  ...     2005   2010   2015   2020   2025   2030   2035  \\\n",
        "Afghanistan     19445  ...    26335  29121  32564  36644  41117  45665  50195   \n",
        "Albania          3158  ...     3025   2987   3029   3075   3105   3103   3062   \n",
        "Algeria         28089  ...    32561  34586  36640  38594  40290  41641  42663   \n",
        "American Samoa     54  ...       62     66     71     75     79     84     87   \n",
        "Andorra            63  ...       76     85     86     86     85     84     83   \n",
        "\n",
        "                 2040   2045   2050  \n",
        "Afghanistan     54717  59255  63795  \n",
        "Albania          2994   2912   2824  \n",
        "Algeria         43425  43940  44163  \n",
        "American Samoa     91     95     98  \n",
        "Andorra            81     78     75  \n",
        "\n",
        "[5 rows x 21 columns]"
       ]
      }
     ],
     "prompt_number": 124
    },
    {
     "cell_type": "markdown",
     "metadata": {},
     "source": [
      "## 2. Make Data for input X (year) , output Y ( population ) as a list\n",
      "### Only for 'South Korea' Data\n",
      "\n",
      "\n",
      "* From a loaded DataFrame, retrieve data only for South Korea\n",
      "* For input X ( year / 1950 ~ 2050 )\n",
      "* For output Y ( poupulation of each year of South Korea)\n",
      "\n",
      "** Hint: retrieve each data and use tolist()"
     ]
    },
    {
     "cell_type": "code",
     "collapsed": false,
     "input": [
      "# write yor code here\n",
      "xData = data.columns\n",
      "print xData\n",
      "yData = data.ix['South Korea']\n",
      "print yData"
     ],
     "language": "python",
     "metadata": {},
     "outputs": [
      {
       "output_type": "stream",
       "stream": "stdout",
       "text": [
        "Index([u'1950', u'1955', u'1960', u'1965', u'1970', u'1975', u'1980', u'1985', u'1990', u'1995', u'2000', u'2005', u'2010', u'2015', u'2020', u'2025', u'2030', u'2035', u'2040', u'2045', u'2050'], dtype='object')\n",
        "1950    20846\n",
        "1955    21552\n",
        "1960    24784\n",
        "1965    28705\n",
        "1970    32241\n",
        "1975    35281\n",
        "1980    38124\n",
        "1985    40806\n",
        "1990    42869\n",
        "1995    45105\n",
        "2000    46839\n",
        "2005    48005\n",
        "2010    48636\n",
        "2015    49115\n",
        "2020    49362\n",
        "2025    49372\n",
        "2030    49003\n",
        "2035    48172\n",
        "2040    46911\n",
        "2045    45284\n",
        "2050    43369\n",
        "Name: South Korea, dtype: int64\n"
       ]
      }
     ],
     "prompt_number": 125
    },
    {
     "cell_type": "code",
     "collapsed": false,
     "input": [
      "# provided code\n",
      "# By using np.array, make xData, yData as Array\n",
      "# make xData as int\n",
      "xData = np.transpose(np.array([map(int, xData)]))\n",
      "yData = np.transpose(np.array([yData]))\n",
      "\n",
      "\n",
      "print xData\n",
      "print yData"
     ],
     "language": "python",
     "metadata": {},
     "outputs": [
      {
       "output_type": "stream",
       "stream": "stdout",
       "text": [
        "[[1950]\n",
        " [1955]\n",
        " [1960]\n",
        " [1965]\n",
        " [1970]\n",
        " [1975]\n",
        " [1980]\n",
        " [1985]\n",
        " [1990]\n",
        " [1995]\n",
        " [2000]\n",
        " [2005]\n",
        " [2010]\n",
        " [2015]\n",
        " [2020]\n",
        " [2025]\n",
        " [2030]\n",
        " [2035]\n",
        " [2040]\n",
        " [2045]\n",
        " [2050]]\n",
        "[[20846]\n",
        " [21552]\n",
        " [24784]\n",
        " [28705]\n",
        " [32241]\n",
        " [35281]\n",
        " [38124]\n",
        " [40806]\n",
        " [42869]\n",
        " [45105]\n",
        " [46839]\n",
        " [48005]\n",
        " [48636]\n",
        " [49115]\n",
        " [49362]\n",
        " [49372]\n",
        " [49003]\n",
        " [48172]\n",
        " [46911]\n",
        " [45284]\n",
        " [43369]]\n"
       ]
      }
     ],
     "prompt_number": 126
    },
    {
     "cell_type": "markdown",
     "metadata": {},
     "source": [
      "## 3. Write a function for the linear regression and plot it\n",
      "### Only for 'South Korea' Data\n",
      "* input xData(np.array), yData(np.array)\n",
      "* output : a1, a0  in formula [ y = a1 * x + a0 ]\n",
      "* Write your own code for this\n",
      "* Reference your ppt slides or Google for detalied formula\n",
      "\n",
      "** Hint: retrieve each data and use tolist()"
     ]
    },
    {
     "cell_type": "code",
     "collapsed": false,
     "input": [
      "# write your code here\n",
      "def linear_regress(xData, yData):\n",
      "    a0 = 0\n",
      "    a1 = 0\n",
      "    xData = np.hstack((np.ones(xData.shape), xData))\n",
      "    # gradient descent or normal function\n",
      "    # numpy dot operation xData.dot(yData) = matrix multiplcation\n",
      "    # numpy xData.transpose()\n",
      "    # numpy linalg.pinv(xData)\n",
      "    # a0, a1 = operations\n",
      "    [a0, a1] = np.linalg.pinv(np.transpose(xData).dot(xData)).dot(np.transpose(xData)).dot(yData)\n",
      "    return a0, a1"
     ],
     "language": "python",
     "metadata": {},
     "outputs": [],
     "prompt_number": 127
    },
    {
     "cell_type": "markdown",
     "metadata": {},
     "source": [
      "## 3-2. Plot\n",
      "### Only for 'South Korea' Data\n",
      "* Plot data with linear regression line"
     ]
    },
    {
     "cell_type": "code",
     "collapsed": false,
     "input": [
      "# provided code\n",
      "\n",
      "a0, a1 = linear_regress(xData, yData)\n",
      "\n",
      "plt.scatter(xData,yData)\n",
      "x = np.linspace(1950, 2045, 50)\n",
      "y = a0+a1*x\n",
      "plt.plot(x, y, 'r--')"
     ],
     "language": "python",
     "metadata": {},
     "outputs": [
      {
       "metadata": {},
       "output_type": "pyout",
       "prompt_number": 128,
       "text": [
        "[<matplotlib.lines.Line2D at 0x7f61ff0f39d0>]"
       ]
      },
      {
       "metadata": {},
       "output_type": "display_data",
       "png": "[encoded data removed]",
       "text": [
        "<matplotlib.figure.Figure at 0x7f61ff0f37d0>"
       ]
      }
     ],
     "prompt_number": 128
    },
    {
     "cell_type": "code",
     "collapsed": false,
     "input": [
      "print a0 + a1 * 2060"
     ],
     "language": "python",
     "metadata": {},
     "outputs": [
      {
       "output_type": "stream",
       "stream": "stdout",
       "text": [
        "[ 56385.2199418]\n"
       ]
      }
     ],
     "prompt_number": 129
    },
    {
     "cell_type": "markdown",
     "metadata": {},
     "source": [
      "### Q. What is the predicted population of South Korea in 2060 by linear(1st) regression?\n",
      "\n",
      "#### Your answer here : \n",
      "\n",
      "The linear regression model gives a predicted population value of 56,385 (in thousand)."
     ]
    },
    {
     "cell_type": "markdown",
     "metadata": {},
     "source": [
      "## 4. Use a library to plot a qudaratic(2nd order) function\n",
      "### Only for 'South Korea' Data\n",
      "* use pylab lib for this to do the same process above"
     ]
    },
    {
     "cell_type": "code",
     "collapsed": false,
     "input": [
      "import pylab\n",
      "\n",
      "#write your code here\n",
      "z = pylab.polyfit(np.asarray(xData).reshape(-1), np.asarray(yData).reshape(-1), 2)\n",
      "f = pylab.poly1d(z)\n",
      "\n",
      "plt.scatter(xData,yData)\n",
      "x = np.linspace(1950, 2045, 50)\n",
      "y = f(x)\n",
      "plt.plot(x, y, 'r--')"
     ],
     "language": "python",
     "metadata": {},
     "outputs": [
      {
       "metadata": {},
       "output_type": "pyout",
       "prompt_number": 130,
       "text": [
        "[<matplotlib.lines.Line2D at 0x7f61ff0385d0>]"
       ]
      },
      {
       "metadata": {},
       "output_type": "display_data",
       "png": "[encoded data removed]",
       "text": [
        "<matplotlib.figure.Figure at 0x7f61ff0380d0>"
       ]
      }
     ],
     "prompt_number": 130
    },
    {
     "cell_type": "code",
     "collapsed": false,
     "input": [
      "quad_SKorea_2060 = f([2060])\n",
      "print quad_SKorea_2060"
     ],
     "language": "python",
     "metadata": {},
     "outputs": [
      {
       "output_type": "stream",
       "stream": "stdout",
       "text": [
        "[ 39986.51018455]\n"
       ]
      }
     ],
     "prompt_number": 131
    },
    {
     "cell_type": "markdown",
     "metadata": {},
     "source": [
      "### Q. What is the predicted population of South Korea in 2060 by quadratic(2nd) regression?\n",
      "\n",
      "#### Your answer here : \n",
      "39,986 (in thousand)"
     ]
    },
    {
     "cell_type": "markdown",
     "metadata": {},
     "source": [
      "## 5. Predict population of all nations in 2080\n",
      "### Use all Data\n",
      "\n",
      "* Use linear(1st) regression, quadratic(2nd) regression\n",
      "* You can use pylab for this case\n",
      "\n",
      "* Utilize dataFrame"
     ]
    },
    {
     "cell_type": "code",
     "collapsed": false,
     "input": [
      "\n",
      "# write your code here\n",
      "x_years = np.array(map(int, data.columns))\n",
      "y_population_all = data[:]\n",
      "\n",
      "y_population_all = y_population_all.transpose()\n",
      "\n",
      "# theta for linear regression\n",
      "print '<The 10 most populated countries in 2080 by linear regression>'\n",
      "theta = pylab.polyfit(x_years, y_population_all, 1)\n",
      "theta_by_countries = pd.DataFrame(theta, index = ['theta1', 'theta0'], columns = data.index)\n",
      "\n",
      "population_2080 = np.array([2080, 1]).dot(theta_by_countries)\n",
      "population_2080_linear = pd.DataFrame(map(int, population_2080), columns = ['2080 population'], index = data.index).sort(columns = ['2080 population'], ascending = False)\n",
      "print population_2080_linear.head(10)\n",
      "print\n",
      "\n",
      "# 10th place\n",
      "print '10th Place: ', population_2080_linear.iloc[9]\n",
      "print\n",
      "print\n",
      "print\n",
      "\n",
      "\n",
      "\n",
      "# theta for quadratic regression\n",
      "print '<The 10 most populated countries in 2080 by quadratic regression>'\n",
      "theta = pylab.polyfit(x_years, y_population_all, 2)\n",
      "theta_by_countries = pd.DataFrame(theta, index = ['theta2', 'theta1', 'theta0'], columns = data.index)\n",
      "\n",
      "population_2080 = np.array([2080*2080, 2080, 1]).dot(theta_by_countries)\n",
      "population_2080_quad = pd.DataFrame(map(int, population_2080), columns = ['2080 population'], index = data.index).sort(columns = ['2080 population'], ascending = False)\n",
      "print population_2080_quad.head(10)\n",
      "print\n",
      "\n",
      "# 10th Place\n",
      "print '10th Place: ', population_2080_quad.iloc[9]\n"
     ],
     "language": "python",
     "metadata": {},
     "outputs": [
      {
       "output_type": "stream",
       "stream": "stdout",
       "text": [
        "<The 10 most populated countries in 2080 by linear regression>\n",
        "               2080 population\n",
        "India                  2133333\n",
        "China                  1804252\n",
        "United States           499728\n",
        "Nigeria                 446127\n",
        "Indonesia               410791\n",
        "Pakistan                374336\n",
        "Brazil                  348807\n",
        "Bangladesh              316128\n",
        "Ethiopia                287309\n",
        "Philippines             215117\n",
        "\n",
        "10th Place:  2080 population    215117\n",
        "Name: Philippines, dtype: int64\n",
        "\n",
        "\n",
        "\n",
        "<The 10 most populated countries in 2080 by quadratic regression>\n",
        "               2080 population\n",
        "India                  2148371\n",
        "China                  1057709\n",
        "Nigeria                 648648\n",
        "United States           517076\n",
        "Ethiopia                473970\n",
        "Pakistan                408619\n",
        "Indonesia               377280\n",
        "Bangladesh              350334\n",
        "Brazil                  304344\n",
        "Philippines             248492\n",
        "\n",
        "10th Place:  2080 population    248492\n",
        "Name: Philippines, dtype: int64\n"
       ]
      }
     ],
     "prompt_number": 132
    },
    {
     "cell_type": "markdown",
     "metadata": {},
     "source": [
      "### Q. Which country has the 10th most population using linear(1st), quadratic(2nd) regression in 2080?\n",
      "\n",
      "#### Your answer for linear(1st) regresion in 2080 : \n",
      "Philippines\n",
      "#### Your answer for quadratic(2nd) regresion in 2080 : \n",
      "Philippines"
     ]
    },
    {
     "cell_type": "code",
     "collapsed": false,
     "input": [],
     "language": "python",
     "metadata": {},
     "outputs": [],
     "prompt_number": 132
    }
   ],
   "metadata": {}
  }
 ]
}