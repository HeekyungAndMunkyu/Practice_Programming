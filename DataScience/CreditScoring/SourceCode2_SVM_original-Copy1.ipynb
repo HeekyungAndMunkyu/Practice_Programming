{
 "cells": [
  {
   "cell_type": "markdown",
   "metadata": {},
   "source": [
    "#Credit Scoring: Predict the probability of going default \n",
    "    Algorithm: Support Vector Machine (10 features with 1 target)\n",
    "\n",
    "    Data: https://www.kaggle.com/c/GiveMeSomeCredit\n",
    "    \n",
    "    By: Hee Kyung, Yoon"
   ]
  },
  {
   "cell_type": "code",
   "execution_count": 1,
   "metadata": {
    "collapsed": true
   },
   "outputs": [],
   "source": [
    "%matplotlib inline \n",
    "\n",
    "import pandas as pd\n",
    "import matplotlib.pyplot as plt\n",
    "import numpy as np"
   ]
  },
  {
   "cell_type": "markdown",
   "metadata": {
    "collapsed": false
   },
   "source": [
    "## 0. LOAD DATA\n",
    "    1. load data\n",
    "    2. check data\n",
    "\n",
    "## 1. PROCESS DATA (-> X, y)\n",
    "    1. split data into training, cross validation and test data sets\n",
    "    2. splitData to X & y\n",
    "    3. featureScale\n",
    "\n",
    "\n",
    "## 2. BUILD FIRST MODEL\n",
    "    1. Train   \n",
    "    2. Predict\n",
    "\n",
    "## 3. EVALUATE MODEL\n",
    "    Learning Curve\n",
    "    \n",
    "## 4. MODIFY MODEL\n",
    "    1. Add polynomial features\n",
    "    2. Modify C (regularization term)\n",
    "    3. Modify Threshold\n",
    "    4. Modified Model\n",
    "\n",
    "----------------------------------------------------------------------------------------------------------------------------------------------------"
   ]
  },
  {
   "cell_type": "markdown",
   "metadata": {},
   "source": [
    "# 0. LOAD DATA\n",
    "    1. load data\n",
    "    2. check data"
   ]
  },
  {
   "cell_type": "code",
   "execution_count": 3,
   "metadata": {
    "collapsed": false
   },
   "outputs": [
    {
     "name": "stdout",
     "output_type": "stream",
     "text": [
      "\n",
      "Data Columns:\n",
      "\t0 \tSeriousDlqin2yrs\n",
      "\t1 \tRevolvingUtilizationOfUnsecuredLines\n",
      "\t2 \tage\n",
      "\t3 \tNumberOfTime30-59DaysPastDueNotWorse\n",
      "\t4 \tDebtRatio\n",
      "\t5 \tMonthlyIncome\n",
      "\t6 \tNumberOfOpenCreditLinesAndLoans\n",
      "\t7 \tNumberOfTimes90DaysLate\n",
      "\t8 \tNumberRealEstateLoansOrLines\n",
      "\t9 \tNumberOfTime60-89DaysPastDueNotWorse\n",
      "\t10 \tNumberOfDependents\n",
      "\n",
      "Shape is:\n",
      "(150000, 11)\n",
      "   SeriousDlqin2yrs  RevolvingUtilizationOfUnsecuredLines  age  \\\n",
      "1                 1                              0.766127   45   \n",
      "2                 0                              0.957151   40   \n",
      "3                 0                              0.658180   38   \n",
      "4                 0                              0.233810   30   \n",
      "5                 0                              0.907239   49   \n",
      "\n",
      "   NumberOfTime30-59DaysPastDueNotWorse  DebtRatio  MonthlyIncome  \\\n",
      "1                                     2   0.802982           9120   \n",
      "2                                     0   0.121876           2600   \n",
      "3                                     1   0.085113           3042   \n",
      "4                                     0   0.036050           3300   \n",
      "5                                     1   0.024926          63588   \n",
      "\n",
      "   NumberOfOpenCreditLinesAndLoans  NumberOfTimes90DaysLate  \\\n",
      "1                               13                        0   \n",
      "2                                4                        0   \n",
      "3                                2                        1   \n",
      "4                                5                        0   \n",
      "5                                7                        0   \n",
      "\n",
      "   NumberRealEstateLoansOrLines  NumberOfTime60-89DaysPastDueNotWorse  \\\n",
      "1                             6                                     0   \n",
      "2                             0                                     0   \n",
      "3                             0                                     0   \n",
      "4                             0                                     0   \n",
      "5                             1                                     0   \n",
      "\n",
      "   NumberOfDependents  \n",
      "1                   2  \n",
      "2                   1  \n",
      "3                   0  \n",
      "4                   0  \n",
      "5                   0  \n"
     ]
    }
   ],
   "source": [
    "def load(filename):\n",
    "    '''\n",
    "    filenname: string ('test.csv')\n",
    "    \n",
    "    returns: DataFrame\n",
    "    '''\n",
    "    data = pd.DataFrame.from_csv(filename, encoding = 'utf-8')\n",
    "    print '\\nData Columns:'\n",
    "    for i in range(len(data.columns)):\n",
    "        print '\\t',i,'\\t', data.columns[i]\n",
    "\n",
    "    check(data)\n",
    "    \n",
    "    return data\n",
    "\n",
    "def check(X):\n",
    "    '''\n",
    "    X: DataFrame or Series\n",
    "    \n",
    "        prints shape and head\n",
    "    \n",
    "    returns: None\n",
    "    '''\n",
    "    print '\\nShape is:\\n', X.shape\n",
    "    print X.head()\n",
    "\n",
    "data = load('cs-training.csv')"
   ]
  },
  {
   "cell_type": "markdown",
   "metadata": {},
   "source": [
    "#1. PROCESS DATA (-> X, y)\n",
    "    1. split data into Training, Cross validation & Test sets\n",
    "    2. splitData to X & y\n",
    "    3. featureScale"
   ]
  },
  {
   "cell_type": "code",
   "execution_count": 3,
   "metadata": {
    "collapsed": false,
    "scrolled": true
   },
   "outputs": [
    {
     "data": {
      "text/plain": [
       "\"\\n# Shuffle index\\nindex = np.array(data.index)\\nrandom.shuffle(index)\\n\\nprint index.shape\\nprint index\\n\\n# training set (60%)\\ntrainingSize = data.shape[0] * 0.60\\ntraining = data.ix[index[:trainingSize]]\\n\\ntraining.to_csv('training.csv', encoding='utf-8')\\n\\nprint '\\n', training.shape\\nprint training.head()\\n\\n# crossValidation set (20%)\\ncrossValSize = data.shape[0] * 0.20\\ncrossValidation = data.ix[index[trainingSize:trainingSize + crossValSize]]\\n\\ncrossValidation.to_csv('crossValidation.csv', encoding='utf-8')\\n\\nprint '\\n', crossValidation.shape\\n\\n# test set (20%)\\ntest = data.ix[index[trainingSize + crossValSize:]]\\n\\ntest.to_csv('test.csv', encoding = 'utf-8')\\n\\nprint '\\n', crossValidation.shape\\n\""
      ]
     },
     "execution_count": 3,
     "metadata": {},
     "output_type": "execute_result"
    }
   ],
   "source": [
    "# 1. Split data into training data, cross validation data, and test data\n",
    "\n",
    "import random\n",
    "\n",
    "'''\n",
    "# Shuffle index\n",
    "index = np.array(data.index)\n",
    "random.shuffle(index)\n",
    "\n",
    "print index.shape\n",
    "print index\n",
    "\n",
    "# training set (60%)\n",
    "trainingSize = data.shape[0] * 0.60\n",
    "training = data.ix[index[:trainingSize]]\n",
    "\n",
    "training.to_csv('training.csv', encoding='utf-8')\n",
    "\n",
    "print '\\n', training.shape\n",
    "print training.head()\n",
    "\n",
    "# crossValidation set (20%)\n",
    "crossValSize = data.shape[0] * 0.20\n",
    "crossValidation = data.ix[index[trainingSize:trainingSize + crossValSize]]\n",
    "\n",
    "crossValidation.to_csv('crossValidation.csv', encoding='utf-8')\n",
    "\n",
    "print '\\n', crossValidation.shape\n",
    "\n",
    "# test set (20%)\n",
    "test = data.ix[index[trainingSize + crossValSize:]]\n",
    "\n",
    "test.to_csv('test.csv', encoding = 'utf-8')\n",
    "\n",
    "print '\\n', crossValidation.shape\n",
    "'''"
   ]
  },
  {
   "cell_type": "code",
   "execution_count": 4,
   "metadata": {
    "collapsed": false
   },
   "outputs": [
    {
     "name": "stdout",
     "output_type": "stream",
     "text": [
      "\n",
      "Data Columns:\n",
      "\t0 \tSeriousDlqin2yrs\n",
      "\t1 \tRevolvingUtilizationOfUnsecuredLines\n",
      "\t2 \tage\n",
      "\t3 \tNumberOfTime30-59DaysPastDueNotWorse\n",
      "\t4 \tDebtRatio\n",
      "\t5 \tMonthlyIncome\n",
      "\t6 \tNumberOfOpenCreditLinesAndLoans\n",
      "\t7 \tNumberOfTimes90DaysLate\n",
      "\t8 \tNumberRealEstateLoansOrLines\n",
      "\t9 \tNumberOfTime60-89DaysPastDueNotWorse\n",
      "\t10 \tNumberOfDependents\n",
      "\n",
      "Shape is:\n",
      "(90000, 11)\n",
      "        SeriousDlqin2yrs  RevolvingUtilizationOfUnsecuredLines  age  \\\n",
      "42082                  1                              1.173509   33   \n",
      "47463                  0                              0.040118   67   \n",
      "6412                   0                              0.228882   68   \n",
      "142967                 0                              0.558521   50   \n",
      "51191                  0                              0.000000   65   \n",
      "\n",
      "        NumberOfTime30-59DaysPastDueNotWorse  DebtRatio  MonthlyIncome  \\\n",
      "42082                                      3   0.430443           5570   \n",
      "47463                                      0   0.007237          10500   \n",
      "6412                                       0   0.137878           3872   \n",
      "142967                                     0   0.211546          12800   \n",
      "51191                                      0   0.007198           3750   \n",
      "\n",
      "        NumberOfOpenCreditLinesAndLoans  NumberOfTimes90DaysLate  \\\n",
      "42082                                13                        5   \n",
      "47463                                17                        0   \n",
      "6412                                  6                        0   \n",
      "142967                               21                        0   \n",
      "51191                                 4                        0   \n",
      "\n",
      "        NumberRealEstateLoansOrLines  NumberOfTime60-89DaysPastDueNotWorse  \\\n",
      "42082                              0                                     2   \n",
      "47463                              0                                     0   \n",
      "6412                               0                                     0   \n",
      "142967                             1                                     0   \n",
      "51191                              0                                     0   \n",
      "\n",
      "        NumberOfDependents  \n",
      "42082                    2  \n",
      "47463                    0  \n",
      "6412                     0  \n",
      "142967                   1  \n",
      "51191                    0  \n",
      "\n",
      "Data Columns:\n",
      "\t0 \tSeriousDlqin2yrs\n",
      "\t1 \tRevolvingUtilizationOfUnsecuredLines\n",
      "\t2 \tage\n",
      "\t3 \tNumberOfTime30-59DaysPastDueNotWorse\n",
      "\t4 \tDebtRatio\n",
      "\t5 \tMonthlyIncome\n",
      "\t6 \tNumberOfOpenCreditLinesAndLoans\n",
      "\t7 \tNumberOfTimes90DaysLate\n",
      "\t8 \tNumberRealEstateLoansOrLines\n",
      "\t9 \tNumberOfTime60-89DaysPastDueNotWorse\n",
      "\t10 \tNumberOfDependents\n",
      "\n",
      "Shape is:\n",
      "(30000, 11)\n",
      "        SeriousDlqin2yrs  RevolvingUtilizationOfUnsecuredLines  age  \\\n",
      "49580                  0                              0.101980   25   \n",
      "137319                 0                              0.203251   30   \n",
      "22462                  0                              0.000000   56   \n",
      "76006                  0                              1.000000   33   \n",
      "47830                  1                              0.428823   32   \n",
      "\n",
      "        NumberOfTime30-59DaysPastDueNotWorse  DebtRatio  MonthlyIncome  \\\n",
      "49580                                      0   0.019711            760   \n",
      "137319                                     0   0.508192           3600   \n",
      "22462                                      0   0.023098          10000   \n",
      "76006                                      0   0.050352           2700   \n",
      "47830                                      0   0.530735           2000   \n",
      "\n",
      "        NumberOfOpenCreditLinesAndLoans  NumberOfTimes90DaysLate  \\\n",
      "49580                                 4                        0   \n",
      "137319                                7                        0   \n",
      "22462                                 3                        0   \n",
      "76006                                 1                        1   \n",
      "47830                                10                        0   \n",
      "\n",
      "        NumberRealEstateLoansOrLines  NumberOfTime60-89DaysPastDueNotWorse  \\\n",
      "49580                              0                                     0   \n",
      "137319                             1                                     0   \n",
      "22462                              0                                     0   \n",
      "76006                              0                                     0   \n",
      "47830                              0                                     0   \n",
      "\n",
      "        NumberOfDependents  \n",
      "49580                    0  \n",
      "137319                   1  \n",
      "22462                    1  \n",
      "76006                    2  \n",
      "47830                    0  \n",
      "\n",
      "Data Columns:\n",
      "\t0 \tSeriousDlqin2yrs\n",
      "\t1 \tRevolvingUtilizationOfUnsecuredLines\n",
      "\t2 \tage\n",
      "\t3 \tNumberOfTime30-59DaysPastDueNotWorse\n",
      "\t4 \tDebtRatio\n",
      "\t5 \tMonthlyIncome\n",
      "\t6 \tNumberOfOpenCreditLinesAndLoans\n",
      "\t7 \tNumberOfTimes90DaysLate\n",
      "\t8 \tNumberRealEstateLoansOrLines\n",
      "\t9 \tNumberOfTime60-89DaysPastDueNotWorse\n",
      "\t10 \tNumberOfDependents\n",
      "\n",
      "Shape is:\n",
      "(30000, 11)\n",
      "        SeriousDlqin2yrs  RevolvingUtilizationOfUnsecuredLines  age  \\\n",
      "78751                  0                              0.850287   28   \n",
      "54161                  0                              0.000000   63   \n",
      "138873                 0                              0.423724   50   \n",
      "133206                 0                              0.177595   39   \n",
      "76455                  1                              0.242489   45   \n",
      "\n",
      "        NumberOfTime30-59DaysPastDueNotWorse  DebtRatio  MonthlyIncome  \\\n",
      "78751                                      1   0.321053           2849   \n",
      "54161                                      0   0.411579           9793   \n",
      "138873                                     0   0.182776           7500   \n",
      "133206                                     0   0.275217           8287   \n",
      "76455                                      0   0.427167           5999   \n",
      "\n",
      "        NumberOfOpenCreditLinesAndLoans  NumberOfTimes90DaysLate  \\\n",
      "78751                                 4                        0   \n",
      "54161                                11                        0   \n",
      "138873                                5                        0   \n",
      "133206                               15                        0   \n",
      "76455                                11                        0   \n",
      "\n",
      "        NumberRealEstateLoansOrLines  NumberOfTime60-89DaysPastDueNotWorse  \\\n",
      "78751                              0                                     1   \n",
      "54161                              2                                     0   \n",
      "138873                             1                                     0   \n",
      "133206                             1                                     0   \n",
      "76455                              1                                     0   \n",
      "\n",
      "        NumberOfDependents  \n",
      "78751                    2  \n",
      "54161                    0  \n",
      "138873                   0  \n",
      "133206                   3  \n",
      "76455                    1  \n"
     ]
    }
   ],
   "source": [
    "# load split data\n",
    "\n",
    "training = load('training.csv')\n",
    "cv = load('crossValidation.csv')\n",
    "test = load('test.csv')"
   ]
  },
  {
   "cell_type": "code",
   "execution_count": 5,
   "metadata": {
    "collapsed": false,
    "scrolled": false
   },
   "outputs": [],
   "source": [
    "# 2. splitData to X & y\n",
    "\n",
    "def splitData(Xandy):\n",
    "    '''\n",
    "    Xandy:\n",
    "    \n",
    "    returns: X, y\n",
    "    '''\n",
    "    X = Xandy.iloc[:, 1:]\n",
    "    #check(Xtrain)\n",
    "\n",
    "    y = Xandy['SeriousDlqin2yrs']\n",
    "    #check(ytrain)\n",
    "    \n",
    "    # fill nan with 0\n",
    "    X = X.fillna(0)\n",
    "    y = y.fillna(0)\n",
    "    return X, y\n",
    "\n",
    "\n",
    "\n",
    "# 3. feature scaling X\n",
    "def featureScale(X):\n",
    "    '''\n",
    "    X: DataFrame\n",
    "    \n",
    "    returns: DataFrame (feature scaled)\n",
    "    '''\n",
    "    for col in range(X.shape[1]):\n",
    "        #print 'col index:', col\n",
    "        copied = X.iloc[:, col]\n",
    "        #print 'head\\n', copied.head()\n",
    "        #print 'mean: ', copied.mean()\n",
    "        #print 'std: ', copied.std()\n",
    "        X.iloc[:, col] = (copied - copied.mean())/copied.std()\n",
    "    return X"
   ]
  },
  {
   "cell_type": "code",
   "execution_count": 7,
   "metadata": {
    "collapsed": false
   },
   "outputs": [
    {
     "name": "stdout",
     "output_type": "stream",
     "text": [
      "\n",
      "Shape is:\n",
      "(90000, 10)\n",
      "        RevolvingUtilizationOfUnsecuredLines       age  \\\n",
      "42082                              -0.021570 -1.303803   \n",
      "47463                              -0.027005  0.996573   \n",
      "6412                               -0.026100  1.064231   \n",
      "142967                             -0.024519 -0.153615   \n",
      "51191                              -0.027197  0.861257   \n",
      "\n",
      "        NumberOfTime30-59DaysPastDueNotWorse  DebtRatio  MonthlyIncome  \\\n",
      "42082                               0.599827  -0.240037       0.018670   \n",
      "47463                              -0.100036  -0.240334       0.435878   \n",
      "6412                               -0.100036  -0.240243      -0.125025   \n",
      "142967                             -0.100036  -0.240191       0.630518   \n",
      "51191                              -0.100036  -0.240334      -0.135349   \n",
      "\n",
      "        NumberOfOpenCreditLinesAndLoans  NumberOfTimes90DaysLate  \\\n",
      "42082                          0.889610                 1.108264   \n",
      "47463                          1.669514                -0.064323   \n",
      "6412                          -0.475221                -0.064323   \n",
      "142967                         2.449418                -0.064323   \n",
      "51191                         -0.865173                -0.064323   \n",
      "\n",
      "        NumberRealEstateLoansOrLines  NumberOfTime60-89DaysPastDueNotWorse  \\\n",
      "42082                      -0.907734                              0.412244   \n",
      "47463                      -0.907734                             -0.058292   \n",
      "6412                       -0.907734                             -0.058292   \n",
      "142967                     -0.015446                             -0.058292   \n",
      "51191                      -0.907734                             -0.058292   \n",
      "\n",
      "        NumberOfDependents  \n",
      "42082             1.136616  \n",
      "47463            -0.665820  \n",
      "6412             -0.665820  \n",
      "142967            0.235398  \n",
      "51191            -0.665820  \n"
     ]
    }
   ],
   "source": [
    "Xtrain, ytrain = splitData(training)\n",
    "Xtrain = featureScale(Xtrain)\n",
    "check(Xtrain)\n",
    "\n",
    "Xcv, ycv = splitData(cv)\n",
    "Xcv = featureScale(Xcv)\n",
    "\n",
    "Xtest, ytest = splitData(test)\n",
    "Xtest = featureScale(Xtest)"
   ]
  },
  {
   "cell_type": "markdown",
   "metadata": {
    "collapsed": false
   },
   "source": [
    "# 2. BUILD FIRST MODEL\n",
    "    1. Train\n",
    "        method 1) Manually Implemented\n",
    "        method 2) LogisticRegression module -> We'll stick to this onward!\n",
    "    2. Predict"
   ]
  },
  {
   "cell_type": "code",
   "execution_count": 8,
   "metadata": {
    "collapsed": false
   },
   "outputs": [
    {
     "data": {
      "text/plain": [
       "SVC(C=1.0, cache_size=200, class_weight=None, coef0=0.0, degree=3, gamma=0.0,\n",
       "  kernel='rbf', max_iter=-1, probability=True, random_state=None,\n",
       "  shrinking=True, tol=0.001, verbose=False)"
      ]
     },
     "execution_count": 8,
     "metadata": {},
     "output_type": "execute_result"
    }
   ],
   "source": [
    "# 1. Train\n",
    "from sklearn.svm import SVC\n",
    "\n",
    "clf = SVC(probability = True)\n",
    "clf.fit(Xtrain, ytrain)"
   ]
  },
  {
   "cell_type": "code",
   "execution_count": 10,
   "metadata": {
    "collapsed": false
   },
   "outputs": [],
   "source": [
    "# 2. Predict\n",
    "\n",
    "from sklearn.metrics import precision_recall_fscore_support\n",
    "\n",
    "def predict(clf, X, y, threshold = 0.5):\n",
    "    '''\n",
    "    clf\n",
    "    X\n",
    "    y\n",
    "    threshold\n",
    "    \n",
    "        prints measures (accuracy, precision, recall, F-score)\n",
    "    \n",
    "    returns: prediction(vector) \n",
    "            \n",
    "    '''\n",
    "    # get prediction\n",
    "    prediction = getPrediction(clf, X, threshold)\n",
    "    \n",
    "    # get measures\n",
    "    measures = getMeasures(y, prediction)\n",
    "    accuracy, precision, recall, fscore = measures\n",
    "    \n",
    "    print '\\naccuracy', accuracy\n",
    "    print 'precision', precision\n",
    "    print 'recall', recall\n",
    "    print 'fscore', fscore\n",
    "    \n",
    "    return prediction\n",
    "\n",
    "def getPrediction(clf, X, threshold = 0.5):\n",
    "    '''\n",
    "    clf: LogisticRegression()\n",
    "    X\n",
    "    threshold\n",
    "    \n",
    "    return: prediction (label vector)\n",
    "    '''\n",
    "    #proba = clf.predict_proba(X)[:,1]\n",
    "    #return (proba > threshold) * 1\n",
    "    print clf.classes_\n",
    "    proba_all = clf.predict_proba(X)\n",
    "    plt.figure()\n",
    "    plt.hist(proba_all[:,0])\n",
    "    plt.figure()\n",
    "    plt.hist(proba_all[:,1])\n",
    "    print proba_all\n",
    "    \n",
    "    return (proba_all[:, 1] > threshold) * 1\n",
    "\n",
    "def getMeasures(y, prediction):\n",
    "    '''\n",
    "    \n",
    "    returns: measures\n",
    "    '''\n",
    "    accuracy = (prediction == y).mean()\n",
    "    \n",
    "    precision, recall, f_score, support = \\\n",
    "        precision_recall_fscore_support(y, prediction, average = 'binary')\n",
    "    \n",
    "    measures = (accuracy, precision, recall, f_score)\n",
    "    return measures"
   ]
  },
  {
   "cell_type": "code",
   "execution_count": 12,
   "metadata": {
    "collapsed": false
   },
   "outputs": [
    {
     "name": "stdout",
     "output_type": "stream",
     "text": [
      "[0 1]\n",
      "[[ 0.93866628  0.06133372]\n",
      " [ 0.93974663  0.06025337]\n",
      " [ 0.93960432  0.06039568]\n",
      " ..., \n",
      " [ 0.94228848  0.05771152]\n",
      " [ 0.93965913  0.06034087]\n",
      " [ 0.93975344  0.06024656]]\n",
      "\n",
      "accuracy 0.9357\n",
      "precision 0.636042402827\n",
      "recall 0.0897308075773\n",
      "fscore 0.157273918742\n",
      "\n",
      "[0 0 0 ..., 0 0 0]\n"
     ]
    },
    {
     "data": {
      "image/png": "[encoded data removed]",
      "text/plain": [
       "<matplotlib.figure.Figure at 0x10657f290>"
      ]
     },
     "metadata": {},
     "output_type": "display_data"
    },
    {
     "data": {
      "image/png": "[encoded data removed]",
      "text/plain": [
       "<matplotlib.figure.Figure at 0x10d929810>"
      ]
     },
     "metadata": {},
     "output_type": "display_data"
    }
   ],
   "source": [
    "prediction = predict(clf, Xtest, ytest)\n",
    "print '\\n', prediction"
   ]
  },
  {
   "cell_type": "code",
   "execution_count": 11,
   "metadata": {
    "collapsed": false
   },
   "outputs": [
    {
     "name": "stdout",
     "output_type": "stream",
     "text": [
      "\n",
      "accuracy 0.935033333333\n",
      "precision 0.747826086957\n",
      "recall 0.0428713858425\n",
      "fscore 0.0810938236681\n"
     ]
    }
   ],
   "source": [
    "pred = clf.predict(Xtest)\n",
    "\n",
    "# get measures\n",
    "measures = getMeasures(ytest, pred)\n",
    "accuracy, precision, recall, fscore = measures\n",
    "    \n",
    "print '\\naccuracy', accuracy\n",
    "print 'precision', precision\n",
    "print 'recall', recall\n",
    "print 'fscore', fscore"
   ]
  },
  {
   "cell_type": "code",
   "execution_count": 19,
   "metadata": {
    "collapsed": false
   },
   "outputs": [
    {
     "name": "stdout",
     "output_type": "stream",
     "text": [
      "[0 1]\n",
      "[[ 0.93866628  0.06133372]\n",
      " [ 0.93974663  0.06025337]\n",
      " [ 0.93960432  0.06039568]\n",
      " ..., \n",
      " [ 0.94228848  0.05771152]\n",
      " [ 0.93965913  0.06034087]\n",
      " [ 0.93975344  0.06024656]]\n",
      "\n",
      "accuracy 0.0710333333333\n",
      "precision 0.0661007281146\n",
      "recall 0.982053838485\n",
      "fscore 0.123864315131\n",
      "\n",
      "[1 1 1 ..., 1 1 1]\n"
     ]
    },
    {
     "data": {
      "image/png": "[encoded data removed]",
      "text/plain": [
       "<matplotlib.figure.Figure at 0x10f200390>"
      ]
     },
     "metadata": {},
     "output_type": "display_data"
    },
    {
     "data": {
      "image/png": "[encoded data removed]",
      "text/plain": [
       "<matplotlib.figure.Figure at 0x10f027d90>"
      ]
     },
     "metadata": {},
     "output_type": "display_data"
    }
   ],
   "source": [
    "prediction = predict(clf, Xtest, ytest, threshold = 0.05)\n",
    "print '\\n', prediction"
   ]
  },
  {
   "cell_type": "code",
   "execution_count": 18,
   "metadata": {
    "collapsed": false
   },
   "outputs": [
    {
     "name": "stdout",
     "output_type": "stream",
     "text": [
      "[0 1]\n",
      "[[ 0.93866628  0.06133372]\n",
      " [ 0.93974663  0.06025337]\n",
      " [ 0.93960432  0.06039568]\n",
      " ..., \n",
      " [ 0.94228848  0.05771152]\n",
      " [ 0.93965913  0.06034087]\n",
      " [ 0.93975344  0.06024656]]\n",
      "\n",
      "accuracy 0.9325\n",
      "precision 0.492193919474\n",
      "recall 0.298604187438\n",
      "fscore 0.371703381942\n",
      "\n",
      "[0 0 0 ..., 0 0 0]\n"
     ]
    },
    {
     "data": {
      "image/png": "[encoded data removed]",
      "text/plain": [
       "<matplotlib.figure.Figure at 0x10f087390>"
      ]
     },
     "metadata": {},
     "output_type": "display_data"
    },
    {
     "data": {
      "image/png": "[encoded data removed]",
      "text/plain": [
       "<matplotlib.figure.Figure at 0x10f1cb550>"
      ]
     },
     "metadata": {},
     "output_type": "display_data"
    }
   ],
   "source": [
    "prediction = predict(clf, Xtest, ytest, threshold = 0.075)\n",
    "print '\\n', prediction"
   ]
  },
  {
   "cell_type": "code",
   "execution_count": 13,
   "metadata": {
    "collapsed": false
   },
   "outputs": [
    {
     "name": "stdout",
     "output_type": "stream",
     "text": [
      "[0 1]\n",
      "[[ 0.93866628  0.06133372]\n",
      " [ 0.93974663  0.06025337]\n",
      " [ 0.93960432  0.06039568]\n",
      " ..., \n",
      " [ 0.94228848  0.05771152]\n",
      " [ 0.93965913  0.06034087]\n",
      " [ 0.93975344  0.06024656]]\n",
      "\n",
      "accuracy 0.934566666667\n",
      "precision 0.523293607801\n",
      "recall 0.240777666999\n",
      "fscore 0.329805394333\n",
      "\n",
      "[0 0 0 ..., 0 0 0]\n"
     ]
    },
    {
     "data": {
      "image/png": "[encoded data removed]",
      "text/plain": [
       "<matplotlib.figure.Figure at 0x10da4ce10>"
      ]
     },
     "metadata": {},
     "output_type": "display_data"
    },
    {
     "data": {
      "image/png": "[encoded data removed]",
      "text/plain": [
       "<matplotlib.figure.Figure at 0x10d9db5d0>"
      ]
     },
     "metadata": {},
     "output_type": "display_data"
    }
   ],
   "source": [
    "prediction = predict(clf, Xtest, ytest, threshold = 0.1)\n",
    "print '\\n', prediction"
   ]
  },
  {
   "cell_type": "code",
   "execution_count": 17,
   "metadata": {
    "collapsed": false
   },
   "outputs": [
    {
     "name": "stdout",
     "output_type": "stream",
     "text": [
      "[0 1]\n",
      "[[ 0.93866628  0.06133372]\n",
      " [ 0.93974663  0.06025337]\n",
      " [ 0.93960432  0.06039568]\n",
      " ..., \n",
      " [ 0.94228848  0.05771152]\n",
      " [ 0.93965913  0.06034087]\n",
      " [ 0.93975344  0.06024656]]\n",
      "\n",
      "accuracy 0.935266666667\n",
      "precision 0.542440318302\n",
      "recall 0.203888334995\n",
      "fscore 0.296376811594\n",
      "\n",
      "[0 0 0 ..., 0 0 0]\n"
     ]
    },
    {
     "data": {
      "image/png": "[encoded data removed]",
      "text/plain": [
       "<matplotlib.figure.Figure at 0x10ee5d8d0>"
      ]
     },
     "metadata": {},
     "output_type": "display_data"
    },
    {
     "data": {
      "image/png": "[encoded data removed]",
      "text/plain": [
       "<matplotlib.figure.Figure at 0x10ef3e910>"
      ]
     },
     "metadata": {},
     "output_type": "display_data"
    }
   ],
   "source": [
    "prediction = predict(clf, Xtest, ytest, threshold = 0.125)\n",
    "print '\\n', prediction"
   ]
  },
  {
   "cell_type": "code",
   "execution_count": 16,
   "metadata": {
    "collapsed": false
   },
   "outputs": [
    {
     "name": "stdout",
     "output_type": "stream",
     "text": [
      "[0 1]\n",
      "[[ 0.93866628  0.06133372]\n",
      " [ 0.93974663  0.06025337]\n",
      " [ 0.93960432  0.06039568]\n",
      " ..., \n",
      " [ 0.94228848  0.05771152]\n",
      " [ 0.93965913  0.06034087]\n",
      " [ 0.93975344  0.06024656]]\n",
      "\n",
      "accuracy 0.936166666667\n",
      "precision 0.570762052877\n",
      "recall 0.18295114656\n",
      "fscore 0.277085692714\n",
      "\n",
      "[0 0 0 ..., 0 0 0]\n"
     ]
    },
    {
     "data": {
      "image/png": "[encoded data removed]",
      "text/plain": [
       "<matplotlib.figure.Figure at 0x10dd62b10>"
      ]
     },
     "metadata": {},
     "output_type": "display_data"
    },
    {
     "data": {
      "image/png": "[encoded data removed]",
      "text/plain": [
       "<matplotlib.figure.Figure at 0x10ecafa10>"
      ]
     },
     "metadata": {},
     "output_type": "display_data"
    }
   ],
   "source": [
    "prediction = predict(clf, Xtest, ytest, threshold = 0.15)\n",
    "print '\\n', prediction"
   ]
  },
  {
   "cell_type": "code",
   "execution_count": 14,
   "metadata": {
    "collapsed": false
   },
   "outputs": [
    {
     "name": "stdout",
     "output_type": "stream",
     "text": [
      "[0 1]\n",
      "[[ 0.93866628  0.06133372]\n",
      " [ 0.93974663  0.06025337]\n",
      " [ 0.93960432  0.06039568]\n",
      " ..., \n",
      " [ 0.94228848  0.05771152]\n",
      " [ 0.93965913  0.06034087]\n",
      " [ 0.93975344  0.06024656]]\n",
      "\n",
      "accuracy 0.936533333333\n",
      "precision 0.595505617978\n",
      "recall 0.15852442672\n",
      "fscore 0.250393700787\n",
      "\n",
      "[0 0 0 ..., 0 0 0]\n"
     ]
    },
    {
     "data": {
      "image/png": "[encoded data removed]",
      "text/plain": [
       "<matplotlib.figure.Figure at 0x10d6bd850>"
      ]
     },
     "metadata": {},
     "output_type": "display_data"
    },
    {
     "data": {
      "image/png": "[encoded data removed]",
      "text/plain": [
       "<matplotlib.figure.Figure at 0x10db1e390>"
      ]
     },
     "metadata": {},
     "output_type": "display_data"
    }
   ],
   "source": [
    "prediction = predict(clf, Xtest, ytest, threshold = 0.2)\n",
    "print '\\n', prediction"
   ]
  },
  {
   "cell_type": "code",
   "execution_count": 15,
   "metadata": {
    "collapsed": false
   },
   "outputs": [
    {
     "name": "stdout",
     "output_type": "stream",
     "text": [
      "[0 1]\n",
      "[[ 0.93866628  0.06133372]\n",
      " [ 0.93974663  0.06025337]\n",
      " [ 0.93960432  0.06039568]\n",
      " ..., \n",
      " [ 0.94228848  0.05771152]\n",
      " [ 0.93965913  0.06034087]\n",
      " [ 0.93975344  0.06024656]]\n",
      "\n",
      "accuracy 0.9362\n",
      "precision 0.611111111111\n",
      "recall 0.126121635095\n",
      "fscore 0.209090909091\n",
      "\n",
      "[0 0 0 ..., 0 0 0]\n"
     ]
    },
    {
     "data": {
      "image/png": "[encoded data removed]",
      "text/plain": [
       "<matplotlib.figure.Figure at 0x10dc653d0>"
      ]
     },
     "metadata": {},
     "output_type": "display_data"
    },
    {
     "data": {
      "image/png": "[encoded data removed]",
      "text/plain": [
       "<matplotlib.figure.Figure at 0x10dd470d0>"
      ]
     },
     "metadata": {},
     "output_type": "display_data"
    }
   ],
   "source": [
    "prediction = predict(clf, Xtest, ytest, threshold = 0.3)\n",
    "print '\\n', prediction"
   ]
  },
  {
   "cell_type": "markdown",
   "metadata": {},
   "source": [
    "#3. Evaluate Model\n",
    "    Learning Curve"
   ]
  },
  {
   "cell_type": "code",
   "execution_count": 12,
   "metadata": {
    "collapsed": true
   },
   "outputs": [],
   "source": [
    "def learningCurve(listOfNum, Xtrain, ytrain, Xcv, ycv, C = 1):\n",
    "    '''\n",
    "        prints learning curve\n",
    "    returns: None\n",
    "    '''\n",
    "    accuracyTList = []\n",
    "    accuracyCvList = []\n",
    "    fscoreTList = []\n",
    "    fscoreCvList = []\n",
    "    \n",
    "    clf = LogisticRegression(C = C)\n",
    "    \n",
    "    for i in listOfNum:\n",
    "        # slice training examples       \n",
    "        Xt_part = Xtrain.iloc[0:i,:]\n",
    "        yt_part = ytrain.iloc[0:i]\n",
    "        \n",
    "        # train\n",
    "        clf.fit(Xt_part, yt_part)\n",
    "        \n",
    "        # predict & get accuracy\n",
    "        accuracy, precision, recall, fscore = getMeasures(yt_part, \\\n",
    "                                                  getPrediction(clf, Xt_part))\n",
    "        accuracyCv, precisionCv, recallCv, fscoreCv = getMeasures(ycv, \\\n",
    "                                                  getPrediction(clf, Xcv))\n",
    "        \n",
    "        accuracyTList.append(accuracy)\n",
    "        accuracyCvList.append(accuracyCv)\n",
    "        fscoreTList.append(fscore)\n",
    "        fscoreCvList.append(fscoreCv)\n",
    "        \n",
    "        print accuracy, accuracyCv\n",
    "\n",
    "    # plot learning curve\n",
    "    plt.plot(listOfNum, accuracyTList, label = 'Accuracy Train')\n",
    "    plt.plot(listOfNum, accuracyCvList, label = 'Accuracy Cv')\n",
    "    #plt.plot(listOfNum, fscoreTList, label = 'Fscore Train')\n",
    "    #plt.plot(listOfNum, fscoreCvList, label = 'Fscore Cv')\n",
    "    \n",
    "    plt.legend(loc='best')\n",
    "    plt.xticks(rotation=70) \n",
    "    plt.xlabel(\"# of train data\")\n",
    "    plt.ylabel(\"Accuracy\")\n",
    "    plt.title(\"Learning Curve\")\n",
    "    \n",
    "    \n",
    "    return"
   ]
  },
  {
   "cell_type": "code",
   "execution_count": 92,
   "metadata": {
    "collapsed": false
   },
   "outputs": [
    {
     "name": "stdout",
     "output_type": "stream",
     "text": [
      "0.98 0.931166666667\n",
      "0.937647058824 0.931733333333\n",
      "0.93495049505 0.932033333333\n",
      "0.934370860927 0.932366666667\n",
      "0.93368159204 0.932766666667\n",
      "0.934780876494 0.932766666667\n",
      "0.933687707641 0.932766666667\n",
      "0.933703703704 0.932666666667\n",
      "0.934064837905 0.932733333333\n",
      "0.933680709534 0.932733333333\n",
      "0.934111776447 0.9328\n",
      "0.934083484574 0.9328\n",
      "0.933793677205 0.932666666667\n",
      "0.934055299539 0.9327\n",
      "0.934194008559 0.932766666667\n",
      "0.934167776298 0.932666666667\n",
      "0.93429463171 0.932733333333\n",
      "0.93428907168 0.9327\n"
     ]
    },
    {
     "data": {
      "image/png": "[encoded data removed]",
      "text/plain": [
       "<matplotlib.figure.Figure at 0x107345250>"
      ]
     },
     "metadata": {},
     "output_type": "display_data"
    }
   ],
   "source": [
    "learningCurve(range(100, 90000, 5000), Xtrain, ytrain, Xcv, ycv, C = 1)"
   ]
  },
  {
   "cell_type": "markdown",
   "metadata": {},
   "source": [
    "# 4. MODIFY MODEL\n",
    "    1. Modify Threshold\n",
    "    2. Add polynomial features\n",
    "    3. Modify C (regularization term)\n",
    "    4. Modified Model"
   ]
  },
  {
   "cell_type": "markdown",
   "metadata": {},
   "source": [
    "###1. Modify Threshold"
   ]
  },
  {
   "cell_type": "code",
   "execution_count": 13,
   "metadata": {
    "collapsed": true
   },
   "outputs": [],
   "source": [
    "# 3. Threshold\n",
    "\n",
    "def bestThreshold(listOfNum, Xtrain, ytrain, Xcv, ycv, C):\n",
    "    '''\n",
    "    returns: float, best Threshold\n",
    "    '''\n",
    "    fscoreList = []\n",
    "    accuracyList = []\n",
    "\n",
    "    for i in listOfNum:\n",
    "\n",
    "        # 1 train\n",
    "        clf = SVC(probability = True, C = C)\n",
    "        clf.fit(Xtrain, ytrain)\n",
    "\n",
    "        # 2 get measures\n",
    "        accuracy, precision, recall, fscore = getMeasures(ycv, \\\n",
    "                                                          getPrediction(clf, Xcv, threshold = i))\n",
    "\n",
    "        fscoreList.append(fscore)\n",
    "        accuracyList.append(accuracy)\n",
    "\n",
    "        print \"\\nWhen Threshold is %f, accuracy is %f and fscore is %f.\" % (i, accuracy, fscore)\n",
    "\n",
    "    # plot learning curve\n",
    "    plt.plot(listOfNum, fscoreList, label = 'F-score')\n",
    "    plt.plot(listOfNum, accuracyList, label = 'Accuracy')\n",
    "\n",
    "    plt.legend(loc='best')\n",
    "    plt.xticks(rotation=70) \n",
    "    plt.xlabel(\"Threshold\")\n",
    "    plt.ylabel(\"F-score\")\n",
    "    plt.title(\"Threshold - F-score relationship\")\n",
    "    \n",
    "    maxFscore = max(fscoreList)\n",
    "    maxIndex = fscoreList.index(maxFscore)\n",
    "\n",
    "    return listOfNum[maxIndex]"
   ]
  },
  {
   "cell_type": "code",
   "execution_count": null,
   "metadata": {
    "collapsed": false
   },
   "outputs": [],
   "source": [
    "bestT = bestThreshold(np.linspace(0, 0.5, 21), Xtrain, ytrain, Xcv, ycv, C = 2)\n",
    "print '\\nThreshold that maximizes F-score >>', bestT"
   ]
  },
  {
   "cell_type": "markdown",
   "metadata": {},
   "source": [
    "###2. Optimize Kernel\n",
    "        1) rbf\n",
    "        2) poly\n",
    "        3) linear\n",
    "        4) sigmoid\n",
    "        5) precomputed"
   ]
  },
  {
   "cell_type": "code",
   "execution_count": 19,
   "metadata": {
    "collapsed": false
   },
   "outputs": [],
   "source": [
    "# 2) find optimum polynomial degree\n",
    "\n",
    "def bestKernel(listOfKernel, Xtrain, ytrain, Xcv, ycv, C = 1, threshold = 0.5):\n",
    "    '''\n",
    "        prints Kernel - F-score relationship\n",
    "    returns: int, best kernel\n",
    "    '''\n",
    "    \n",
    "    accuracyList = []\n",
    "    fscoreList = []\n",
    "\n",
    "    for i in listOfKernel:\n",
    "        print 'Kernel: %d' % i\n",
    "\n",
    "        # 2 train\n",
    "        clf = SVC(probability = True, C = C)\n",
    "        clf.fit(Xtrain, ytrain)\n",
    "\n",
    "        # 3 get measures\n",
    "        accuracy, precision, recall, fscore = getMeasures(ycv, getPrediction(clf, Xcv, threshold))\n",
    "        \n",
    "        accuracyList.append(accuracy)\n",
    "        fscoreList.append(fscore)\n",
    "    \n",
    "    # plot relationship\n",
    "    plt.figure()\n",
    "    plt.plot(listOfKernel, fscoreList, label = 'F-score')\n",
    "    plt.plot(listOfKernel, accuracyList, label = 'Accuracy')\n",
    "\n",
    "    plt.legend(loc='best')\n",
    "    plt.xticks(rotation=70) \n",
    "    plt.xlabel(\"Polynomial term\")\n",
    "    plt.ylabel(\"F-score\")\n",
    "    plt.title(\"Polynomial term - F-score relationship\")\n",
    "    \n",
    "    maxFscore = max(fscoreList)\n",
    "    maxIndex = fscoreList.index(maxFscore)\n",
    "    \n",
    "    return listOfNum[maxIndex]"
   ]
  },
  {
   "cell_type": "code",
   "execution_count": null,
   "metadata": {
    "collapsed": true
   },
   "outputs": [],
   "source": [
    "plt.plot(['a','b'], [1, 1000])"
   ]
  },
  {
   "cell_type": "markdown",
   "metadata": {
    "collapsed": false
   },
   "source": [
    "# bestP = bestPoly(['linear', 'poly', 'rbf', 'sigmoid', 'precomputed'], Xtrain, ytrain, Xcv, ycv, \\\n",
    "                 C = 1, threshold = bestT)\n",
    "print '\\nPolynomial term that maximizes F-score >>', bestP"
   ]
  },
  {
   "cell_type": "code",
   "execution_count": null,
   "metadata": {
    "collapsed": true
   },
   "outputs": [],
   "source": [
    "# poly 3 kernel \n",
    "clfPoly3 = SVC(probability = True, kernel = 'poly')\n",
    "clfPoly3.fit(Xtrain, ytrain)\n",
    "\n",
    "pred = clfPoly3.predict(Xtest)\n",
    "\n",
    "# get measures\n",
    "measures = getMeasures(ytest, pred)\n",
    "accuracy, precision, recall, fscore = measures\n",
    "    \n",
    "print '\\naccuracy', accuracy\n",
    "print 'precision', precision\n",
    "print 'recall', recall\n",
    "print 'fscore', fscore"
   ]
  },
  {
   "cell_type": "markdown",
   "metadata": {},
   "source": [
    "###3. Modify C (regularization term)"
   ]
  },
  {
   "cell_type": "code",
   "execution_count": 21,
   "metadata": {
    "collapsed": false
   },
   "outputs": [],
   "source": [
    "# 3. Modify C\n",
    "\n",
    "def bestC(listOfNum, Xtrain, ytrain, Xcv, ycv, threshold = 0.5):\n",
    "    accuracyList = []\n",
    "    fscoreList = []\n",
    "    \n",
    "    for i in listOfNum:\n",
    "\n",
    "        # 1 train\n",
    "        clf = LogisticRegression(C = i)\n",
    "        clf.fit(Xtrain, ytrain)\n",
    "\n",
    "        # 2 get measures\n",
    "        accuracy, precision, recall, fscore = getMeasures(ycv, \\\n",
    "                                                          getPrediction(clf, Xcv, threshold))\n",
    "        accuracyList.append(accuracy)\n",
    "        fscoreList.append(fscore)\n",
    "\n",
    "        print '\\nWhen C = %d, accuracy is %f and f-score is %f.' % (i, accuracy, fscore)\n",
    "    \n",
    "    # plot relationship\n",
    "    plt.figure()\n",
    "    plt.plot(listOfNum, fscoreList, label = 'F-score')\n",
    "    plt.plot(listOfNum, accuracyList, label = 'Accuracy')\n",
    "\n",
    "    plt.legend(loc='best')\n",
    "    plt.xticks(rotation=70) \n",
    "    plt.xlabel(\"C\")\n",
    "    plt.ylabel(\"F-score\")\n",
    "    plt.title(\"C - F-score relationship\")\n",
    "\n",
    "    maxFscore = max(fscoreList)\n",
    "    maxIndex = fscoreList.index(maxFscore)\n",
    "\n",
    "    return listOfNum[maxIndex]"
   ]
  },
  {
   "cell_type": "code",
   "execution_count": 22,
   "metadata": {
    "collapsed": false
   },
   "outputs": [
    {
     "name": "stdout",
     "output_type": "stream",
     "text": [
      "[0 1]\n",
      "[[ 0.88824954  0.11175046]\n",
      " [ 0.89137608  0.10862392]\n",
      " [ 0.95408751  0.04591249]\n",
      " ..., \n",
      " [ 0.96496549  0.03503451]\n",
      " [ 0.96099681  0.03900319]\n",
      " [ 0.96149334  0.03850666]]\n",
      "\n",
      "When C = 1, accuracy is 0.904100 and f-score is 0.345690.\n",
      "[0 1]\n",
      "[[ 0.92582886  0.07417114]\n",
      " [ 0.92541112  0.07458888]\n",
      " [ 0.96281562  0.03718438]\n",
      " ..., \n",
      " [ 0.96799411  0.03200589]\n",
      " [ 0.96489082  0.03510918]\n",
      " [ 0.96370105  0.03629895]]\n",
      "\n",
      "When C = 2, accuracy is 0.910967 and f-score is 0.404725.\n",
      "[0 1]\n",
      "[[ 0.93097284  0.06902716]\n",
      " [ 0.93054095  0.06945905]\n",
      " [ 0.9677383   0.0322617 ]\n",
      " ..., \n",
      " [ 0.97224066  0.02775934]\n",
      " [ 0.96863801  0.03136199]\n",
      " [ 0.96726824  0.03273176]]\n",
      "\n",
      "When C = 3, accuracy is 0.909600 and f-score is 0.414002.\n",
      "[0 1]\n",
      "[[ 0.89505909  0.10494091]\n",
      " [ 0.89607243  0.10392757]\n",
      " [ 0.95365668  0.04634332]\n",
      " ..., \n",
      " [ 0.96466298  0.03533702]\n",
      " [ 0.96050801  0.03949199]\n",
      " [ 0.96123489  0.03876511]]\n",
      "\n",
      "When C = 4, accuracy is 0.910767 and f-score is 0.358187.\n",
      "[0 1]\n",
      "[[ 0.89144388  0.10855612]\n",
      " [ 0.89351233  0.10648767]\n",
      " [ 0.95401131  0.04598869]\n",
      " ..., \n",
      " [ 0.96491333  0.03508667]\n",
      " [ 0.96083756  0.03916244]\n",
      " [ 0.96144528  0.03855472]]\n",
      "\n",
      "When C = 5, accuracy is 0.907167 and f-score is 0.349755.\n",
      "[0 1]\n",
      "[[ 0.92978958  0.07021042]\n",
      " [ 0.92946945  0.07053055]\n",
      " [ 0.96652442  0.03347558]\n",
      " ..., \n",
      " [ 0.97090235  0.02909765]\n",
      " [ 0.96708004  0.03291996]\n",
      " [ 0.96662342  0.03337658]]\n",
      "\n",
      "When C = 6, accuracy is 0.910067 and f-score is 0.411688.\n",
      "[0 1]\n",
      "[[ 0.89549735  0.10450265]\n",
      " [ 0.89633341  0.10366659]\n",
      " [ 0.95366039  0.04633961]\n",
      " ..., \n",
      " [ 0.96466214  0.03533786]\n",
      " [ 0.96049333  0.03950667]\n",
      " [ 0.96123065  0.03876935]]\n",
      "\n",
      "When C = 7, accuracy is 0.911067 and f-score is 0.358654.\n",
      "[0 1]\n",
      "[[ 0.9163056   0.0836944 ]\n",
      " [ 0.91619053  0.08380947]\n",
      " [ 0.95173776  0.04826224]\n",
      " ..., \n",
      " [ 0.96113956  0.03886044]\n",
      " [ 0.95676227  0.04323773]\n",
      " [ 0.95664643  0.04335357]]\n",
      "\n",
      "When C = 8, accuracy is 0.915500 and f-score is 0.395421.\n",
      "[0 1]\n",
      "[[ 0.92607892  0.07392108]\n",
      " [ 0.925768    0.074232  ]\n",
      " [ 0.95891717  0.04108283]\n",
      " ..., \n",
      " [ 0.96580825  0.03419175]\n",
      " [ 0.96206752  0.03793248]\n",
      " [ 0.95952459  0.04047541]]\n",
      "\n",
      "When C = 9, accuracy is 0.913167 and f-score is 0.401562.\n",
      "[0 1]\n",
      "[[ 0.92596402  0.07403598]\n",
      " [ 0.92527776  0.07472224]\n",
      " [ 0.95880402  0.04119598]\n",
      " ..., \n",
      " [ 0.96508327  0.03491673]\n",
      " [ 0.96087856  0.03912144]\n",
      " [ 0.95825159  0.04174841]]\n",
      "\n",
      "When C = 10, accuracy is 0.912733 and f-score is 0.400915.\n",
      "\n",
      "C that maximizes F-score >> 3.0\n"
     ]
    },
    {
     "data": {
      "image/png": "[encoded data removed]",
      "text/plain": [
       "<matplotlib.figure.Figure at 0x110e0b650>"
      ]
     },
     "metadata": {},
     "output_type": "display_data"
    },
    {
     "data": {
      "image/png": "[encoded data removed]",
      "text/plain": [
       "<matplotlib.figure.Figure at 0x1172dec10>"
      ]
     },
     "metadata": {},
     "output_type": "display_data"
    },
    {
     "data": {
      "image/png": "[encoded data removed]",
      "text/plain": [
       "<matplotlib.figure.Figure at 0x116a34990>"
      ]
     },
     "metadata": {},
     "output_type": "display_data"
    },
    {
     "data": {
      "image/png": "[encoded data removed]",
      "text/plain": [
       "<matplotlib.figure.Figure at 0x1149e3e50>"
      ]
     },
     "metadata": {},
     "output_type": "display_data"
    },
    {
     "data": {
      "image/png": "[encoded data removed]",
      "text/plain": [
       "<matplotlib.figure.Figure at 0x11682bc90>"
      ]
     },
     "metadata": {},
     "output_type": "display_data"
    },
    {
     "data": {
      "image/png": "[encoded data removed]",
      "text/plain": [
       "<matplotlib.figure.Figure at 0x1185c8ad0>"
      ]
     },
     "metadata": {},
     "output_type": "display_data"
    },
    {
     "data": {
      "image/png": "[encoded data removed]",
      "text/plain": [
       "<matplotlib.figure.Figure at 0x1168d87d0>"
      ]
     },
     "metadata": {},
     "output_type": "display_data"
    },
    {
     "data": {
      "image/png": "[encoded data removed]",
      "text/plain": [
       "<matplotlib.figure.Figure at 0x11673dbd0>"
      ]
     },
     "metadata": {},
     "output_type": "display_data"
    },
    {
     "data": {
      "image/png": "[encoded data removed]",
      "text/plain": [
       "<matplotlib.figure.Figure at 0x115bc9f90>"
      ]
     },
     "metadata": {},
     "output_type": "display_data"
    },
    {
     "data": {
      "image/png": "[encoded data removed]",
      "text/plain": [
       "<matplotlib.figure.Figure at 0x115c94810>"
      ]
     },
     "metadata": {},
     "output_type": "display_data"
    },
    {
     "data": {
      "image/png": "[encoded data removed]",
      "text/plain": [
       "<matplotlib.figure.Figure at 0x11635b110>"
      ]
     },
     "metadata": {},
     "output_type": "display_data"
    },
    {
     "data": {
      "image/png": "[encoded data removed]",
      "text/plain": [
       "<matplotlib.figure.Figure at 0x116a6d290>"
      ]
     },
     "metadata": {},
     "output_type": "display_data"
    },
    {
     "data": {
      "image/png": "[encoded data removed]",
      "text/plain": [
       "<matplotlib.figure.Figure at 0x115ccde90>"
      ]
     },
     "metadata": {},
     "output_type": "display_data"
    },
    {
     "data": {
      "image/png": "[encoded data removed]",
      "text/plain": [
       "<matplotlib.figure.Figure at 0x114c15a90>"
      ]
     },
     "metadata": {},
     "output_type": "display_data"
    },
    {
     "data": {
      "image/png": "[encoded data removed]",
      "text/plain": [
       "<matplotlib.figure.Figure at 0x116347b90>"
      ]
     },
     "metadata": {},
     "output_type": "display_data"
    },
    {
     "data": {
      "image/png": "[encoded data removed]",
      "text/plain": [
       "<matplotlib.figure.Figure at 0x1175e0b10>"
      ]
     },
     "metadata": {},
     "output_type": "display_data"
    },
    {
     "data": {
      "image/png": "[encoded data removed]",
      "text/plain": [
       "<matplotlib.figure.Figure at 0x1187751d0>"
      ]
     },
     "metadata": {},
     "output_type": "display_data"
    },
    {
     "data": {
      "image/png": "[encoded data removed]",
      "text/plain": [
       "<matplotlib.figure.Figure at 0x118ab0210>"
      ]
     },
     "metadata": {},
     "output_type": "display_data"
    },
    {
     "data": {
      "image/png": "[encoded data removed]",
      "text/plain": [
       "<matplotlib.figure.Figure at 0x1189893d0>"
      ]
     },
     "metadata": {},
     "output_type": "display_data"
    },
    {
     "data": {
      "image/png": "[encoded data removed]",
      "text/plain": [
       "<matplotlib.figure.Figure at 0x114d4a8d0>"
      ]
     },
     "metadata": {},
     "output_type": "display_data"
    },
    {
     "data": {
      "image/png": "[encoded data removed]",
      "text/plain": [
       "<matplotlib.figure.Figure at 0x1173aba50>"
      ]
     },
     "metadata": {},
     "output_type": "display_data"
    }
   ],
   "source": [
    "XtrainPoly = polyFeature(bestP, Xtrain)\n",
    "XcvPoly = polyFeature(bestP, Xcv)\n",
    "\n",
    "bestc = bestC(np.linspace(1, 10, 10), XtrainPoly, ytrain, XcvPoly, ycv, threshold = bestT)\n",
    "print '\\nC that maximizes F-score >>', bestc"
   ]
  },
  {
   "cell_type": "markdown",
   "metadata": {},
   "source": [
    "### 4. Modified Model\n",
    "    Train again with modified parameters\n",
    "    (Higher f-score expected, in sacrifice of accuracy)\n",
    "    1. Modified Threshold: 0.125\n",
    "    2. Modified Polynomial Term: 2\n",
    "    3. Modified C: 3"
   ]
  },
  {
   "cell_type": "code",
   "execution_count": 23,
   "metadata": {
    "collapsed": false
   },
   "outputs": [
    {
     "name": "stdout",
     "output_type": "stream",
     "text": [
      "[0 1]\n",
      "[[ 0.72347191  0.27652809]\n",
      " [ 0.9752811   0.0247189 ]\n",
      " [ 0.96431433  0.03568567]\n",
      " ..., \n",
      " [ 0.91913798  0.08086202]\n",
      " [ 0.92066416  0.07933584]\n",
      " [ 0.97249043  0.02750957]]\n",
      "\n",
      "accuracy 0.909433333333\n",
      "precision 0.361295357004\n",
      "recall 0.461615154536\n",
      "fscore 0.405340337054\n"
     ]
    },
    {
     "data": {
      "image/png": "[encoded data removed]",
      "text/plain": [
       "<matplotlib.figure.Figure at 0x1141d70d0>"
      ]
     },
     "metadata": {},
     "output_type": "display_data"
    },
    {
     "data": {
      "image/png": "[encoded data removed]",
      "text/plain": [
       "<matplotlib.figure.Figure at 0x116890cd0>"
      ]
     },
     "metadata": {},
     "output_type": "display_data"
    }
   ],
   "source": [
    "# 1. Modified Threshold: 0.125\n",
    "bestT\n",
    "\n",
    "# 2. Modified polynomial degree: 2\n",
    "XtrainPoly = polyFeature(bestP, Xtrain)\n",
    "XtestPoly = polyFeature(bestP, Xtest)\n",
    "\n",
    "# 3. Modified C: 3\n",
    "bestc\n",
    "\n",
    "# Modified Model\n",
    "    # Train\n",
    "bestClf = LogisticRegression(C = bestc)\n",
    "bestClf.fit(XtrainPoly, ytrain)\n",
    "\n",
    "    # Predict\n",
    "bestPrediction = predict(bestClf, XtestPoly, ytest, threshold = bestT)"
   ]
  },
  {
   "cell_type": "code",
   "execution_count": 24,
   "metadata": {
    "collapsed": false
   },
   "outputs": [
    {
     "data": {
      "text/plain": [
       "array([0, 1])"
      ]
     },
     "execution_count": 24,
     "metadata": {},
     "output_type": "execute_result"
    }
   ],
   "source": [
    "bestClf.classes_"
   ]
  },
  {
   "cell_type": "code",
   "execution_count": 25,
   "metadata": {
    "collapsed": true
   },
   "outputs": [],
   "source": [
    "trainPoly = np.append(XtrainPoly, np.array(ytrain).reshape(90000,1), axis = 1)\n",
    "np.savetxt('training_unbalanced_poly.csv', trainPoly, delimiter=',')"
   ]
  },
  {
   "cell_type": "code",
   "execution_count": null,
   "metadata": {
    "collapsed": true
   },
   "outputs": [],
   "source": []
  }
 ],
 "metadata": {
  "kernelspec": {
   "display_name": "Python 2",
   "language": "python",
   "name": "python2"
  },
  "language_info": {
   "codemirror_mode": {
    "name": "ipython",
    "version": 2
   },
   "file_extension": ".py",
   "mimetype": "text/x-python",
   "name": "python",
   "nbconvert_exporter": "python",
   "pygments_lexer": "ipython2",
   "version": "2.7.9"
  }
 },
 "nbformat": 4,
 "nbformat_minor": 0
}
