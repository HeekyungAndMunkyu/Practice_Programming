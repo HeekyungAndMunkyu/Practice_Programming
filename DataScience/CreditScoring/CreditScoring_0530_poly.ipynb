{
 "cells": [
  {
   "cell_type": "markdown",
   "metadata": {},
   "source": [
    "#Credit Scoring: Predict the probability of going default \n",
    "    Algorithm: Logistic Regression (10 features with 1 target)\n",
    "\n",
    "    Data: https://www.kaggle.com/c/GiveMeSomeCredit\n",
    "    \n",
    "    By: Hee Kyung, Yoon"
   ]
  },
  {
   "cell_type": "code",
   "execution_count": 1,
   "metadata": {
    "collapsed": true
   },
   "outputs": [],
   "source": [
    "%matplotlib inline \n",
    "\n",
    "import pandas as pd\n",
    "import matplotlib.pyplot as plt\n",
    "import numpy as np\n",
    "import random\n",
    "from scipy.optimize import fmin_cg\n",
    "from sklearn.metrics import precision_recall_fscore_support"
   ]
  },
  {
   "cell_type": "markdown",
   "metadata": {},
   "source": [
    "#Table of Contents\n",
    "# I. BUILD MODEL\n",
    "1. LOAD DATA\n",
    "\n",
    "2. PROCESS DATA (-> X, y)\n",
    "\n",
    "3. TRAIN (-> theta)\n",
    "\n",
    "4. PREDICT (-> h(x))\n",
    "\n",
    "5. GET ACCURACY & F-SCORE\n",
    "\n",
    "\n",
    "\n",
    "# II. MODIFY MODEL\n",
    "1. Analysis (Learning Curve) -> high bias or high variance?\n",
    "\n",
    "2. Modify Lambda\n",
    "\n",
    "3. Modify Threshold\n",
    "\n",
    "4. Add/Drop features\n",
    "\n",
    "5. Modified Model\n",
    "\n",
    "-------------------------------------------------------------"
   ]
  },
  {
   "cell_type": "markdown",
   "metadata": {
    "collapsed": false
   },
   "source": [
    "\n",
    "# I. BUILD MODEL\n",
    "## 1. LOAD DATA\n",
    "    load data\n",
    "    split data into training, cross validation and test data sets\n",
    "\n",
    "## 2. PROCESS DATA (-> X, y)\n",
    "    feature scaling\n",
    "    add bias terms\n",
    "\n",
    "## 3. TRAIN (-> theta)\n",
    "    theta = fmincg(CostFunction, X, y, lambda, initial_theta)\n",
    "\n",
    "    (J, grad) = CostFunction(X, y, lambda)\n",
    "\n",
    "## 4. PREDICT (-> h(x))\n",
    "\n",
    "    h = predict(X)\n",
    "\n",
    "## 5. GET ACCURACY & F-SCORE"
   ]
  },
  {
   "cell_type": "code",
   "execution_count": 2,
   "metadata": {
    "collapsed": false
   },
   "outputs": [
    {
     "name": "stdout",
     "output_type": "stream",
     "text": [
      "\n",
      "Data Columns:\n",
      "\t0 \tSeriousDlqin2yrs\n",
      "\t1 \tRevolvingUtilizationOfUnsecuredLines\n",
      "\t2 \tage\n",
      "\t3 \tNumberOfTime30-59DaysPastDueNotWorse\n",
      "\t4 \tDebtRatio\n",
      "\t5 \tMonthlyIncome\n",
      "\t6 \tNumberOfOpenCreditLinesAndLoans\n",
      "\t7 \tNumberOfTimes90DaysLate\n",
      "\t8 \tNumberRealEstateLoansOrLines\n",
      "\t9 \tNumberOfTime60-89DaysPastDueNotWorse\n",
      "\t10 \tNumberOfDependents\n",
      "\n",
      "Shape is:\n",
      "(150000, 11)\n",
      "   SeriousDlqin2yrs  RevolvingUtilizationOfUnsecuredLines  age  \\\n",
      "1                 1                              0.766127   45   \n",
      "2                 0                              0.957151   40   \n",
      "3                 0                              0.658180   38   \n",
      "4                 0                              0.233810   30   \n",
      "5                 0                              0.907239   49   \n",
      "\n",
      "   NumberOfTime30-59DaysPastDueNotWorse  DebtRatio  MonthlyIncome  \\\n",
      "1                                     2   0.802982           9120   \n",
      "2                                     0   0.121876           2600   \n",
      "3                                     1   0.085113           3042   \n",
      "4                                     0   0.036050           3300   \n",
      "5                                     1   0.024926          63588   \n",
      "\n",
      "   NumberOfOpenCreditLinesAndLoans  NumberOfTimes90DaysLate  \\\n",
      "1                               13                        0   \n",
      "2                                4                        0   \n",
      "3                                2                        1   \n",
      "4                                5                        0   \n",
      "5                                7                        0   \n",
      "\n",
      "   NumberRealEstateLoansOrLines  NumberOfTime60-89DaysPastDueNotWorse  \\\n",
      "1                             6                                     0   \n",
      "2                             0                                     0   \n",
      "3                             0                                     0   \n",
      "4                             0                                     0   \n",
      "5                             1                                     0   \n",
      "\n",
      "   NumberOfDependents  \n",
      "1                   2  \n",
      "2                   1  \n",
      "3                   0  \n",
      "4                   0  \n",
      "5                   0  \n"
     ]
    }
   ],
   "source": [
    "# 1. Load Data\n",
    "\n",
    "\n",
    "def load(filename):\n",
    "    '''\n",
    "    filenname: string ('test.csv')\n",
    "    \n",
    "    returns: DataFrame\n",
    "    '''\n",
    "    data = pd.DataFrame.from_csv(filename, encoding = 'utf-8')\n",
    "    print '\\nData Columns:'\n",
    "    for i in range(len(data.columns)):\n",
    "        print '\\t',i,'\\t', data.columns[i]\n",
    "\n",
    "    check(data)\n",
    "    \n",
    "    return data\n",
    "\n",
    "def check(X):\n",
    "    '''\n",
    "    X: DataFrame or Series\n",
    "    \n",
    "        prints shape and head\n",
    "    \n",
    "    returns: None\n",
    "    '''\n",
    "    print '\\nShape is:\\n', X.shape\n",
    "    print X.head()\n",
    "\n",
    "data = load('cs-training.csv')"
   ]
  },
  {
   "cell_type": "code",
   "execution_count": 3,
   "metadata": {
    "collapsed": false,
    "scrolled": true
   },
   "outputs": [
    {
     "data": {
      "text/plain": [
       "\"\\n# Shuffle index\\nindex = np.array(data.index)\\nrandom.shuffle(index)\\n\\nprint index.shape\\nprint index\\n\\n# training set (60%)\\ntrainingSize = data.shape[0] * 0.60\\ntraining = data.ix[index[:trainingSize]]\\n\\ntraining.to_csv('training.csv', encoding='utf-8')\\n\\nprint '\\n', training.shape\\nprint training.head()\\n\\n# crossValidation set (20%)\\ncrossValSize = data.shape[0] * 0.20\\ncrossValidation = data.ix[index[trainingSize:trainingSize + crossValSize]]\\n\\ncrossValidation.to_csv('crossValidation.csv', encoding='utf-8')\\n\\nprint '\\n', crossValidation.shape\\n\\n# test set (20%)\\ntest = data.ix[index[trainingSize + crossValSize:]]\\n\\ntest.to_csv('test.csv', encoding = 'utf-8')\\n\\nprint '\\n', crossValidation.shape\\n\""
      ]
     },
     "execution_count": 3,
     "metadata": {},
     "output_type": "execute_result"
    }
   ],
   "source": [
    "#Split data into training data, cross validation data, and test data\n",
    "\n",
    "\n",
    "'''\n",
    "# Shuffle index\n",
    "index = np.array(data.index)\n",
    "random.shuffle(index)\n",
    "\n",
    "print index.shape\n",
    "print index\n",
    "\n",
    "# training set (60%)\n",
    "trainingSize = data.shape[0] * 0.60\n",
    "training = data.ix[index[:trainingSize]]\n",
    "\n",
    "training.to_csv('training.csv', encoding='utf-8')\n",
    "\n",
    "print '\\n', training.shape\n",
    "print training.head()\n",
    "\n",
    "# crossValidation set (20%)\n",
    "crossValSize = data.shape[0] * 0.20\n",
    "crossValidation = data.ix[index[trainingSize:trainingSize + crossValSize]]\n",
    "\n",
    "crossValidation.to_csv('crossValidation.csv', encoding='utf-8')\n",
    "\n",
    "print '\\n', crossValidation.shape\n",
    "\n",
    "# test set (20%)\n",
    "test = data.ix[index[trainingSize + crossValSize:]]\n",
    "\n",
    "test.to_csv('test.csv', encoding = 'utf-8')\n",
    "\n",
    "print '\\n', crossValidation.shape\n",
    "'''"
   ]
  },
  {
   "cell_type": "code",
   "execution_count": 4,
   "metadata": {
    "collapsed": false
   },
   "outputs": [
    {
     "name": "stdout",
     "output_type": "stream",
     "text": [
      "\n",
      "Data Columns:\n",
      "\t0 \tSeriousDlqin2yrs\n",
      "\t1 \tRevolvingUtilizationOfUnsecuredLines\n",
      "\t2 \tage\n",
      "\t3 \tNumberOfTime30-59DaysPastDueNotWorse\n",
      "\t4 \tDebtRatio\n",
      "\t5 \tMonthlyIncome\n",
      "\t6 \tNumberOfOpenCreditLinesAndLoans\n",
      "\t7 \tNumberOfTimes90DaysLate\n",
      "\t8 \tNumberRealEstateLoansOrLines\n",
      "\t9 \tNumberOfTime60-89DaysPastDueNotWorse\n",
      "\t10 \tNumberOfDependents\n",
      "\n",
      "Shape is:\n",
      "(90000, 11)\n",
      "        SeriousDlqin2yrs  RevolvingUtilizationOfUnsecuredLines  age  \\\n",
      "42082                  1                              1.173509   33   \n",
      "47463                  0                              0.040118   67   \n",
      "6412                   0                              0.228882   68   \n",
      "142967                 0                              0.558521   50   \n",
      "51191                  0                              0.000000   65   \n",
      "\n",
      "        NumberOfTime30-59DaysPastDueNotWorse  DebtRatio  MonthlyIncome  \\\n",
      "42082                                      3   0.430443           5570   \n",
      "47463                                      0   0.007237          10500   \n",
      "6412                                       0   0.137878           3872   \n",
      "142967                                     0   0.211546          12800   \n",
      "51191                                      0   0.007198           3750   \n",
      "\n",
      "        NumberOfOpenCreditLinesAndLoans  NumberOfTimes90DaysLate  \\\n",
      "42082                                13                        5   \n",
      "47463                                17                        0   \n",
      "6412                                  6                        0   \n",
      "142967                               21                        0   \n",
      "51191                                 4                        0   \n",
      "\n",
      "        NumberRealEstateLoansOrLines  NumberOfTime60-89DaysPastDueNotWorse  \\\n",
      "42082                              0                                     2   \n",
      "47463                              0                                     0   \n",
      "6412                               0                                     0   \n",
      "142967                             1                                     0   \n",
      "51191                              0                                     0   \n",
      "\n",
      "        NumberOfDependents  \n",
      "42082                    2  \n",
      "47463                    0  \n",
      "6412                     0  \n",
      "142967                   1  \n",
      "51191                    0  \n",
      "\n",
      "Data Columns:\n",
      "\t0 \tSeriousDlqin2yrs\n",
      "\t1 \tRevolvingUtilizationOfUnsecuredLines\n",
      "\t2 \tage\n",
      "\t3 \tNumberOfTime30-59DaysPastDueNotWorse\n",
      "\t4 \tDebtRatio\n",
      "\t5 \tMonthlyIncome\n",
      "\t6 \tNumberOfOpenCreditLinesAndLoans\n",
      "\t7 \tNumberOfTimes90DaysLate\n",
      "\t8 \tNumberRealEstateLoansOrLines\n",
      "\t9 \tNumberOfTime60-89DaysPastDueNotWorse\n",
      "\t10 \tNumberOfDependents\n",
      "\n",
      "Shape is:\n",
      "(30000, 11)\n",
      "        SeriousDlqin2yrs  RevolvingUtilizationOfUnsecuredLines  age  \\\n",
      "49580                  0                              0.101980   25   \n",
      "137319                 0                              0.203251   30   \n",
      "22462                  0                              0.000000   56   \n",
      "76006                  0                              1.000000   33   \n",
      "47830                  1                              0.428823   32   \n",
      "\n",
      "        NumberOfTime30-59DaysPastDueNotWorse  DebtRatio  MonthlyIncome  \\\n",
      "49580                                      0   0.019711            760   \n",
      "137319                                     0   0.508192           3600   \n",
      "22462                                      0   0.023098          10000   \n",
      "76006                                      0   0.050352           2700   \n",
      "47830                                      0   0.530735           2000   \n",
      "\n",
      "        NumberOfOpenCreditLinesAndLoans  NumberOfTimes90DaysLate  \\\n",
      "49580                                 4                        0   \n",
      "137319                                7                        0   \n",
      "22462                                 3                        0   \n",
      "76006                                 1                        1   \n",
      "47830                                10                        0   \n",
      "\n",
      "        NumberRealEstateLoansOrLines  NumberOfTime60-89DaysPastDueNotWorse  \\\n",
      "49580                              0                                     0   \n",
      "137319                             1                                     0   \n",
      "22462                              0                                     0   \n",
      "76006                              0                                     0   \n",
      "47830                              0                                     0   \n",
      "\n",
      "        NumberOfDependents  \n",
      "49580                    0  \n",
      "137319                   1  \n",
      "22462                    1  \n",
      "76006                    2  \n",
      "47830                    0  \n",
      "\n",
      "Data Columns:\n",
      "\t0 \tSeriousDlqin2yrs\n",
      "\t1 \tRevolvingUtilizationOfUnsecuredLines\n",
      "\t2 \tage\n",
      "\t3 \tNumberOfTime30-59DaysPastDueNotWorse\n",
      "\t4 \tDebtRatio\n",
      "\t5 \tMonthlyIncome\n",
      "\t6 \tNumberOfOpenCreditLinesAndLoans\n",
      "\t7 \tNumberOfTimes90DaysLate\n",
      "\t8 \tNumberRealEstateLoansOrLines\n",
      "\t9 \tNumberOfTime60-89DaysPastDueNotWorse\n",
      "\t10 \tNumberOfDependents\n",
      "\n",
      "Shape is:\n",
      "(30000, 11)\n",
      "        SeriousDlqin2yrs  RevolvingUtilizationOfUnsecuredLines  age  \\\n",
      "78751                  0                              0.850287   28   \n",
      "54161                  0                              0.000000   63   \n",
      "138873                 0                              0.423724   50   \n",
      "133206                 0                              0.177595   39   \n",
      "76455                  1                              0.242489   45   \n",
      "\n",
      "        NumberOfTime30-59DaysPastDueNotWorse  DebtRatio  MonthlyIncome  \\\n",
      "78751                                      1   0.321053           2849   \n",
      "54161                                      0   0.411579           9793   \n",
      "138873                                     0   0.182776           7500   \n",
      "133206                                     0   0.275217           8287   \n",
      "76455                                      0   0.427167           5999   \n",
      "\n",
      "        NumberOfOpenCreditLinesAndLoans  NumberOfTimes90DaysLate  \\\n",
      "78751                                 4                        0   \n",
      "54161                                11                        0   \n",
      "138873                                5                        0   \n",
      "133206                               15                        0   \n",
      "76455                                11                        0   \n",
      "\n",
      "        NumberRealEstateLoansOrLines  NumberOfTime60-89DaysPastDueNotWorse  \\\n",
      "78751                              0                                     1   \n",
      "54161                              2                                     0   \n",
      "138873                             1                                     0   \n",
      "133206                             1                                     0   \n",
      "76455                              1                                     0   \n",
      "\n",
      "        NumberOfDependents  \n",
      "78751                    2  \n",
      "54161                    0  \n",
      "138873                   0  \n",
      "133206                   3  \n",
      "76455                    1  \n"
     ]
    }
   ],
   "source": [
    "# load split data\n",
    "\n",
    "training = load('training.csv')\n",
    "cv = load('crossValidation.csv')\n",
    "test = load('test.csv')"
   ]
  },
  {
   "cell_type": "markdown",
   "metadata": {},
   "source": [
    "# I.2. PROCESS DATA (-> X, y)\n",
    "##featureScale\n",
    "##addBias"
   ]
  },
  {
   "cell_type": "code",
   "execution_count": 5,
   "metadata": {
    "collapsed": false,
    "scrolled": false
   },
   "outputs": [
    {
     "name": "stdout",
     "output_type": "stream",
     "text": [
      "\n",
      "Shape is:\n",
      "(90000, 10)\n",
      "        RevolvingUtilizationOfUnsecuredLines       age  \\\n",
      "42082                              -0.021570 -1.303803   \n",
      "47463                              -0.027005  0.996573   \n",
      "6412                               -0.026100  1.064231   \n",
      "142967                             -0.024519 -0.153615   \n",
      "51191                              -0.027197  0.861257   \n",
      "\n",
      "        NumberOfTime30-59DaysPastDueNotWorse  DebtRatio  MonthlyIncome  \\\n",
      "42082                               0.599827  -0.240037       0.018670   \n",
      "47463                              -0.100036  -0.240334       0.435878   \n",
      "6412                               -0.100036  -0.240243      -0.125025   \n",
      "142967                             -0.100036  -0.240191       0.630518   \n",
      "51191                              -0.100036  -0.240334      -0.135349   \n",
      "\n",
      "        NumberOfOpenCreditLinesAndLoans  NumberOfTimes90DaysLate  \\\n",
      "42082                          0.889610                 1.108264   \n",
      "47463                          1.669514                -0.064323   \n",
      "6412                          -0.475221                -0.064323   \n",
      "142967                         2.449418                -0.064323   \n",
      "51191                         -0.865173                -0.064323   \n",
      "\n",
      "        NumberRealEstateLoansOrLines  NumberOfTime60-89DaysPastDueNotWorse  \\\n",
      "42082                      -0.907734                              0.412244   \n",
      "47463                      -0.907734                             -0.058292   \n",
      "6412                       -0.907734                             -0.058292   \n",
      "142967                     -0.015446                             -0.058292   \n",
      "51191                      -0.907734                             -0.058292   \n",
      "\n",
      "        NumberOfDependents  \n",
      "42082             1.136616  \n",
      "47463            -0.665820  \n",
      "6412             -0.665820  \n",
      "142967            0.235398  \n",
      "51191            -0.665820  \n",
      "\n",
      "Shape is:\n",
      "(90000, 11)\n",
      "        Bias  RevolvingUtilizationOfUnsecuredLines       age  \\\n",
      "42082      1                             -0.021570 -1.303803   \n",
      "47463      1                             -0.027005  0.996573   \n",
      "6412       1                             -0.026100  1.064231   \n",
      "142967     1                             -0.024519 -0.153615   \n",
      "51191      1                             -0.027197  0.861257   \n",
      "\n",
      "        NumberOfTime30-59DaysPastDueNotWorse  DebtRatio  MonthlyIncome  \\\n",
      "42082                               0.599827  -0.240037       0.018670   \n",
      "47463                              -0.100036  -0.240334       0.435878   \n",
      "6412                               -0.100036  -0.240243      -0.125025   \n",
      "142967                             -0.100036  -0.240191       0.630518   \n",
      "51191                              -0.100036  -0.240334      -0.135349   \n",
      "\n",
      "        NumberOfOpenCreditLinesAndLoans  NumberOfTimes90DaysLate  \\\n",
      "42082                          0.889610                 1.108264   \n",
      "47463                          1.669514                -0.064323   \n",
      "6412                          -0.475221                -0.064323   \n",
      "142967                         2.449418                -0.064323   \n",
      "51191                         -0.865173                -0.064323   \n",
      "\n",
      "        NumberRealEstateLoansOrLines  NumberOfTime60-89DaysPastDueNotWorse  \\\n",
      "42082                      -0.907734                              0.412244   \n",
      "47463                      -0.907734                             -0.058292   \n",
      "6412                       -0.907734                             -0.058292   \n",
      "142967                     -0.015446                             -0.058292   \n",
      "51191                      -0.907734                             -0.058292   \n",
      "\n",
      "        NumberOfDependents  \n",
      "42082             1.136616  \n",
      "47463            -0.665820  \n",
      "6412             -0.665820  \n",
      "142967            0.235398  \n",
      "51191            -0.665820  \n"
     ]
    }
   ],
   "source": [
    "# 0. PROCESS DATA (-> X, y)\n",
    "def splitData(Xandy):\n",
    "    '''\n",
    "    Xandy:\n",
    "    \n",
    "    returns: X, y\n",
    "    '''\n",
    "    X = Xandy.iloc[:, 1:]\n",
    "    #check(Xtrain)\n",
    "\n",
    "    y = Xandy['SeriousDlqin2yrs']\n",
    "    #check(ytrain)\n",
    "    \n",
    "    # fill nan with 0\n",
    "    X = X.fillna(0)\n",
    "    y = y.fillna(0)\n",
    "    return X, y\n",
    "\n",
    "Xtrain, ytrain = splitData(training)\n",
    "(m, n) = Xtrain.shape # m: # of examples /n: # of attributes\n",
    "\n",
    "# feature scaling\n",
    "def featureScale(X):\n",
    "    '''\n",
    "    X: DataFrame\n",
    "    \n",
    "    returns: DataFrame (feature scaled)\n",
    "    '''\n",
    "    for col in range(X.shape[1]):\n",
    "        #print 'col index:', col\n",
    "        copied = X.iloc[:, col]\n",
    "        #print 'head\\n', copied.head()\n",
    "        #print 'mean: ', copied.mean()\n",
    "        #print 'std: ', copied.std()\n",
    "        X.iloc[:, col] = (copied - copied.mean())/copied.std()\n",
    "    return X\n",
    "\n",
    "Xtrain = featureScale(Xtrain)\n",
    "check(Xtrain)\n",
    "     \n",
    "# Add Bias terms to Xtrain\n",
    "def addBias(X):\n",
    "    '''\n",
    "    X: DataFrame (m * n)\n",
    "    \n",
    "        Adds bias terms to the first column\n",
    "    \n",
    "    returns: DataFrame (m * (n + 1))\n",
    "    '''\n",
    "    X.insert(0, 'Bias', 1)\n",
    "    return X\n",
    "\n",
    "Xtrain = addBias(Xtrain)\n",
    "check(Xtrain)\n",
    "\n"
   ]
  },
  {
   "cell_type": "code",
   "execution_count": 6,
   "metadata": {
    "collapsed": true
   },
   "outputs": [],
   "source": [
    "Xcv, ycv = splitData(cv)\n",
    "Xcv = featureScale(Xcv)\n",
    "Xcv = addBias(Xcv)\n",
    "\n",
    "Xtest, ytest = splitData(test)\n",
    "Xtest = featureScale(Xtest)\n",
    "Xtest = addBias(Xtest)"
   ]
  },
  {
   "cell_type": "markdown",
   "metadata": {
    "collapsed": false
   },
   "source": [
    "# I.3. TRAIN (-> theta)\n",
    "## theta = fmin_cg(CostFunction, X, y, lambda, initial_theta)\n",
    "## J = costFunction(X, y, lambda)\n",
    "## grad = gradFunction"
   ]
  },
  {
   "cell_type": "code",
   "execution_count": 7,
   "metadata": {
    "collapsed": false
   },
   "outputs": [],
   "source": [
    "\n",
    "\n",
    "# logisticRegression\n",
    "\n",
    "L = 0.1\n",
    "\n",
    "def logisticRegression(costfunction, gradFunction, X, y, L):\n",
    "    '''\n",
    "    constFunction: function\n",
    "    X: matrix\n",
    "    y: vector\n",
    "    L (lambda): float\n",
    "    \n",
    "    returns: vector (theta)\n",
    "    '''\n",
    "    initial_theta = np.zeros(n+1)\n",
    "    args = (X, y, L)\n",
    "    theta = fmin_cg(f = costFunction, x0 = initial_theta, \\\n",
    "                    fprime = gradFunction, args = args)\n",
    "    return theta\n",
    "\n",
    "# costFunction\n",
    "def costFunction(theta, *args):\n",
    "    '''\n",
    "    theta: vector\n",
    "    X: matrix\n",
    "    y: vector\n",
    "    L (lambda): float\n",
    "    \n",
    "    returns: float (J)\n",
    "    '''\n",
    "    #J = sum(np.multiply(np.log(sigmoid(X.dot(theta))), -y) - \\\n",
    "    #       np.multiply((1 - y),log(1 - sigmoid(X.dot(theta)))))/m \n",
    "    theta = theta.reshape((n+1, 1))\n",
    "    \n",
    "    X, y, L = args\n",
    "    y = pd.DataFrame(y)\n",
    "    y = y.rename(columns = {'SeriousDlqin2yrs':0})\n",
    "    \n",
    "    J = np.log(sigmoid(X.dot(theta))).T.dot(-y)\n",
    "    #print '1',J\n",
    "    J = J - pd.DataFrame(1 - y).T.dot(np.log(1 - sigmoid(X.dot(theta))))\n",
    "    #print '2', J\n",
    "    J = np.sum(J)/m\n",
    "    #print '3', J\n",
    "    J = J + (L/(2.0*m)) * np.sum(theta[1:]**2)\n",
    "    #print '4',J\n",
    "    \n",
    "    return np.array(J)\n",
    "\n",
    "# gradFunction\n",
    "def gradFunction(theta, *args):\n",
    "    # grad = transpose(sigmoid(X * y)) * y + lambda * sum(theta[1:])/m\n",
    "    theta = theta.reshape((n+1, 1))\n",
    "    \n",
    "    X, y, L = args\n",
    "    y = pd.DataFrame(y)\n",
    "    y = y.rename(columns = {'SeriousDlqin2yrs':0})\n",
    "    \n",
    "    grad = X.T.dot(sigmoid(X.dot(theta)) - pd.DataFrame(y))/m\n",
    "    #print grad.shape\n",
    "    \n",
    "    # Regularize\n",
    "    theta = (L/m)*theta\n",
    "    theta[0] = 0\n",
    "    #print theta.shape\n",
    "    #print theta\n",
    "    \n",
    "    grad = np.array(grad + theta)\n",
    "    grad = grad.reshape(n+1)\n",
    "    \n",
    "    return grad\n",
    "\n",
    "# sigmoid\n",
    "def sigmoid(z):\n",
    "    '''\n",
    "    x: float\n",
    "    \n",
    "    returns: float\n",
    "    '''\n",
    "    return 1.0/(1.0 + np.exp(-z))\n",
    "\n",
    "\n",
    "\n",
    "\n"
   ]
  },
  {
   "cell_type": "code",
   "execution_count": 24,
   "metadata": {
    "collapsed": false
   },
   "outputs": [
    {
     "name": "stdout",
     "output_type": "stream",
     "text": [
      "[ 0.69314718]\n"
     ]
    }
   ],
   "source": [
    "#theta = logisticRegresssion()\n",
    "theta = np.zeros((n+1, 1))\n",
    "args = (Xtrain, ytrain, L)\n",
    "J = costFunction(theta, *args)\n",
    "print J"
   ]
  },
  {
   "cell_type": "code",
   "execution_count": 25,
   "metadata": {
    "collapsed": false
   },
   "outputs": [
    {
     "name": "stdout",
     "output_type": "stream",
     "text": [
      "[  4.33655556e-01   6.25321947e-05   2.90906540e-02  -3.09406426e-02\n",
      "   2.10450005e-03   3.37108542e-03   6.87684072e-03  -2.89193348e-02\n",
      "   1.38170311e-03  -2.54732107e-02  -1.19724349e-02]\n"
     ]
    }
   ],
   "source": [
    "# grad\n",
    "args = (Xtrain, ytrain, L)\n",
    "grad = gradFunction(theta, *args)\n",
    "print grad"
   ]
  },
  {
   "cell_type": "code",
   "execution_count": 26,
   "metadata": {
    "collapsed": false
   },
   "outputs": [
    {
     "name": "stdout",
     "output_type": "stream",
     "text": [
      "Optimization terminated successfully.\n",
      "         Current function value: 0.224438\n",
      "         Iterations: 69\n",
      "         Function evaluations: 183\n",
      "         Gradient evaluations: 183\n",
      "[ -2.86431977e+00  -6.70087350e-04  -4.45050396e-01   2.12823601e+00\n",
      "  -7.15476707e-02  -3.17649717e-01  -2.89580756e-02   1.91868054e+00\n",
      "   8.10686511e-02  -3.89149063e+00   1.11138614e-01]\n"
     ]
    }
   ],
   "source": [
    "# Logistic Regression\n",
    "#initial_theta = np.zeros((n+1, 1))\n",
    "theta = logisticRegression(costFunction, gradFunction, Xtrain, ytrain, L)\n",
    "print theta"
   ]
  },
  {
   "cell_type": "markdown",
   "metadata": {
    "collapsed": false
   },
   "source": [
    "# I.4. PREDICT (-> h(x))\n",
    "\n",
    "    h = predict(X)\n",
    "    \n",
    "# I.5. GET ACCURACY & F-SCORE\n"
   ]
  },
  {
   "cell_type": "code",
   "execution_count": 8,
   "metadata": {
    "collapsed": false
   },
   "outputs": [],
   "source": [
    "def predict(theta, X, y, threshold = 0.5):\n",
    "    '''\n",
    "    theta\n",
    "    X\n",
    "    y\n",
    "    L\n",
    "    \n",
    "        prints measures (accuracy, precision, recall, F-score)\n",
    "    \n",
    "    returns: prediction(vector) \n",
    "            \n",
    "    '''\n",
    "    # get prediction\n",
    "    prediction = getPrediction(theta, X, threshold)\n",
    "    \n",
    "    # get measures\n",
    "    measures = getMeasures(y, prediction)\n",
    "    accuracy, precision, recall, fscore = measures\n",
    "    \n",
    "    print 'accuracy', accuracy\n",
    "    print 'precision', precision\n",
    "    print 'recall', recall\n",
    "    print 'fscore', fscore\n",
    "    \n",
    "    return prediction\n",
    "\n",
    "def getPrediction(theta, X, threshold = 0.5):\n",
    "    '''\n",
    "    \n",
    "    returns: vector of labels (0, 1)\n",
    "    '''\n",
    "    \n",
    "    probability = sigmoid(X.dot(theta))\n",
    "    prediction = probability > threshold\n",
    "    \n",
    "    return prediction * 1\n",
    "\n",
    "def getMeasures(y, prediction):\n",
    "    '''\n",
    "    \n",
    "    returns: measures\n",
    "    '''\n",
    "    accuracy = (prediction == y).mean()\n",
    "    \n",
    "    precision, recall, f_score, support = \\\n",
    "        precision_recall_fscore_support(y, prediction, average = 'binary')\n",
    "    \n",
    "    measures = (accuracy, precision, recall, f_score)\n",
    "    return measures"
   ]
  },
  {
   "cell_type": "code",
   "execution_count": 12,
   "metadata": {
    "collapsed": false
   },
   "outputs": [
    {
     "name": "stdout",
     "output_type": "stream",
     "text": [
      "accuracy 0.933633333333\n",
      "precision 0.547770700637\n",
      "recall 0.0428713858425\n",
      "fscore 0.0795191863153\n",
      "\n",
      "78751     0\n",
      "54161     0\n",
      "138873    0\n",
      "133206    0\n",
      "76455     0\n",
      "143419    0\n",
      "60153     0\n",
      "16822     0\n",
      "108037    0\n",
      "21545     0\n",
      "108101    0\n",
      "6890      0\n",
      "143263    0\n",
      "123114    0\n",
      "13659     0\n",
      "46224     0\n",
      "96113     0\n",
      "56733     0\n",
      "28957     0\n",
      "133745    0\n",
      "13232     0\n",
      "58974     0\n",
      "106137    0\n",
      "123718    0\n",
      "89181     0\n",
      "39129     0\n",
      "95773     0\n",
      "56013     0\n",
      "28031     0\n",
      "112550    0\n",
      "         ..\n",
      "56040     0\n",
      "23826     0\n",
      "112526    0\n",
      "32885     0\n",
      "30597     0\n",
      "104342    0\n",
      "86670     0\n",
      "115290    0\n",
      "12388     0\n",
      "61321     0\n",
      "24501     0\n",
      "125708    0\n",
      "54324     0\n",
      "49817     0\n",
      "143803    0\n",
      "130927    0\n",
      "139167    0\n",
      "5209      0\n",
      "5354      0\n",
      "11221     0\n",
      "142360    0\n",
      "59997     0\n",
      "66239     0\n",
      "141116    0\n",
      "27769     0\n",
      "103211    0\n",
      "26902     0\n",
      "26924     0\n",
      "18093     0\n",
      "78303     0\n",
      "dtype: int64\n"
     ]
    }
   ],
   "source": [
    "prediction = predict(theta, Xtest, ytest)\n",
    "print '\\n', prediction"
   ]
  },
  {
   "cell_type": "markdown",
   "metadata": {
    "collapsed": true
   },
   "source": [
    "# II. MODIFY MODEL\n",
    "## 1. Analysis (Learning Curve) -> high bias or high variance?\n",
    "    # of examples - cost relationship\n",
    "## 2. Modify Lambda\n",
    "    Lambda - f_score relationship\n",
    "## 3. Modify Threshold\n",
    "    threshold - f_score relationship\n",
    "## 4. Add/Drop features\n",
    "\n",
    "## 5. Modified Model"
   ]
  },
  {
   "cell_type": "markdown",
   "metadata": {},
   "source": [
    "# II.1. Analysis (Learning Curve) -> high bias or high variance?\n",
    "    # of examples - cost relationship"
   ]
  },
  {
   "cell_type": "code",
   "execution_count": 15,
   "metadata": {
    "collapsed": true
   },
   "outputs": [],
   "source": [
    "def learningCurve(listOfNum, Xtrain, ytrain, Xcv, ycv, L):\n",
    "    '''\n",
    "        prints learning curve\n",
    "    returns: None\n",
    "    '''\n",
    "    costTrain = []\n",
    "    costCv = []\n",
    "    \n",
    "    argsCv = (Xcv, ycv, L)  \n",
    "    \n",
    "    for i in listOfNum:\n",
    "        # slice training examples       \n",
    "        Xt_part = Xtrain.iloc[0:i,:]\n",
    "        yt_part = ytrain.iloc[0:i]\n",
    "        \n",
    "        # make args pack\n",
    "        argsTrain = (Xt_part, yt_part, L)\n",
    "          \n",
    "        \n",
    "        # train\n",
    "        theta = logisticRegression(costFunction, gradFunction, \\\n",
    "                                   Xt_part, yt_part, L)\n",
    "        \n",
    "        # get cost based on trained theta\n",
    "        costTrain.append(costFunction(theta, *argsTrain))\n",
    "        costCv.append(costFunction(theta, *argsCv))\n",
    "        print theta, '\\n', costTrain, '\\n', costCv\n",
    "\n",
    "    # plot learning curve\n",
    "    plt.plot(listOfNum, costTrain, label = 'Jtrain')\n",
    "    plt.plot(listOfNum, costCv, label = 'Jcv')\n",
    "    \n",
    "    plt.legend(loc='best')\n",
    "    plt.xticks(rotation=70) \n",
    "    plt.xlabel(\"# of examples\")\n",
    "    plt.ylabel(\"J\")\n",
    "    plt.title(\"Learning Curve\")\n",
    "    \n",
    "    \n",
    "    return"
   ]
  },
  {
   "cell_type": "code",
   "execution_count": 29,
   "metadata": {
    "collapsed": false
   },
   "outputs": [
    {
     "name": "stdout",
     "output_type": "stream",
     "text": [
      "Optimization terminated successfully.\n",
      "         Current function value: 0.000072\n",
      "         Iterations: 66\n",
      "         Function evaluations: 985\n",
      "         Gradient evaluations: 985\n",
      "[-3.62400304  0.09006005 -0.05407074  0.58564913  0.30842175  0.08476902\n",
      " -0.03868736  0.83343996  0.17248527  0.59644998  0.85138838] \n",
      "[array([  7.23879564e-05])] \n",
      "[array([ nan])]\n",
      "Optimization terminated successfully.\n",
      "         Current function value: 0.012060\n",
      "         Iterations: 350\n",
      "         Function evaluations: 3921\n",
      "         Gradient evaluations: 3921\n",
      "[-2.95481362 -0.23018433 -0.41598678  2.28119131 -0.18716682 -0.65530014\n",
      " -0.07243876  1.25772778  0.08696076 -3.42948066  0.12577474] \n",
      "[array([  7.23879564e-05]), array([ 0.01205988])] \n",
      "[array([ nan]), array([ 0.07608986])]\n",
      "Optimization terminated successfully.\n",
      "         Current function value: 0.025092\n",
      "         Iterations: 140\n",
      "         Function evaluations: 1197\n",
      "         Gradient evaluations: 1197\n",
      "[-2.85698468 -0.1967097  -0.38722378  2.05459445 -0.099      -0.3587271\n",
      " -0.02578204  1.64494149  0.01906722 -3.56788834  0.15198017] \n",
      "[array([  7.23879564e-05]), array([ 0.01205988]), array([ 0.02509163])] \n",
      "[array([ nan]), array([ 0.07608986]), array([ 0.07590602])]\n",
      "Optimization terminated successfully.\n",
      "         Current function value: 0.037575\n",
      "         Iterations: 730\n",
      "         Function evaluations: 7248\n",
      "         Gradient evaluations: 7248\n",
      "[-2.86078684 -0.20737939 -0.37905178  2.14040397 -0.18144092 -0.48278296\n",
      " -0.05760804  1.64877459  0.08206039 -3.63382908  0.11435491] \n",
      "[array([  7.23879564e-05]), array([ 0.01205988]), array([ 0.02509163]), array([ 0.03757539])] \n",
      "[array([ nan]), array([ 0.07608986]), array([ 0.07590602]), array([ 0.07578814])]\n",
      "Optimization terminated successfully.\n",
      "         Current function value: 0.050017\n",
      "         Iterations: 127\n",
      "         Function evaluations: 725\n",
      "         Gradient evaluations: 725\n",
      "[-2.86890083  0.02278929 -0.40218612  2.27716315 -0.14762647 -0.39656281\n",
      " -0.06222353  1.94253379  0.08179531 -4.07247812  0.12856727] \n",
      "[array([  7.23879564e-05]), array([ 0.01205988]), array([ 0.02509163]), array([ 0.03757539]), array([ 0.05001744])] \n",
      "[array([ nan]), array([ 0.07608986]), array([ 0.07590602]), array([ 0.07578814]), array([ 0.07581562])]\n",
      "Optimization terminated successfully.\n",
      "         Current function value: 0.061769\n",
      "         Iterations: 113\n",
      "         Function evaluations: 447\n",
      "         Gradient evaluations: 447\n",
      "[-2.88959719  0.01713027 -0.42899379  2.28879603 -0.14844975 -0.40146573\n",
      " -0.04697936  1.97026487  0.10492032 -4.10025889  0.11175858] \n",
      "[array([  7.23879564e-05]), array([ 0.01205988]), array([ 0.02509163]), array([ 0.03757539]), array([ 0.05001744]), array([ 0.06176901])] \n",
      "[array([ nan]), array([ 0.07608986]), array([ 0.07590602]), array([ 0.07578814]), array([ 0.07581562]), array([ 0.07582825])]\n",
      "Optimization terminated successfully.\n",
      "         Current function value: 0.074968\n",
      "         Iterations: 109\n",
      "         Function evaluations: 434\n",
      "         Gradient evaluations: 434\n",
      "[ -2.87031489e+00   1.36313244e-03  -4.28682335e-01   2.31715697e+00\n",
      "  -1.41426255e-01  -3.77018530e-01  -4.05892533e-02   1.87730697e+00\n",
      "   9.28816266e-02  -4.02890510e+00   1.14215559e-01] \n",
      "[array([  7.23879564e-05]), array([ 0.01205988]), array([ 0.02509163]), array([ 0.03757539]), array([ 0.05001744]), array([ 0.06176901]), array([ 0.07496763])] \n",
      "[array([ nan]), array([ 0.07608986]), array([ 0.07590602]), array([ 0.07578814]), array([ 0.07581562]), array([ 0.07582825]), array([ 0.07581862])]\n",
      "Optimization terminated successfully.\n",
      "         Current function value: 0.087669\n",
      "         Iterations: 87\n",
      "         Function evaluations: 332\n",
      "         Gradient evaluations: 332\n",
      "[-2.8643302  -0.00589464 -0.4324085   2.21938951 -0.14681359 -0.38627164\n",
      " -0.04450229  1.80660823  0.0934307  -3.86554074  0.10862163] \n",
      "[array([  7.23879564e-05]), array([ 0.01205988]), array([ 0.02509163]), array([ 0.03757539]), array([ 0.05001744]), array([ 0.06176901]), array([ 0.07496763]), array([ 0.0876692])] \n",
      "[array([ nan]), array([ 0.07608986]), array([ 0.07590602]), array([ 0.07578814]), array([ 0.07581562]), array([ 0.07582825]), array([ 0.07581862]), array([ 0.07579598])]\n",
      "Optimization terminated successfully.\n",
      "         Current function value: 0.099869\n",
      "         Iterations: 90\n",
      "         Function evaluations: 342\n",
      "         Gradient evaluations: 342\n",
      "[-2.87009968 -0.0094887  -0.4411117   2.21063173 -0.12110005 -0.37532064\n",
      " -0.05758142  1.82621756  0.094839   -3.87124868  0.1071497 ] \n",
      "[array([  7.23879564e-05]), array([ 0.01205988]), array([ 0.02509163]), array([ 0.03757539]), array([ 0.05001744]), array([ 0.06176901]), array([ 0.07496763]), array([ 0.0876692]), array([ 0.09986901])] \n",
      "[array([ nan]), array([ 0.07608986]), array([ 0.07590602]), array([ 0.07578814]), array([ 0.07581562]), array([ 0.07582825]), array([ 0.07581862]), array([ 0.07579598]), array([ 0.07578745])]\n",
      "Optimization terminated successfully.\n",
      "         Current function value: 0.112884\n",
      "         Iterations: 82\n",
      "         Function evaluations: 301\n",
      "         Gradient evaluations: 301\n",
      "[-2.862238   -0.01219546 -0.43955195  2.2009859  -0.12525455 -0.37994221\n",
      " -0.04488258  1.80816203  0.0841133  -3.8429679   0.10027395] \n",
      "[array([  7.23879564e-05]), array([ 0.01205988]), array([ 0.02509163]), array([ 0.03757539]), array([ 0.05001744]), array([ 0.06176901]), array([ 0.07496763]), array([ 0.0876692]), array([ 0.09986901]), array([ 0.1128838])] \n",
      "[array([ nan]), array([ 0.07608986]), array([ 0.07590602]), array([ 0.07578814]), array([ 0.07581562]), array([ 0.07582825]), array([ 0.07581862]), array([ 0.07579598]), array([ 0.07578745]), array([ 0.07577541])]\n",
      "Optimization terminated successfully.\n",
      "         Current function value: 0.124672\n",
      "         Iterations: 74\n",
      "         Function evaluations: 242\n",
      "         Gradient evaluations: 242\n",
      "[-2.87003543 -0.01324381 -0.4449323   2.18473614 -0.12406223 -0.38307399\n",
      " -0.03888762  1.8058599   0.07309716 -3.82045035  0.10733067] \n",
      "[array([  7.23879564e-05]), array([ 0.01205988]), array([ 0.02509163]), array([ 0.03757539]), array([ 0.05001744]), array([ 0.06176901]), array([ 0.07496763]), array([ 0.0876692]), array([ 0.09986901]), array([ 0.1128838]), array([ 0.12467205])] \n",
      "[array([ nan]), array([ 0.07608986]), array([ 0.07590602]), array([ 0.07578814]), array([ 0.07581562]), array([ 0.07582825]), array([ 0.07581862]), array([ 0.07579598]), array([ 0.07578745]), array([ 0.07577541]), array([ 0.07577628])]\n",
      "Optimization terminated successfully.\n",
      "         Current function value: 0.137206\n",
      "         Iterations: 87\n",
      "         Function evaluations: 267\n",
      "         Gradient evaluations: 267\n",
      "[-2.86862876 -0.01603291 -0.43525646  2.18413731 -0.13636233 -0.3824995\n",
      " -0.04083075  1.8283954   0.08255435 -3.84726737  0.11258116] \n",
      "[array([  7.23879564e-05]), array([ 0.01205988]), array([ 0.02509163]), array([ 0.03757539]), array([ 0.05001744]), array([ 0.06176901]), array([ 0.07496763]), array([ 0.0876692]), array([ 0.09986901]), array([ 0.1128838]), array([ 0.12467205]), array([ 0.13720567])] \n",
      "[array([ nan]), array([ 0.07608986]), array([ 0.07590602]), array([ 0.07578814]), array([ 0.07581562]), array([ 0.07582825]), array([ 0.07581862]), array([ 0.07579598]), array([ 0.07578745]), array([ 0.07577541]), array([ 0.07577628]), array([ 0.07578406])]\n",
      "Optimization terminated successfully.\n",
      "         Current function value: 0.150114\n",
      "         Iterations: 81\n",
      "         Function evaluations: 231\n",
      "         Gradient evaluations: 231\n",
      "[-2.86294595 -0.00802109 -0.43655675  2.16495057 -0.11696028 -0.380664\n",
      " -0.03759051  1.82519395  0.09061505 -3.83421016  0.1092631 ] \n",
      "[array([  7.23879564e-05]), array([ 0.01205988]), array([ 0.02509163]), array([ 0.03757539]), array([ 0.05001744]), array([ 0.06176901]), array([ 0.07496763]), array([ 0.0876692]), array([ 0.09986901]), array([ 0.1128838]), array([ 0.12467205]), array([ 0.13720567]), array([ 0.15011409])] \n",
      "[array([ nan]), array([ 0.07608986]), array([ 0.07590602]), array([ 0.07578814]), array([ 0.07581562]), array([ 0.07582825]), array([ 0.07581862]), array([ 0.07579598]), array([ 0.07578745]), array([ 0.07577541]), array([ 0.07577628]), array([ 0.07578406]), array([ 0.07579731])]\n",
      "Optimization terminated successfully.\n",
      "         Current function value: 0.162126\n",
      "         Iterations: 101\n",
      "         Function evaluations: 335\n",
      "         Gradient evaluations: 335\n",
      "[ -2.86956005e+00   3.26642905e-03  -4.42596254e-01   2.15760329e+00\n",
      "  -1.01500420e-01  -3.85680680e-01  -4.58650689e-02   1.84048819e+00\n",
      "   9.89992397e-02  -3.84464348e+00   1.11437989e-01] \n",
      "[array([  7.23879564e-05]), array([ 0.01205988]), array([ 0.02509163]), array([ 0.03757539]), array([ 0.05001744]), array([ 0.06176901]), array([ 0.07496763]), array([ 0.0876692]), array([ 0.09986901]), array([ 0.1128838]), array([ 0.12467205]), array([ 0.13720567]), array([ 0.15011409]), array([ 0.16212635])] \n",
      "[array([ nan]), array([ 0.07608986]), array([ 0.07590602]), array([ 0.07578814]), array([ 0.07581562]), array([ 0.07582825]), array([ 0.07581862]), array([ 0.07579598]), array([ 0.07578745]), array([ 0.07577541]), array([ 0.07577628]), array([ 0.07578406]), array([ 0.07579731]), array([ 0.07580736])]\n",
      "Optimization terminated successfully.\n",
      "         Current function value: 0.174593\n",
      "         Iterations: 73\n",
      "         Function evaluations: 205\n",
      "         Gradient evaluations: 205\n",
      "[ -2.86920389e+00  -1.41605672e-04  -4.41520763e-01   2.11295306e+00\n",
      "  -1.05417617e-01  -3.99865860e-01  -4.31457441e-02   1.89109818e+00\n",
      "   1.05394920e-01  -3.84757255e+00   1.18712089e-01] \n",
      "[array([  7.23879564e-05]), array([ 0.01205988]), array([ 0.02509163]), array([ 0.03757539]), array([ 0.05001744]), array([ 0.06176901]), array([ 0.07496763]), array([ 0.0876692]), array([ 0.09986901]), array([ 0.1128838]), array([ 0.12467205]), array([ 0.13720567]), array([ 0.15011409]), array([ 0.16212635]), array([ 0.17459269])] \n",
      "[array([ nan]), array([ 0.07608986]), array([ 0.07590602]), array([ 0.07578814]), array([ 0.07581562]), array([ 0.07582825]), array([ 0.07581862]), array([ 0.07579598]), array([ 0.07578745]), array([ 0.07577541]), array([ 0.07577628]), array([ 0.07578406]), array([ 0.07579731]), array([ 0.07580736]), array([ 0.07581038])]\n",
      "Optimization terminated successfully.\n",
      "         Current function value: 0.187330\n",
      "         Iterations: 87\n",
      "         Function evaluations: 225\n",
      "         Gradient evaluations: 225\n",
      "[ -2.86512620e+00  -5.87903333e-04  -4.36024485e-01   2.09983594e+00\n",
      "  -1.06857416e-01  -4.10065174e-01  -4.03433377e-02   1.89235014e+00\n",
      "   1.07257156e-01  -3.83461405e+00   1.16183093e-01] \n",
      "[array([  7.23879564e-05]), array([ 0.01205988]), array([ 0.02509163]), array([ 0.03757539]), array([ 0.05001744]), array([ 0.06176901]), array([ 0.07496763]), array([ 0.0876692]), array([ 0.09986901]), array([ 0.1128838]), array([ 0.12467205]), array([ 0.13720567]), array([ 0.15011409]), array([ 0.16212635]), array([ 0.17459269]), array([ 0.18732991])] \n",
      "[array([ nan]), array([ 0.07608986]), array([ 0.07590602]), array([ 0.07578814]), array([ 0.07581562]), array([ 0.07582825]), array([ 0.07581862]), array([ 0.07579598]), array([ 0.07578745]), array([ 0.07577541]), array([ 0.07577628]), array([ 0.07578406]), array([ 0.07579731]), array([ 0.07580736]), array([ 0.07581038]), array([ 0.07580429])]\n",
      "Optimization terminated successfully.\n",
      "         Current function value: 0.199758\n",
      "         Iterations: 84\n",
      "         Function evaluations: 237\n",
      "         Gradient evaluations: 237\n",
      "[ -2.86379458e+00  -1.60470368e-03  -4.39614105e-01   2.09465270e+00\n",
      "  -7.39384011e-02  -3.63443092e-01  -3.58339815e-02   1.92388913e+00\n",
      "   9.19373538e-02  -3.85884885e+00   1.15379095e-01] \n",
      "[array([  7.23879564e-05]), array([ 0.01205988]), array([ 0.02509163]), array([ 0.03757539]), array([ 0.05001744]), array([ 0.06176901]), array([ 0.07496763]), array([ 0.0876692]), array([ 0.09986901]), array([ 0.1128838]), array([ 0.12467205]), array([ 0.13720567]), array([ 0.15011409]), array([ 0.16212635]), array([ 0.17459269]), array([ 0.18732991]), array([ 0.19975758])] \n",
      "[array([ nan]), array([ 0.07608986]), array([ 0.07590602]), array([ 0.07578814]), array([ 0.07581562]), array([ 0.07582825]), array([ 0.07581862]), array([ 0.07579598]), array([ 0.07578745]), array([ 0.07577541]), array([ 0.07577628]), array([ 0.07578406]), array([ 0.07579731]), array([ 0.07580736]), array([ 0.07581038]), array([ 0.07580429]), array([ 0.0758062])]\n",
      "Optimization terminated successfully.\n",
      "         Current function value: 0.212198\n",
      "         Iterations: 81\n",
      "         Function evaluations: 214\n",
      "         Gradient evaluations: 214\n",
      "[ -2.86476101e+00  -4.13212236e-04  -4.42946531e-01   2.11432773e+00\n",
      "  -7.35848373e-02  -3.56352361e-01  -2.85576257e-02   1.90441303e+00\n",
      "   8.41455593e-02  -3.86109934e+00   1.13093031e-01] \n",
      "[array([  7.23879564e-05]), array([ 0.01205988]), array([ 0.02509163]), array([ 0.03757539]), array([ 0.05001744]), array([ 0.06176901]), array([ 0.07496763]), array([ 0.0876692]), array([ 0.09986901]), array([ 0.1128838]), array([ 0.12467205]), array([ 0.13720567]), array([ 0.15011409]), array([ 0.16212635]), array([ 0.17459269]), array([ 0.18732991]), array([ 0.19975758]), array([ 0.21219786])] \n",
      "[array([ nan]), array([ 0.07608986]), array([ 0.07590602]), array([ 0.07578814]), array([ 0.07581562]), array([ 0.07582825]), array([ 0.07581862]), array([ 0.07579598]), array([ 0.07578745]), array([ 0.07577541]), array([ 0.07577628]), array([ 0.07578406]), array([ 0.07579731]), array([ 0.07580736]), array([ 0.07581038]), array([ 0.07580429]), array([ 0.0758062]), array([ 0.07580881])]\n"
     ]
    },
    {
     "data": {
      "image/png": "[encoded data removed]",
      "text/plain": [
       "<matplotlib.figure.Figure at 0x10a51c3d0>"
      ]
     },
     "metadata": {},
     "output_type": "display_data"
    }
   ],
   "source": [
    "learningCurve(range(100, m, 5000), Xtrain, ytrain, Xcv, ycv, L)"
   ]
  },
  {
   "cell_type": "markdown",
   "metadata": {},
   "source": [
    "# II.2. Modify Lambda\n",
    "    Lambda - f_score relationship"
   ]
  },
  {
   "cell_type": "code",
   "execution_count": 17,
   "metadata": {
    "collapsed": true
   },
   "outputs": [],
   "source": [
    "def bestLambda(listOfNum, Xtrain, ytrain, Xcv, ycv):\n",
    "    '''\n",
    "        prints lambda - f_score relationship\n",
    "    returns: best lambda\n",
    "    '''\n",
    "    fscoreCv = []\n",
    "    costCv = []\n",
    "    \n",
    "    for i in listOfNum:\n",
    "        argsCv = (Xcv, ycv, i)    \n",
    "        \n",
    "        # train\n",
    "        theta = logisticRegression(costFunction, gradFunction, \\\n",
    "                                   Xtrain, ytrain, i)\n",
    "        \n",
    "        # get fscore based on trained theta\n",
    "        # get prediction\n",
    "        prediction = getPrediction(theta, Xcv)\n",
    "\n",
    "        # get measures\n",
    "        measures = getMeasures(ycv, prediction)\n",
    "        accuracy, precision, recall, fscore = measures\n",
    "        \n",
    "        fscoreCv.append(fscore)\n",
    "        costCv.append(costFunction(theta, *argsCv))\n",
    "\n",
    "    # plot learning curve\n",
    "    plt.plot(listOfNum, fscoreCv, label = 'F-score')\n",
    "    plt.plot(listOfNum, costCv, label = 'Jcv')\n",
    "    \n",
    "    plt.legend(loc='best')\n",
    "    plt.xticks(rotation=70) \n",
    "    plt.xlabel(\"Lambda\")\n",
    "    plt.ylabel(\"F-score\")\n",
    "    plt.title(\"Lambda - F-score relationship\")\n",
    "    \n",
    "    maxFscore = max(fscoreCv)\n",
    "    maxIndexF = fscoreCv.index(maxFscore)\n",
    "    \n",
    "    minCostCv = min(costCv)\n",
    "    minIndexCost = costCv.index(minCostCv)\n",
    "    \n",
    "    return listOfNum[maxIndexF], listOfNum[minIndexCost]\n"
   ]
  },
  {
   "cell_type": "code",
   "execution_count": 18,
   "metadata": {
    "collapsed": false
   },
   "outputs": [
    {
     "name": "stdout",
     "output_type": "stream",
     "text": [
      "Optimization terminated successfully.\n",
      "         Current function value: 0.224425\n",
      "         Iterations: 80\n",
      "         Function evaluations: 213\n",
      "         Gradient evaluations: 213\n",
      "Optimization terminated successfully.\n",
      "         Current function value: 0.224438\n",
      "         Iterations: 70\n",
      "         Function evaluations: 187\n",
      "         Gradient evaluations: 187\n",
      "Optimization terminated successfully.\n",
      "         Current function value: 0.224452\n",
      "         Iterations: 92\n",
      "         Function evaluations: 235\n",
      "         Gradient evaluations: 235\n",
      "Optimization terminated successfully.\n",
      "         Current function value: 0.224465\n",
      "         Iterations: 86\n",
      "         Function evaluations: 245\n",
      "         Gradient evaluations: 245\n",
      "Optimization terminated successfully.\n",
      "         Current function value: 0.224478\n",
      "         Iterations: 89\n",
      "         Function evaluations: 236\n",
      "         Gradient evaluations: 236\n",
      "Optimization terminated successfully.\n",
      "         Current function value: 0.224491\n",
      "         Iterations: 92\n",
      "         Function evaluations: 239\n",
      "         Gradient evaluations: 239\n",
      "Optimization terminated successfully.\n",
      "         Current function value: 0.224504\n",
      "         Iterations: 84\n",
      "         Function evaluations: 242\n",
      "         Gradient evaluations: 242\n",
      "Optimization terminated successfully.\n",
      "         Current function value: 0.224517\n",
      "         Iterations: 73\n",
      "         Function evaluations: 184\n",
      "         Gradient evaluations: 184\n",
      "Optimization terminated successfully.\n",
      "         Current function value: 0.224530\n",
      "         Iterations: 83\n",
      "         Function evaluations: 214\n",
      "         Gradient evaluations: 214\n",
      "Optimization terminated successfully.\n",
      "         Current function value: 0.224542\n",
      "         Iterations: 86\n",
      "         Function evaluations: 230\n",
      "         Gradient evaluations: 230\n",
      "Optimization terminated successfully.\n",
      "         Current function value: 0.224555\n",
      "         Iterations: 84\n",
      "         Function evaluations: 213\n",
      "         Gradient evaluations: 213\n",
      "\n",
      "Lambda that maximizes F-score >> 0.2\n",
      "\n",
      "Lambda that minimizes Cost >> 0.0\n"
     ]
    },
    {
     "data": {
      "image/png": "[encoded data removed]",
      "text/plain": [
       "<matplotlib.figure.Figure at 0x1039ddcd0>"
      ]
     },
     "metadata": {},
     "output_type": "display_data"
    }
   ],
   "source": [
    "bestL_F, bestL_Cost = bestLambda(np.linspace(0, 1, 11), Xtrain, ytrain, Xcv, ycv)\n",
    "print '\\nLambda that maximizes F-score >>', bestL_F\n",
    "print '\\nLambda that minimizes Cost >>', bestL_Cost"
   ]
  },
  {
   "cell_type": "markdown",
   "metadata": {},
   "source": [
    "# II.3. Modify Threshold\n",
    "    Threshold - F-score relationship"
   ]
  },
  {
   "cell_type": "code",
   "execution_count": 19,
   "metadata": {
    "collapsed": true
   },
   "outputs": [],
   "source": [
    "def bestThreshold(listOfNum, Xtrain, ytrain, Xcv, ycv, L):\n",
    "    '''\n",
    "        prints threshold - f_score relationship\n",
    "    returns: best threshold\n",
    "    '''\n",
    "    fscoreCv = []\n",
    "    accuracyCv = []\n",
    "    costCv = []\n",
    "    \n",
    "    \n",
    "    # train\n",
    "    theta = logisticRegression(costFunction, gradFunction, \\\n",
    "                                   Xtrain, ytrain, L)\n",
    "    argsCv = (Xcv, ycv, L)\n",
    "    \n",
    "    # for different number of thresholds\n",
    "    for i in listOfNum:\n",
    "        \n",
    "        # get fscore based on trained theta\n",
    "        # get prediction\n",
    "        prediction = getPrediction(theta, Xcv, threshold = i)\n",
    "\n",
    "        # get measures\n",
    "        measures = getMeasures(ycv, prediction)\n",
    "        accuracy, precision, recall, fscore = measures\n",
    "        \n",
    "        fscoreCv.append(fscore)\n",
    "        accuracyCv.append(accuracy)\n",
    "        costCv.append(costFunction(theta, *argsCv))\n",
    "\n",
    "    # plot learning curve\n",
    "    plt.figure()\n",
    "    plt.plot(listOfNum, fscoreCv, label = 'F-score')\n",
    "    plt.plot(listOfNum, accuracyCv, label = 'Accuracy')\n",
    "    plt.plot(listOfNum, costCv, label = 'Jcv')\n",
    "    \n",
    "    plt.legend(loc='best')\n",
    "    plt.xticks(rotation=70) \n",
    "    plt.xlabel(\"Threshold\")\n",
    "    plt.ylabel(\"F-score\")\n",
    "    plt.title(\"Threshold - F-score relationship\")\n",
    "    \n",
    "    maxFscore = max(fscoreCv)\n",
    "    maxIndex = fscoreCv.index(maxFscore)\n",
    "    \n",
    "    return listOfNum[maxIndex]\n"
   ]
  },
  {
   "cell_type": "code",
   "execution_count": 20,
   "metadata": {
    "collapsed": false
   },
   "outputs": [
    {
     "name": "stdout",
     "output_type": "stream",
     "text": [
      "Optimization terminated successfully.\n",
      "         Current function value: 0.224452\n",
      "         Iterations: 105\n",
      "         Function evaluations: 298\n",
      "         Gradient evaluations: 298\n",
      "Threshold that maximizes F-score >> 0.125\n",
      "Optimization terminated successfully.\n",
      "         Current function value: 0.224425\n",
      "         Iterations: 88\n",
      "         Function evaluations: 228\n",
      "         Gradient evaluations: 228\n",
      "Threshold that maximizes F-score >> 0.125\n"
     ]
    },
    {
     "name": "stderr",
     "output_type": "stream",
     "text": [
      "/Users/hee/.pyenv/versions/2.7.9/lib/python2.7/site-packages/sklearn/metrics/classification.py:958: UndefinedMetricWarning: Precision and F-score are ill-defined and being set to 0.0 due to no predicted samples.\n",
      "  'precision', 'predicted', average, warn_for)\n"
     ]
    },
    {
     "data": {
      "image/png": "[encoded data removed]",
      "text/plain": [
       "<matplotlib.figure.Figure at 0x10a840550>"
      ]
     },
     "metadata": {},
     "output_type": "display_data"
    },
    {
     "data": {
      "image/png": "[encoded data removed]",
      "text/plain": [
       "<matplotlib.figure.Figure at 0x10a359990>"
      ]
     },
     "metadata": {},
     "output_type": "display_data"
    }
   ],
   "source": [
    "bestT = bestThreshold(np.linspace(0, 1, 81), Xtrain, ytrain, Xcv, ycv, bestL_F)\n",
    "print 'Threshold that maximizes F-score >>', bestT\n",
    "\n",
    "bestT = bestThreshold(np.linspace(0, 1, 81), Xtrain, ytrain, Xcv, ycv, bestL_Cost)\n",
    "print 'Threshold that maximizes F-score >>', bestT"
   ]
  },
  {
   "cell_type": "markdown",
   "metadata": {},
   "source": [
    "#II.4 Add/Drop Features\n",
    "    *This time sklearn.linear_model.LogisticRegression module used\n",
    "    \n",
    "    add polynomial features\n",
    "    train\n",
    "    get f score\n",
    "    modify C, threshold"
   ]
  },
  {
   "cell_type": "code",
   "execution_count": 9,
   "metadata": {
    "collapsed": true
   },
   "outputs": [],
   "source": [
    "from sklearn.preprocessing import PolynomialFeatures"
   ]
  },
  {
   "cell_type": "code",
   "execution_count": 10,
   "metadata": {
    "collapsed": false
   },
   "outputs": [
    {
     "name": "stdout",
     "output_type": "stream",
     "text": [
      "(90000, 66) (30000, 66) (30000, 66)\n",
      "[[ 1.         -0.02156958 -1.30380281 ...,  0.16994545  0.46856373\n",
      "   1.2918967 ]\n",
      " [ 1.         -0.02700473  0.99657329 ...,  0.00339791  0.03881169\n",
      "   0.44331624]\n",
      " [ 1.         -0.02609952  1.06423142 ...,  0.00339791  0.03881169\n",
      "   0.44331624]\n",
      " ..., \n",
      " [ 1.         -0.02327495  1.3348639  ...,  0.00339791  0.03881169\n",
      "   0.44331624]\n",
      " [ 1.         -0.02264996  0.31999209 ...,  0.00339791 -0.01372173\n",
      "   0.0554123 ]\n",
      " [ 1.         -0.02665545  0.38765021 ...,  0.00339791  0.03881169\n",
      "   0.44331624]]\n"
     ]
    }
   ],
   "source": [
    "# 1. add polynomial features\n",
    "\n",
    "poly = PolynomialFeatures(2)\n",
    "\n",
    "def polyFeature(poly, X):\n",
    "    '''\n",
    "    poly: sklearn.preprocessing.PolynomialFeatures\n",
    "    X: X with bias terms\n",
    "    \n",
    "    returns: X with polynomial features\n",
    "    '''\n",
    "    X = X.iloc[:, 1:]\n",
    "    Xpoly = poly.fit_transform(X)\n",
    "    return Xpoly\n",
    "    \n",
    "\n",
    "XtrainPoly = polyFeature(poly, Xtrain)\n",
    "XcvPoly = polyFeature(poly, Xcv)\n",
    "XtestPoly = polyFeature(poly, Xtest)\n",
    "\n",
    "print XtrainPoly.shape, XcvPoly.shape, XtestPoly.shape\n",
    "print XtrainPoly"
   ]
  },
  {
   "cell_type": "code",
   "execution_count": 11,
   "metadata": {
    "collapsed": false
   },
   "outputs": [
    {
     "data": {
      "text/plain": [
       "LogisticRegression(C=1.0, class_weight=None, dual=False, fit_intercept=True,\n",
       "          intercept_scaling=1, max_iter=100, multi_class='ovr',\n",
       "          penalty='l2', random_state=None, solver='liblinear', tol=0.0001,\n",
       "          verbose=0)"
      ]
     },
     "execution_count": 11,
     "metadata": {},
     "output_type": "execute_result"
    }
   ],
   "source": [
    "# 2. train\n",
    "\n",
    "from sklearn.linear_model import LogisticRegression\n",
    "\n",
    "clfPoly = LogisticRegression()\n",
    "clfPoly.fit(XtrainPoly, ytrain)\n",
    "\n"
   ]
  },
  {
   "cell_type": "code",
   "execution_count": 23,
   "metadata": {
    "collapsed": false
   },
   "outputs": [
    {
     "ename": "ValueError",
     "evalue": "X has 66 features per sample; expecting 286",
     "output_type": "error",
     "traceback": [
      "\u001b[0;31m---------------------------------------------------------------------------\u001b[0m",
      "\u001b[0;31mValueError\u001b[0m                                Traceback (most recent call last)",
      "\u001b[0;32m<ipython-input-23-c49f2cc74e47>\u001b[0m in \u001b[0;36m<module>\u001b[0;34m()\u001b[0m\n\u001b[1;32m     11\u001b[0m     \u001b[0;32mreturn\u001b[0m \u001b[0mprobaPoly\u001b[0m \u001b[0;34m>\u001b[0m \u001b[0mthreshold\u001b[0m\u001b[0;34m\u001b[0m\u001b[0m\n\u001b[1;32m     12\u001b[0m \u001b[0;34m\u001b[0m\u001b[0m\n\u001b[0;32m---> 13\u001b[0;31m \u001b[0mpredictionPoly\u001b[0m \u001b[0;34m=\u001b[0m \u001b[0mgetPredictionModule\u001b[0m\u001b[0;34m(\u001b[0m\u001b[0mclfPoly\u001b[0m\u001b[0;34m,\u001b[0m \u001b[0mXtestPoly\u001b[0m\u001b[0;34m)\u001b[0m\u001b[0;34m\u001b[0m\u001b[0m\n\u001b[0m",
      "\u001b[0;32m<ipython-input-23-c49f2cc74e47>\u001b[0m in \u001b[0;36mgetPredictionModule\u001b[0;34m(clf, X, threshold, i)\u001b[0m\n\u001b[1;32m      8\u001b[0m     \u001b[0;32mreturn\u001b[0m\u001b[0;34m:\u001b[0m \u001b[0mpredicted\u001b[0m \u001b[0mlabels\u001b[0m \u001b[0;32mfor\u001b[0m \u001b[0mX\u001b[0m\u001b[0;34m\u001b[0m\u001b[0m\n\u001b[1;32m      9\u001b[0m     '''\n\u001b[0;32m---> 10\u001b[0;31m     \u001b[0mprobaPoly\u001b[0m \u001b[0;34m=\u001b[0m \u001b[0mclf\u001b[0m\u001b[0;34m.\u001b[0m\u001b[0mpredict_proba\u001b[0m\u001b[0;34m(\u001b[0m\u001b[0mX\u001b[0m\u001b[0;34m)\u001b[0m\u001b[0;34m[\u001b[0m\u001b[0;34m:\u001b[0m\u001b[0;34m,\u001b[0m\u001b[0mi\u001b[0m\u001b[0;34m]\u001b[0m\u001b[0;34m\u001b[0m\u001b[0m\n\u001b[0m\u001b[1;32m     11\u001b[0m     \u001b[0;32mreturn\u001b[0m \u001b[0mprobaPoly\u001b[0m \u001b[0;34m>\u001b[0m \u001b[0mthreshold\u001b[0m\u001b[0;34m\u001b[0m\u001b[0m\n\u001b[1;32m     12\u001b[0m \u001b[0;34m\u001b[0m\u001b[0m\n",
      "\u001b[0;32m/Users/hee/.pyenv/versions/2.7.9/lib/python2.7/site-packages/sklearn/linear_model/logistic.pyc\u001b[0m in \u001b[0;36mpredict_proba\u001b[0;34m(self, X)\u001b[0m\n\u001b[1;32m   1093\u001b[0m             \u001b[0mwhere\u001b[0m \u001b[0mclasses\u001b[0m \u001b[0mare\u001b[0m \u001b[0mordered\u001b[0m \u001b[0;32mas\u001b[0m \u001b[0mthey\u001b[0m \u001b[0mare\u001b[0m \u001b[0;32min\u001b[0m \u001b[0;34m`\u001b[0m\u001b[0;34m`\u001b[0m\u001b[0mself\u001b[0m\u001b[0;34m.\u001b[0m\u001b[0mclasses_\u001b[0m\u001b[0;34m`\u001b[0m\u001b[0;34m`\u001b[0m\u001b[0;34m.\u001b[0m\u001b[0;34m\u001b[0m\u001b[0m\n\u001b[1;32m   1094\u001b[0m         \"\"\"\n\u001b[0;32m-> 1095\u001b[0;31m         \u001b[0;32mreturn\u001b[0m \u001b[0mself\u001b[0m\u001b[0;34m.\u001b[0m\u001b[0m_predict_proba_lr\u001b[0m\u001b[0;34m(\u001b[0m\u001b[0mX\u001b[0m\u001b[0;34m)\u001b[0m\u001b[0;34m\u001b[0m\u001b[0m\n\u001b[0m\u001b[1;32m   1096\u001b[0m \u001b[0;34m\u001b[0m\u001b[0m\n\u001b[1;32m   1097\u001b[0m     \u001b[0;32mdef\u001b[0m \u001b[0mpredict_log_proba\u001b[0m\u001b[0;34m(\u001b[0m\u001b[0mself\u001b[0m\u001b[0;34m,\u001b[0m \u001b[0mX\u001b[0m\u001b[0;34m)\u001b[0m\u001b[0;34m:\u001b[0m\u001b[0;34m\u001b[0m\u001b[0m\n",
      "\u001b[0;32m/Users/hee/.pyenv/versions/2.7.9/lib/python2.7/site-packages/sklearn/linear_model/base.pyc\u001b[0m in \u001b[0;36m_predict_proba_lr\u001b[0;34m(self, X)\u001b[0m\n\u001b[1;32m    235\u001b[0m         \u001b[0mmulticlass\u001b[0m \u001b[0;32mis\u001b[0m \u001b[0mhandled\u001b[0m \u001b[0mby\u001b[0m \u001b[0mnormalizing\u001b[0m \u001b[0mthat\u001b[0m \u001b[0mover\u001b[0m \u001b[0mall\u001b[0m \u001b[0mclasses\u001b[0m\u001b[0;34m.\u001b[0m\u001b[0;34m\u001b[0m\u001b[0m\n\u001b[1;32m    236\u001b[0m         \"\"\"\n\u001b[0;32m--> 237\u001b[0;31m         \u001b[0mprob\u001b[0m \u001b[0;34m=\u001b[0m \u001b[0mself\u001b[0m\u001b[0;34m.\u001b[0m\u001b[0mdecision_function\u001b[0m\u001b[0;34m(\u001b[0m\u001b[0mX\u001b[0m\u001b[0;34m)\u001b[0m\u001b[0;34m\u001b[0m\u001b[0m\n\u001b[0m\u001b[1;32m    238\u001b[0m         \u001b[0mprob\u001b[0m \u001b[0;34m*=\u001b[0m \u001b[0;34m-\u001b[0m\u001b[0;36m1\u001b[0m\u001b[0;34m\u001b[0m\u001b[0m\n\u001b[1;32m    239\u001b[0m         \u001b[0mnp\u001b[0m\u001b[0;34m.\u001b[0m\u001b[0mexp\u001b[0m\u001b[0;34m(\u001b[0m\u001b[0mprob\u001b[0m\u001b[0;34m,\u001b[0m \u001b[0mprob\u001b[0m\u001b[0;34m)\u001b[0m\u001b[0;34m\u001b[0m\u001b[0m\n",
      "\u001b[0;32m/Users/hee/.pyenv/versions/2.7.9/lib/python2.7/site-packages/sklearn/linear_model/base.pyc\u001b[0m in \u001b[0;36mdecision_function\u001b[0;34m(self, X)\u001b[0m\n\u001b[1;32m    202\u001b[0m         \u001b[0;32mif\u001b[0m \u001b[0mX\u001b[0m\u001b[0;34m.\u001b[0m\u001b[0mshape\u001b[0m\u001b[0;34m[\u001b[0m\u001b[0;36m1\u001b[0m\u001b[0;34m]\u001b[0m \u001b[0;34m!=\u001b[0m \u001b[0mn_features\u001b[0m\u001b[0;34m:\u001b[0m\u001b[0;34m\u001b[0m\u001b[0m\n\u001b[1;32m    203\u001b[0m             raise ValueError(\"X has %d features per sample; expecting %d\"\n\u001b[0;32m--> 204\u001b[0;31m                              % (X.shape[1], n_features))\n\u001b[0m\u001b[1;32m    205\u001b[0m \u001b[0;34m\u001b[0m\u001b[0m\n\u001b[1;32m    206\u001b[0m         scores = safe_sparse_dot(X, self.coef_.T,\n",
      "\u001b[0;31mValueError\u001b[0m: X has 66 features per sample; expecting 286"
     ]
    }
   ],
   "source": [
    "# 3. get f score\n",
    "def getPredictionModule(clf, X, threshold = 0.5, i = 1):\n",
    "    '''\n",
    "    clf: LogisticRegression()\n",
    "    X\n",
    "    threshold\n",
    "    i: 0 or 1(1 if 0 occurs earlier and 0 if 1 occurs earlier)\n",
    "    \n",
    "    return: predicted labels for X\n",
    "    '''\n",
    "    probaPoly = clf.predict_proba(X)[:,i]\n",
    "    return probaPoly > threshold\n",
    "\n",
    "predictionPoly = getPredictionModule(clfPoly, XtestPoly)"
   ]
  },
  {
   "cell_type": "code",
   "execution_count": 13,
   "metadata": {
    "collapsed": false
   },
   "outputs": [
    {
     "name": "stdout",
     "output_type": "stream",
     "text": [
      "(0.93589999999999995, 0.58153241650294696, 0.14755732801595214, 0.23538767395626242)\n"
     ]
    }
   ],
   "source": [
    "print getMeasures(ytest, predictionPoly)"
   ]
  },
  {
   "cell_type": "code",
   "execution_count": 17,
   "metadata": {
    "collapsed": false
   },
   "outputs": [
    {
     "name": "stdout",
     "output_type": "stream",
     "text": [
      "\n",
      "1\n",
      "\n",
      "2\n",
      "\n",
      "3\n"
     ]
    }
   ],
   "source": [
    "# optimum polynomial term\n",
    "accuracyList = []\n",
    "fscoreList = []\n",
    "\n",
    "for i in range(1, 4):\n",
    "    print '\\n', i\n",
    "    # 1 add polynomial terms\n",
    "    poly = PolynomialFeatures(i)\n",
    "    \n",
    "    XtrainPoly = polyFeature(poly, Xtrain)\n",
    "    XcvPoly = polyFeature(poly, Xcv)\n",
    "    \n",
    "    # 2 train\n",
    "    clfPoly = LogisticRegression()\n",
    "    clfPoly.fit(XtrainPoly, ytrain)\n",
    "    \n",
    "    # 3 get measures\n",
    "    accuracy, precision, recall, fscore = getMeasures(ycv, getPredictionModule(clfPoly, XcvPoly, threshold = 0.125))\n",
    "    accuracyList.append(accuracy)\n",
    "    fscoreList.append(fscore)\n",
    "    "
   ]
  },
  {
   "cell_type": "code",
   "execution_count": 18,
   "metadata": {
    "collapsed": false
   },
   "outputs": [
    {
     "data": {
      "text/plain": [
       "[0.31594202898550722, 0.36109750122488976, 0.12736551811582719]"
      ]
     },
     "execution_count": 18,
     "metadata": {},
     "output_type": "execute_result"
    }
   ],
   "source": [
    "fscoreList"
   ]
  },
  {
   "cell_type": "code",
   "execution_count": 20,
   "metadata": {
    "collapsed": false
   },
   "outputs": [
    {
     "data": {
      "text/plain": [
       "<matplotlib.text.Text at 0x110057490>"
      ]
     },
     "execution_count": 20,
     "metadata": {},
     "output_type": "execute_result"
    },
    {
     "data": {
      "image/png": "[encoded data removed]",
      "text/plain": [
       "<matplotlib.figure.Figure at 0x10e41d210>"
      ]
     },
     "metadata": {},
     "output_type": "display_data"
    }
   ],
   "source": [
    "plt.figure()\n",
    "plt.plot(range(1,4), fscoreList, label = 'F-score')\n",
    "plt.plot(range(1,4), accuracyList, label = 'Accuracy')\n",
    "\n",
    "plt.legend(loc='best')\n",
    "plt.xticks(rotation=70) \n",
    "plt.xlabel(\"Polynomial term\")\n",
    "plt.ylabel(\"F-score\")\n",
    "plt.title(\"Polynomial term - F-score relationship\")"
   ]
  },
  {
   "cell_type": "markdown",
   "metadata": {},
   "source": [
    "Polynomial term that maximizes f-score >> 2"
   ]
  },
  {
   "cell_type": "code",
   "execution_count": 27,
   "metadata": {
    "collapsed": true
   },
   "outputs": [],
   "source": [
    "poly = PolynomialFeatures(2)\n",
    "\n",
    "XtrainPoly = polyFeature(poly, Xtrain)\n",
    "XcvPoly = polyFeature(poly, Xcv)"
   ]
  },
  {
   "cell_type": "code",
   "execution_count": 28,
   "metadata": {
    "collapsed": false
   },
   "outputs": [
    {
     "name": "stdout",
     "output_type": "stream",
     "text": [
      "\n",
      "When C = 1, accuracy is 0.912533 and f-score is 0.403094.\n",
      "\n",
      "When C = 2, accuracy is 0.910533 and f-score is 0.411404.\n",
      "\n",
      "When C = 3, accuracy is 0.915500 and f-score is 0.383662.\n",
      "\n",
      "When C = 4, accuracy is 0.912400 and f-score is 0.398902.\n",
      "\n",
      "When C = 5, accuracy is 0.912533 and f-score is 0.399817.\n",
      "\n",
      "When C = 6, accuracy is 0.912333 and f-score is 0.399543.\n",
      "\n",
      "When C = 7, accuracy is 0.913033 and f-score is 0.361634.\n",
      "\n",
      "When C = 8, accuracy is 0.912500 and f-score is 0.398625.\n",
      "\n",
      "When C = 9, accuracy is 0.912100 and f-score is 0.398083.\n",
      "\n",
      "When C = 10, accuracy is 0.911200 and f-score is 0.408263.\n"
     ]
    }
   ],
   "source": [
    "# 1. C\n",
    "accuracyList = []\n",
    "fscoreList = []\n",
    "for i in np.linspace(1, 10, 10):\n",
    "   \n",
    "    # 1 train\n",
    "    clfPoly = LogisticRegression(C = i)\n",
    "    clfPoly.fit(XtrainPoly, ytrain)\n",
    "    \n",
    "    # 2 get measures\n",
    "    accuracy, precision, recall, fscore = getMeasures(ycv, \\\n",
    "                                                      getPredictionModule(clfPoly, XcvPoly, threshold = 0.125))\n",
    "    accuracyList.append(accuracy)\n",
    "    fscoreList.append(fscore)\n",
    "\n",
    "    print '\\nWhen C = %d, accuracy is %f and f-score is %f.' % (i, accuracy, fscore)"
   ]
  },
  {
   "cell_type": "code",
   "execution_count": 29,
   "metadata": {
    "collapsed": false
   },
   "outputs": [
    {
     "name": "stdout",
     "output_type": "stream",
     "text": [
      "C that maximizes F-score >> 2.0\n"
     ]
    },
    {
     "data": {
      "image/png": "[encoded data removed]",
      "text/plain": [
       "<matplotlib.figure.Figure at 0x11004a090>"
      ]
     },
     "metadata": {},
     "output_type": "display_data"
    }
   ],
   "source": [
    "plt.figure()\n",
    "plt.plot(np.linspace(1,10,10), fscoreList, label = 'F-score')\n",
    "plt.plot(np.linspace(1,10,10), accuracyList, label = 'Accuracy')\n",
    "\n",
    "plt.legend(loc='best')\n",
    "plt.xticks(rotation=70) \n",
    "plt.xlabel(\"C\")\n",
    "plt.ylabel(\"F-score\")\n",
    "plt.title(\"C - F-score relationship\")\n",
    "\n",
    "maxFscore = max(fscoreList)\n",
    "maxIndex = fscoreList.index(maxFscore)\n",
    "\n",
    "print \"C that maximizes F-score >>\", np.linspace(1,10,10)[maxIndex]\n",
    "\n"
   ]
  },
  {
   "cell_type": "code",
   "execution_count": 31,
   "metadata": {
    "collapsed": false
   },
   "outputs": [
    {
     "name": "stdout",
     "output_type": "stream",
     "text": [
      "When Threshold is 0.000000, accuracy is 0.068300 and fscore is 0.127867.\n",
      "When Threshold is 0.012500, accuracy is 0.081500 and fscore is 0.127482.\n",
      "When Threshold is 0.025000, accuracy is 0.277167 and fscore is 0.152764.\n",
      "When Threshold is 0.037500, accuracy is 0.342233 and fscore is 0.161262.\n",
      "When Threshold is 0.050000, accuracy is 0.658267 and fscore is 0.240705.\n",
      "When Threshold is 0.062500, accuracy is 0.779033 and fscore is 0.304188.\n",
      "When Threshold is 0.075000, accuracy is 0.838400 and fscore is 0.350656.\n",
      "When Threshold is 0.087500, accuracy is 0.876867 and fscore is 0.390630.\n",
      "When Threshold is 0.100000, accuracy is 0.890100 and fscore is 0.396043.\n",
      "When Threshold is 0.112500, accuracy is 0.903867 and fscore is 0.406340.\n",
      "When Threshold is 0.125000, accuracy is 0.911867 and fscore is 0.402621.\n",
      "When Threshold is 0.137500, accuracy is 0.920833 and fscore is 0.354093.\n",
      "When Threshold is 0.150000, accuracy is 0.920267 and fscore is 0.390107.\n",
      "When Threshold is 0.162500, accuracy is 0.922600 and fscore is 0.392782.\n",
      "When Threshold is 0.175000, accuracy is 0.923267 and fscore is 0.400208.\n",
      "When Threshold is 0.187500, accuracy is 0.926733 and fscore is 0.370561.\n",
      "When Threshold is 0.200000, accuracy is 0.929167 and fscore is 0.343528.\n",
      "When Threshold is 0.212500, accuracy is 0.930067 and fscore is 0.333968.\n",
      "When Threshold is 0.225000, accuracy is 0.929000 and fscore is 0.387579.\n",
      "When Threshold is 0.237500, accuracy is 0.930233 and fscore is 0.357778.\n",
      "When Threshold is 0.250000, accuracy is 0.930833 and fscore is 0.373679.\n",
      "When Threshold is 0.262500, accuracy is 0.931433 and fscore is 0.322687.\n",
      "When Threshold is 0.275000, accuracy is 0.931933 and fscore is 0.377059.\n",
      "When Threshold is 0.287500, accuracy is 0.932133 and fscore is 0.329381.\n",
      "When Threshold is 0.300000, accuracy is 0.932633 and fscore is 0.341908.\n",
      "When Threshold is 0.312500, accuracy is 0.933200 and fscore is 0.290368.\n",
      "When Threshold is 0.325000, accuracy is 0.933633 and fscore is 0.332998.\n",
      "When Threshold is 0.337500, accuracy is 0.933833 and fscore is 0.281578.\n",
      "When Threshold is 0.350000, accuracy is 0.934100 and fscore is 0.261487.\n",
      "When Threshold is 0.362500, accuracy is 0.934233 and fscore is 0.279138.\n",
      "When Threshold is 0.375000, accuracy is 0.934600 and fscore is 0.315422.\n",
      "When Threshold is 0.387500, accuracy is 0.932867 and fscore is 0.122058.\n",
      "When Threshold is 0.400000, accuracy is 0.934167 and fscore is 0.242424.\n",
      "When Threshold is 0.412500, accuracy is 0.934333 and fscore is 0.232268.\n"
     ]
    },
    {
     "ename": "KeyboardInterrupt",
     "evalue": "",
     "output_type": "error",
     "traceback": [
      "\u001b[0;31m---------------------------------------------------------------------------\u001b[0m",
      "\u001b[0;31mKeyboardInterrupt\u001b[0m                         Traceback (most recent call last)",
      "\u001b[0;32m<ipython-input-31-d8f312231c87>\u001b[0m in \u001b[0;36m<module>\u001b[0;34m()\u001b[0m\n\u001b[1;32m      7\u001b[0m     \u001b[0;31m# 1 train\u001b[0m\u001b[0;34m\u001b[0m\u001b[0;34m\u001b[0m\u001b[0m\n\u001b[1;32m      8\u001b[0m     \u001b[0mclfPoly\u001b[0m \u001b[0;34m=\u001b[0m \u001b[0mLogisticRegression\u001b[0m\u001b[0;34m(\u001b[0m\u001b[0mC\u001b[0m \u001b[0;34m=\u001b[0m \u001b[0;36m2\u001b[0m\u001b[0;34m)\u001b[0m\u001b[0;34m\u001b[0m\u001b[0m\n\u001b[0;32m----> 9\u001b[0;31m     \u001b[0mclfPoly\u001b[0m\u001b[0;34m.\u001b[0m\u001b[0mfit\u001b[0m\u001b[0;34m(\u001b[0m\u001b[0mXtrainPoly\u001b[0m\u001b[0;34m,\u001b[0m \u001b[0mytrain\u001b[0m\u001b[0;34m)\u001b[0m\u001b[0;34m\u001b[0m\u001b[0m\n\u001b[0m\u001b[1;32m     10\u001b[0m \u001b[0;34m\u001b[0m\u001b[0m\n\u001b[1;32m     11\u001b[0m     \u001b[0;31m# 2 get measures\u001b[0m\u001b[0;34m\u001b[0m\u001b[0;34m\u001b[0m\u001b[0m\n",
      "\u001b[0;32m/Users/hee/.pyenv/versions/2.7.9/lib/python2.7/site-packages/sklearn/linear_model/logistic.pyc\u001b[0m in \u001b[0;36mfit\u001b[0;34m(self, X, y)\u001b[0m\n\u001b[1;32m   1034\u001b[0m                 \u001b[0mX\u001b[0m\u001b[0;34m,\u001b[0m \u001b[0my\u001b[0m\u001b[0;34m,\u001b[0m \u001b[0mself\u001b[0m\u001b[0;34m.\u001b[0m\u001b[0mC\u001b[0m\u001b[0;34m,\u001b[0m \u001b[0mself\u001b[0m\u001b[0;34m.\u001b[0m\u001b[0mfit_intercept\u001b[0m\u001b[0;34m,\u001b[0m \u001b[0mself\u001b[0m\u001b[0;34m.\u001b[0m\u001b[0mintercept_scaling\u001b[0m\u001b[0;34m,\u001b[0m\u001b[0;34m\u001b[0m\u001b[0m\n\u001b[1;32m   1035\u001b[0m                 \u001b[0mself\u001b[0m\u001b[0;34m.\u001b[0m\u001b[0mclass_weight\u001b[0m\u001b[0;34m,\u001b[0m \u001b[0mself\u001b[0m\u001b[0;34m.\u001b[0m\u001b[0mpenalty\u001b[0m\u001b[0;34m,\u001b[0m \u001b[0mself\u001b[0m\u001b[0;34m.\u001b[0m\u001b[0mdual\u001b[0m\u001b[0;34m,\u001b[0m \u001b[0mself\u001b[0m\u001b[0;34m.\u001b[0m\u001b[0mverbose\u001b[0m\u001b[0;34m,\u001b[0m\u001b[0;34m\u001b[0m\u001b[0m\n\u001b[0;32m-> 1036\u001b[0;31m                 \u001b[0mself\u001b[0m\u001b[0;34m.\u001b[0m\u001b[0mmax_iter\u001b[0m\u001b[0;34m,\u001b[0m \u001b[0mself\u001b[0m\u001b[0;34m.\u001b[0m\u001b[0mtol\u001b[0m\u001b[0;34m\u001b[0m\u001b[0m\n\u001b[0m\u001b[1;32m   1037\u001b[0m                 )\n\u001b[1;32m   1038\u001b[0m             \u001b[0;32mreturn\u001b[0m \u001b[0mself\u001b[0m\u001b[0;34m\u001b[0m\u001b[0m\n",
      "\u001b[0;32m/Users/hee/.pyenv/versions/2.7.9/lib/python2.7/site-packages/sklearn/svm/base.pyc\u001b[0m in \u001b[0;36m_fit_liblinear\u001b[0;34m(X, y, C, fit_intercept, intercept_scaling, class_weight, penalty, dual, verbose, max_iter, tol, random_state, multi_class, loss, epsilon)\u001b[0m\n\u001b[1;32m    838\u001b[0m         \u001b[0mX\u001b[0m\u001b[0;34m,\u001b[0m \u001b[0my_ind\u001b[0m\u001b[0;34m,\u001b[0m \u001b[0msp\u001b[0m\u001b[0;34m.\u001b[0m\u001b[0misspmatrix\u001b[0m\u001b[0;34m(\u001b[0m\u001b[0mX\u001b[0m\u001b[0;34m)\u001b[0m\u001b[0;34m,\u001b[0m \u001b[0msolver_type\u001b[0m\u001b[0;34m,\u001b[0m \u001b[0mtol\u001b[0m\u001b[0;34m,\u001b[0m \u001b[0mbias\u001b[0m\u001b[0;34m,\u001b[0m \u001b[0mC\u001b[0m\u001b[0;34m,\u001b[0m\u001b[0;34m\u001b[0m\u001b[0m\n\u001b[1;32m    839\u001b[0m         \u001b[0mclass_weight_\u001b[0m\u001b[0;34m,\u001b[0m \u001b[0mmax_iter\u001b[0m\u001b[0;34m,\u001b[0m \u001b[0mrnd\u001b[0m\u001b[0;34m.\u001b[0m\u001b[0mrandint\u001b[0m\u001b[0;34m(\u001b[0m\u001b[0mnp\u001b[0m\u001b[0;34m.\u001b[0m\u001b[0miinfo\u001b[0m\u001b[0;34m(\u001b[0m\u001b[0;34m'i'\u001b[0m\u001b[0;34m)\u001b[0m\u001b[0;34m.\u001b[0m\u001b[0mmax\u001b[0m\u001b[0;34m)\u001b[0m\u001b[0;34m,\u001b[0m\u001b[0;34m\u001b[0m\u001b[0m\n\u001b[0;32m--> 840\u001b[0;31m         epsilon)\n\u001b[0m\u001b[1;32m    841\u001b[0m     \u001b[0;31m# Regarding rnd.randint(..) in the above signature:\u001b[0m\u001b[0;34m\u001b[0m\u001b[0;34m\u001b[0m\u001b[0m\n\u001b[1;32m    842\u001b[0m     \u001b[0;31m# seed for srand in range [0..INT_MAX); due to limitations in Numpy\u001b[0m\u001b[0;34m\u001b[0m\u001b[0;34m\u001b[0m\u001b[0m\n",
      "\u001b[0;31mKeyboardInterrupt\u001b[0m: "
     ]
    }
   ],
   "source": [
    "# 2. Threshold\n",
    "fscoreList = []\n",
    "accuracyList = []\n",
    "\n",
    "for i in np.linspace(0, 1, 81):\n",
    "   \n",
    "    # 1 train\n",
    "    clfPoly = LogisticRegression(C = 2)\n",
    "    clfPoly.fit(XtrainPoly, ytrain)\n",
    "    \n",
    "    # 2 get measures\n",
    "    accuracy, precision, recall, fscore = getMeasures(ycv, \\\n",
    "                                                      getPredictionModule(clfPoly, XcvPoly, threshold = i))\n",
    "\n",
    "    fscoreList.append(fscore)\n",
    "    accuracyList.append(accuracy)\n",
    "    \n",
    "    print \"When Threshold is %f, accuracy is %f and fscore is %f.\" % (i, accuracy, fscore)\n",
    "\n",
    "# plot learning curve\n",
    "plt.plot(np.linspace(0, 1, 81), fscoreList, label = 'F-score')\n",
    "plt.plot(np.linspace(0, 1, 81), accuracyList, label = 'Accuracy')\n",
    "\n",
    "plt.legend(loc='best')\n",
    "plt.xticks(rotation=70) \n",
    "plt.xlabel(\"Threshold\")\n",
    "plt.ylabel(\"F-score\")\n",
    "plt.title(\"Threshold - F-score relationship\")\n",
    "\n"
   ]
  },
  {
   "cell_type": "code",
   "execution_count": 35,
   "metadata": {
    "collapsed": false
   },
   "outputs": [
    {
     "data": {
      "text/plain": [
       "<matplotlib.text.Text at 0x1105df850>"
      ]
     },
     "execution_count": 35,
     "metadata": {},
     "output_type": "execute_result"
    },
    {
     "data": {
      "image/png": "[encoded data removed]",
      "text/plain": [
       "<matplotlib.figure.Figure at 0x110598290>"
      ]
     },
     "metadata": {},
     "output_type": "display_data"
    }
   ],
   "source": [
    "# plot learning curve\n",
    "plt.plot(np.linspace(0, 0.4125, len(fscoreList)), fscoreList, label = 'F-score')\n",
    "plt.plot(np.linspace(0, 0.4125, len(fscoreList)), accuracyList, label = 'Accuracy')\n",
    "\n",
    "plt.legend(loc='best')\n",
    "plt.xticks(rotation=70) \n",
    "plt.xlabel(\"Threshold\")\n",
    "plt.ylabel(\"F-score\")\n",
    "plt.title(\"Threshold - F-score relationship\")"
   ]
  },
  {
   "cell_type": "markdown",
   "metadata": {},
   "source": [
    "# II.5. Modified Model\n",
    "    Train again with modified parameters\n",
    "    (Higher f-score expected, in sacrifice of accuracy)"
   ]
  },
  {
   "cell_type": "code",
   "execution_count": 21,
   "metadata": {
    "collapsed": false
   },
   "outputs": [
    {
     "name": "stdout",
     "output_type": "stream",
     "text": [
      "Optimization terminated successfully.\n",
      "         Current function value: 0.224452\n",
      "         Iterations: 86\n",
      "         Function evaluations: 231\n",
      "         Gradient evaluations: 231\n",
      "accuracy 0.906233333333\n",
      "precision 0.310474401127\n",
      "recall 0.329511465603\n",
      "fscore 0.319709794438\n"
     ]
    }
   ],
   "source": [
    "## 1. Lambda & Threshold modified\n",
    "theta_modified = logisticRegression(costFunction, gradFunction, Xtrain, ytrain, bestL_F)\n",
    "prediction_modified = predict(theta_modified, Xtest, ytest, bestT)"
   ]
  },
  {
   "cell_type": "code",
   "execution_count": 21,
   "metadata": {
    "collapsed": true
   },
   "outputs": [],
   "source": [
    "## 2. Polynomial term (2), C & Threshold modified"
   ]
  },
  {
   "cell_type": "code",
   "execution_count": null,
   "metadata": {
    "collapsed": true
   },
   "outputs": [],
   "source": [
    "# 1. Polynomial term\n",
    "poly = PolynomialFeatures(2)\n",
    "\n",
    "XtrainPoly = polyFeature(poly, Xtrain)\n",
    "XcvPoly = polyFeature(poly, Xcv)"
   ]
  },
  {
   "cell_type": "code",
   "execution_count": 39,
   "metadata": {
    "collapsed": false
   },
   "outputs": [
    {
     "name": "stdout",
     "output_type": "stream",
     "text": [
      "\n",
      "Data Columns:\n",
      "\t0 \tSeriousDlqin2yrs\n",
      "\t1 \tRevolvingUtilizationOfUnsecuredLines\n",
      "\t2 \tage\n",
      "\t3 \tNumberOfTime30-59DaysPastDueNotWorse\n",
      "\t4 \tDebtRatio\n",
      "\t5 \tMonthlyIncome\n",
      "\t6 \tNumberOfOpenCreditLinesAndLoans\n",
      "\t7 \tNumberOfTimes90DaysLate\n",
      "\t8 \tNumberRealEstateLoansOrLines\n",
      "\t9 \tNumberOfTime60-89DaysPastDueNotWorse\n",
      "\t10 \tNumberOfDependents\n",
      "\n",
      "Shape is:\n",
      "(101503, 11)\n",
      "   SeriousDlqin2yrs  RevolvingUtilizationOfUnsecuredLines  age  \\\n",
      "1               NaN                              0.885519   43   \n",
      "2               NaN                              0.463295   57   \n",
      "3               NaN                              0.043275   59   \n",
      "4               NaN                              0.280308   38   \n",
      "5               NaN                              1.000000   27   \n",
      "\n",
      "   NumberOfTime30-59DaysPastDueNotWorse  DebtRatio  MonthlyIncome  \\\n",
      "1                                     0   0.177513           5700   \n",
      "2                                     0   0.527237           9141   \n",
      "3                                     0   0.687648           5083   \n",
      "4                                     1   0.925961           3200   \n",
      "5                                     0   0.019917           3865   \n",
      "\n",
      "   NumberOfOpenCreditLinesAndLoans  NumberOfTimes90DaysLate  \\\n",
      "1                                4                        0   \n",
      "2                               15                        0   \n",
      "3                               12                        0   \n",
      "4                                7                        0   \n",
      "5                                4                        0   \n",
      "\n",
      "   NumberRealEstateLoansOrLines  NumberOfTime60-89DaysPastDueNotWorse  \\\n",
      "1                             0                                     0   \n",
      "2                             4                                     0   \n",
      "3                             1                                     0   \n",
      "4                             2                                     0   \n",
      "5                             0                                     0   \n",
      "\n",
      "   NumberOfDependents  \n",
      "1                   0  \n",
      "2                   2  \n",
      "3                   2  \n",
      "4                   0  \n",
      "5                   1  \n"
     ]
    },
    {
     "ename": "NameError",
     "evalue": "name 'theta_modified' is not defined",
     "output_type": "error",
     "traceback": [
      "\u001b[0;31m---------------------------------------------------------------------------\u001b[0m",
      "\u001b[0;31mNameError\u001b[0m                                 Traceback (most recent call last)",
      "\u001b[0;32m<ipython-input-39-d8cf915c96b2>\u001b[0m in \u001b[0;36m<module>\u001b[0;34m()\u001b[0m\n\u001b[1;32m      4\u001b[0m \u001b[0mXnew\u001b[0m \u001b[0;34m=\u001b[0m \u001b[0maddBias\u001b[0m\u001b[0;34m(\u001b[0m\u001b[0mXnew\u001b[0m\u001b[0;34m)\u001b[0m\u001b[0;34m\u001b[0m\u001b[0m\n\u001b[1;32m      5\u001b[0m \u001b[0;34m\u001b[0m\u001b[0m\n\u001b[0;32m----> 6\u001b[0;31m \u001b[0mpredictionNew\u001b[0m \u001b[0;34m=\u001b[0m \u001b[0mgetPrediction\u001b[0m\u001b[0;34m(\u001b[0m\u001b[0mtheta_modified\u001b[0m\u001b[0;34m,\u001b[0m \u001b[0mXnew\u001b[0m\u001b[0;34m,\u001b[0m \u001b[0mthreshold\u001b[0m \u001b[0;34m=\u001b[0m \u001b[0mbestT\u001b[0m\u001b[0;34m)\u001b[0m\u001b[0;34m\u001b[0m\u001b[0m\n\u001b[0m",
      "\u001b[0;31mNameError\u001b[0m: name 'theta_modified' is not defined"
     ]
    }
   ],
   "source": [
    "new = load('cs-test.csv')\n",
    "Xnew, ynew = splitData(new)\n",
    "Xnew = featureScale(Xnew)\n",
    "Xnew = addBias(Xnew)\n",
    "\n",
    "predictionNew = getPrediction(theta_modified, Xnew, threshold = bestT)\n"
   ]
  },
  {
   "cell_type": "code",
   "execution_count": null,
   "metadata": {
    "collapsed": true
   },
   "outputs": [],
   "source": []
  },
  {
   "cell_type": "code",
   "execution_count": 25,
   "metadata": {
    "collapsed": false
   },
   "outputs": [
    {
     "name": "stdout",
     "output_type": "stream",
     "text": [
      "1         0\n",
      "2         0\n",
      "3         0\n",
      "4         0\n",
      "5         0\n",
      "6         0\n",
      "7         0\n",
      "8         0\n",
      "9         0\n",
      "10        1\n",
      "11        0\n",
      "12        0\n",
      "13        0\n",
      "14        0\n",
      "15        0\n",
      "16        0\n",
      "17        0\n",
      "18        0\n",
      "19        0\n",
      "20        0\n",
      "21        0\n",
      "22        0\n",
      "23        0\n",
      "24        0\n",
      "25        0\n",
      "26        0\n",
      "27        0\n",
      "28        0\n",
      "29        0\n",
      "30        0\n",
      "         ..\n",
      "101474    0\n",
      "101475    0\n",
      "101476    0\n",
      "101477    0\n",
      "101478    0\n",
      "101479    0\n",
      "101480    0\n",
      "101481    0\n",
      "101482    0\n",
      "101483    1\n",
      "101484    0\n",
      "101485    0\n",
      "101486    0\n",
      "101487    0\n",
      "101488    0\n",
      "101489    0\n",
      "101490    0\n",
      "101491    1\n",
      "101492    0\n",
      "101493    0\n",
      "101494    0\n",
      "101495    0\n",
      "101496    0\n",
      "101497    0\n",
      "101498    0\n",
      "101499    0\n",
      "101500    1\n",
      "101501    0\n",
      "101502    0\n",
      "101503    0\n",
      "dtype: int64\n"
     ]
    }
   ],
   "source": [
    "print predictionNew\n"
   ]
  },
  {
   "cell_type": "code",
   "execution_count": 47,
   "metadata": {
    "collapsed": false
   },
   "outputs": [
    {
     "ename": "NameError",
     "evalue": "name 'Xnew' is not defined",
     "output_type": "error",
     "traceback": [
      "\u001b[0;31m---------------------------------------------------------------------------\u001b[0m",
      "\u001b[0;31mNameError\u001b[0m                                 Traceback (most recent call last)",
      "\u001b[0;32m<ipython-input-47-ca0ba178beff>\u001b[0m in \u001b[0;36m<module>\u001b[0;34m()\u001b[0m\n\u001b[0;32m----> 1\u001b[0;31m \u001b[0mprobabilityNew\u001b[0m \u001b[0;34m=\u001b[0m \u001b[0msigmoid\u001b[0m\u001b[0;34m(\u001b[0m\u001b[0mXnew\u001b[0m\u001b[0;34m.\u001b[0m\u001b[0mdot\u001b[0m\u001b[0;34m(\u001b[0m\u001b[0mtheta_modified\u001b[0m\u001b[0;34m)\u001b[0m\u001b[0;34m)\u001b[0m\u001b[0;34m\u001b[0m\u001b[0m\n\u001b[0m",
      "\u001b[0;31mNameError\u001b[0m: name 'Xnew' is not defined"
     ]
    }
   ],
   "source": [
    "probabilityNew = sigmoid(Xnew.dot(theta_modified))\n"
   ]
  },
  {
   "cell_type": "code",
   "execution_count": 27,
   "metadata": {
    "collapsed": false
   },
   "outputs": [
    {
     "name": "stdout",
     "output_type": "stream",
     "text": [
      "1         0.057580\n",
      "2         0.056076\n",
      "3         0.045385\n",
      "4         0.116763\n",
      "5         0.100015\n",
      "6         0.036130\n",
      "7         0.062592\n",
      "8         0.037723\n",
      "9         0.029073\n",
      "10        0.689355\n",
      "11        0.077122\n",
      "12        0.051287\n",
      "13        0.026652\n",
      "14        0.089537\n",
      "15        0.043834\n",
      "16        0.084709\n",
      "17        0.030476\n",
      "18        0.068848\n",
      "19        0.042103\n",
      "20        0.063177\n",
      "21        0.055864\n",
      "22        0.033072\n",
      "23        0.031187\n",
      "24        0.051874\n",
      "25        0.085620\n",
      "26        0.045817\n",
      "27        0.061183\n",
      "28        0.029286\n",
      "29        0.090420\n",
      "30        0.054074\n",
      "            ...   \n",
      "101474    0.023454\n",
      "101475    0.023429\n",
      "101476    0.091336\n",
      "101477    0.033269\n",
      "101478    0.027867\n",
      "101479    0.073257\n",
      "101480    0.041050\n",
      "101481    0.050658\n",
      "101482    0.055437\n",
      "101483    0.684033\n",
      "101484    0.018394\n",
      "101485    0.045604\n",
      "101486    0.019412\n",
      "101487    0.049571\n",
      "101488    0.032987\n",
      "101489    0.028870\n",
      "101490    0.082112\n",
      "101491    0.204789\n",
      "101492    0.083161\n",
      "101493    0.083222\n",
      "101494    0.048640\n",
      "101495    0.041472\n",
      "101496    0.059662\n",
      "101497    0.021514\n",
      "101498    0.028995\n",
      "101499    0.100919\n",
      "101500    0.336015\n",
      "101501    0.027015\n",
      "101502    0.023439\n",
      "101503    0.081593\n",
      "dtype: float64\n"
     ]
    }
   ],
   "source": [
    "print probabilityNew\n"
   ]
  },
  {
   "cell_type": "code",
   "execution_count": 28,
   "metadata": {
    "collapsed": true
   },
   "outputs": [],
   "source": [
    "probabilityNew.to_csv('probNew.csv')\n"
   ]
  },
  {
   "cell_type": "code",
   "execution_count": 40,
   "metadata": {
    "collapsed": false
   },
   "outputs": [],
   "source": [
    "poly = PolynomialFeatures(2)\n",
    "XnewPoly = polyFeature(poly, Xnew)\n",
    "\n",
    "clfPoly = LogisticRegression(C = 2)\n",
    "clfPoly.fit(XtrainPoly, ytrain)\n",
    "\n",
    "probaPoly = clfPoly.predict_proba(XnewPoly)\n",
    "\n",
    "probaPolyArray = {'probability':probaPoly[:,1]}\n",
    "probaPolyDF = pd.DataFrame(probaPolyArray, index = np.linspace(1,101503,101503))\n",
    "probaPolyDF.to_csv('probaPoly_opt.csv',)"
   ]
  },
  {
   "cell_type": "code",
   "execution_count": null,
   "metadata": {
    "collapsed": true
   },
   "outputs": [],
   "source": []
  }
 ],
 "metadata": {
  "kernelspec": {
   "display_name": "Python 2",
   "language": "python",
   "name": "python2"
  },
  "language_info": {
   "codemirror_mode": {
    "name": "ipython",
    "version": 2
   },
   "file_extension": ".py",
   "mimetype": "text/x-python",
   "name": "python",
   "nbconvert_exporter": "python",
   "pygments_lexer": "ipython2",
   "version": "2.7.9"
  }
 },
 "nbformat": 4,
 "nbformat_minor": 0
}
