{
 "cells": [
  {
   "cell_type": "markdown",
   "metadata": {},
   "source": [
    "#Credit Scoring: Predict the probability of going default \n",
    "    Algorithm: Logistic Regression (10 features with 1 target)\n",
    "\n",
    "    Data: https://www.kaggle.com/c/GiveMeSomeCredit\n",
    "    \n",
    "    By: Hee Kyung, Yoon"
   ]
  },
  {
   "cell_type": "code",
   "execution_count": 5,
   "metadata": {
    "collapsed": true
   },
   "outputs": [],
   "source": [
    "%matplotlib inline \n",
    "\n",
    "import pandas as pd\n",
    "import matplotlib.pyplot as plt\n",
    "import numpy as np"
   ]
  },
  {
   "cell_type": "markdown",
   "metadata": {
    "collapsed": false
   },
   "source": [
    "## 0. LOAD DATA\n",
    "    1. load data\n",
    "    2. check data\n",
    "\n",
    "## 1. PROCESS DATA (-> X, y)\n",
    "    1. split data into training, cross validation and test data sets\n",
    "    2. splitData to X & y\n",
    "    3. featureScale\n",
    "\n",
    "\n",
    "## 2. BUILD FIRST MODEL\n",
    "    1. Train   \n",
    "    2. Predict\n",
    "\n",
    "## 3. EVALUATE MODEL\n",
    "    Learning Curve\n",
    "    \n",
    "## 4. MODIFY MODEL\n",
    "    1. Add polynomial features\n",
    "    2. Modify C (regularization term)\n",
    "    3. Modify Threshold\n",
    "    4. Modified Model\n",
    "\n",
    "----------------------------------------------------------------------------------------------------------------------------------------------------"
   ]
  },
  {
   "cell_type": "markdown",
   "metadata": {},
   "source": [
    "# 0. LOAD DATA\n",
    "    1. load data\n",
    "    2. check data"
   ]
  },
  {
   "cell_type": "code",
   "execution_count": 6,
   "metadata": {
    "collapsed": false
   },
   "outputs": [
    {
     "name": "stdout",
     "output_type": "stream",
     "text": [
      "\n",
      "Data Columns:\n",
      "\t0 \tSeriousDlqin2yrs\n",
      "\t1 \tRevolvingUtilizationOfUnsecuredLines\n",
      "\t2 \tage\n",
      "\t3 \tNumberOfTime30-59DaysPastDueNotWorse\n",
      "\t4 \tDebtRatio\n",
      "\t5 \tMonthlyIncome\n",
      "\t6 \tNumberOfOpenCreditLinesAndLoans\n",
      "\t7 \tNumberOfTimes90DaysLate\n",
      "\t8 \tNumberRealEstateLoansOrLines\n",
      "\t9 \tNumberOfTime60-89DaysPastDueNotWorse\n",
      "\t10 \tNumberOfDependents\n",
      "\n",
      "Shape is:\n",
      "(150000, 11)\n",
      "   SeriousDlqin2yrs  RevolvingUtilizationOfUnsecuredLines  age  \\\n",
      "1                 1                              0.766127   45   \n",
      "2                 0                              0.957151   40   \n",
      "3                 0                              0.658180   38   \n",
      "4                 0                              0.233810   30   \n",
      "5                 0                              0.907239   49   \n",
      "\n",
      "   NumberOfTime30-59DaysPastDueNotWorse  DebtRatio  MonthlyIncome  \\\n",
      "1                                     2   0.802982           9120   \n",
      "2                                     0   0.121876           2600   \n",
      "3                                     1   0.085113           3042   \n",
      "4                                     0   0.036050           3300   \n",
      "5                                     1   0.024926          63588   \n",
      "\n",
      "   NumberOfOpenCreditLinesAndLoans  NumberOfTimes90DaysLate  \\\n",
      "1                               13                        0   \n",
      "2                                4                        0   \n",
      "3                                2                        1   \n",
      "4                                5                        0   \n",
      "5                                7                        0   \n",
      "\n",
      "   NumberRealEstateLoansOrLines  NumberOfTime60-89DaysPastDueNotWorse  \\\n",
      "1                             6                                     0   \n",
      "2                             0                                     0   \n",
      "3                             0                                     0   \n",
      "4                             0                                     0   \n",
      "5                             1                                     0   \n",
      "\n",
      "   NumberOfDependents  \n",
      "1                   2  \n",
      "2                   1  \n",
      "3                   0  \n",
      "4                   0  \n",
      "5                   0  \n"
     ]
    }
   ],
   "source": [
    "def load(filename):\n",
    "    '''\n",
    "    filenname: string ('test.csv')\n",
    "    \n",
    "    returns: DataFrame\n",
    "    '''\n",
    "    data = pd.DataFrame.from_csv(filename, encoding = 'utf-8')\n",
    "    print '\\nData Columns:'\n",
    "    for i in range(len(data.columns)):\n",
    "        print '\\t',i,'\\t', data.columns[i]\n",
    "\n",
    "    check(data)\n",
    "    \n",
    "    return data\n",
    "\n",
    "def check(X):\n",
    "    '''\n",
    "    X: DataFrame or Series\n",
    "    \n",
    "        prints shape and head\n",
    "    \n",
    "    returns: None\n",
    "    '''\n",
    "    print '\\nShape is:\\n', X.shape\n",
    "    print X.head()\n",
    "\n",
    "data = load('cs-training.csv')"
   ]
  },
  {
   "cell_type": "markdown",
   "metadata": {},
   "source": [
    "#1. PROCESS DATA (-> X, y)\n",
    "    1. split data into Training, Cross validation & Test sets\n",
    "    2. splitData to X & y\n",
    "    3. featureScale"
   ]
  },
  {
   "cell_type": "code",
   "execution_count": 7,
   "metadata": {
    "collapsed": false,
    "scrolled": true
   },
   "outputs": [
    {
     "data": {
      "text/plain": [
       "\"\\n# Shuffle index\\nindex = np.array(data.index)\\nrandom.shuffle(index)\\n\\nprint index.shape\\nprint index\\n\\n# training set (60%)\\ntrainingSize = data.shape[0] * 0.60\\ntraining = data.ix[index[:trainingSize]]\\n\\ntraining.to_csv('training.csv', encoding='utf-8')\\n\\nprint '\\n', training.shape\\nprint training.head()\\n\\n# crossValidation set (20%)\\ncrossValSize = data.shape[0] * 0.20\\ncrossValidation = data.ix[index[trainingSize:trainingSize + crossValSize]]\\n\\ncrossValidation.to_csv('crossValidation.csv', encoding='utf-8')\\n\\nprint '\\n', crossValidation.shape\\n\\n# test set (20%)\\ntest = data.ix[index[trainingSize + crossValSize:]]\\n\\ntest.to_csv('test.csv', encoding = 'utf-8')\\n\\nprint '\\n', crossValidation.shape\\n\""
      ]
     },
     "execution_count": 7,
     "metadata": {},
     "output_type": "execute_result"
    }
   ],
   "source": [
    "# 1. Split data into training data, cross validation data, and test data\n",
    "\n",
    "import random\n",
    "\n",
    "'''\n",
    "# Shuffle index\n",
    "index = np.array(data.index)\n",
    "random.shuffle(index)\n",
    "\n",
    "print index.shape\n",
    "print index\n",
    "\n",
    "# training set (60%)\n",
    "trainingSize = data.shape[0] * 0.60\n",
    "training = data.ix[index[:trainingSize]]\n",
    "\n",
    "training.to_csv('training.csv', encoding='utf-8')\n",
    "\n",
    "print '\\n', training.shape\n",
    "print training.head()\n",
    "\n",
    "# crossValidation set (20%)\n",
    "crossValSize = data.shape[0] * 0.20\n",
    "crossValidation = data.ix[index[trainingSize:trainingSize + crossValSize]]\n",
    "\n",
    "crossValidation.to_csv('crossValidation.csv', encoding='utf-8')\n",
    "\n",
    "print '\\n', crossValidation.shape\n",
    "\n",
    "# test set (20%)\n",
    "test = data.ix[index[trainingSize + crossValSize:]]\n",
    "\n",
    "test.to_csv('test.csv', encoding = 'utf-8')\n",
    "\n",
    "print '\\n', crossValidation.shape\n",
    "'''"
   ]
  },
  {
   "cell_type": "code",
   "execution_count": 8,
   "metadata": {
    "collapsed": false
   },
   "outputs": [
    {
     "name": "stdout",
     "output_type": "stream",
     "text": [
      "\n",
      "Data Columns:\n",
      "\t0 \tSeriousDlqin2yrs\n",
      "\t1 \tRevolvingUtilizationOfUnsecuredLines\n",
      "\t2 \tage\n",
      "\t3 \tNumberOfTime30-59DaysPastDueNotWorse\n",
      "\t4 \tDebtRatio\n",
      "\t5 \tMonthlyIncome\n",
      "\t6 \tNumberOfOpenCreditLinesAndLoans\n",
      "\t7 \tNumberOfTimes90DaysLate\n",
      "\t8 \tNumberRealEstateLoansOrLines\n",
      "\t9 \tNumberOfTime60-89DaysPastDueNotWorse\n",
      "\t10 \tNumberOfDependents\n",
      "\n",
      "Shape is:\n",
      "(90000, 11)\n",
      "        SeriousDlqin2yrs  RevolvingUtilizationOfUnsecuredLines  age  \\\n",
      "42082                  1                              1.173509   33   \n",
      "47463                  0                              0.040118   67   \n",
      "6412                   0                              0.228882   68   \n",
      "142967                 0                              0.558521   50   \n",
      "51191                  0                              0.000000   65   \n",
      "\n",
      "        NumberOfTime30-59DaysPastDueNotWorse  DebtRatio  MonthlyIncome  \\\n",
      "42082                                      3   0.430443           5570   \n",
      "47463                                      0   0.007237          10500   \n",
      "6412                                       0   0.137878           3872   \n",
      "142967                                     0   0.211546          12800   \n",
      "51191                                      0   0.007198           3750   \n",
      "\n",
      "        NumberOfOpenCreditLinesAndLoans  NumberOfTimes90DaysLate  \\\n",
      "42082                                13                        5   \n",
      "47463                                17                        0   \n",
      "6412                                  6                        0   \n",
      "142967                               21                        0   \n",
      "51191                                 4                        0   \n",
      "\n",
      "        NumberRealEstateLoansOrLines  NumberOfTime60-89DaysPastDueNotWorse  \\\n",
      "42082                              0                                     2   \n",
      "47463                              0                                     0   \n",
      "6412                               0                                     0   \n",
      "142967                             1                                     0   \n",
      "51191                              0                                     0   \n",
      "\n",
      "        NumberOfDependents  \n",
      "42082                    2  \n",
      "47463                    0  \n",
      "6412                     0  \n",
      "142967                   1  \n",
      "51191                    0  \n",
      "\n",
      "Data Columns:\n",
      "\t0 \tSeriousDlqin2yrs\n",
      "\t1 \tRevolvingUtilizationOfUnsecuredLines\n",
      "\t2 \tage\n",
      "\t3 \tNumberOfTime30-59DaysPastDueNotWorse\n",
      "\t4 \tDebtRatio\n",
      "\t5 \tMonthlyIncome\n",
      "\t6 \tNumberOfOpenCreditLinesAndLoans\n",
      "\t7 \tNumberOfTimes90DaysLate\n",
      "\t8 \tNumberRealEstateLoansOrLines\n",
      "\t9 \tNumberOfTime60-89DaysPastDueNotWorse\n",
      "\t10 \tNumberOfDependents\n",
      "\n",
      "Shape is:\n",
      "(30000, 11)\n",
      "        SeriousDlqin2yrs  RevolvingUtilizationOfUnsecuredLines  age  \\\n",
      "49580                  0                              0.101980   25   \n",
      "137319                 0                              0.203251   30   \n",
      "22462                  0                              0.000000   56   \n",
      "76006                  0                              1.000000   33   \n",
      "47830                  1                              0.428823   32   \n",
      "\n",
      "        NumberOfTime30-59DaysPastDueNotWorse  DebtRatio  MonthlyIncome  \\\n",
      "49580                                      0   0.019711            760   \n",
      "137319                                     0   0.508192           3600   \n",
      "22462                                      0   0.023098          10000   \n",
      "76006                                      0   0.050352           2700   \n",
      "47830                                      0   0.530735           2000   \n",
      "\n",
      "        NumberOfOpenCreditLinesAndLoans  NumberOfTimes90DaysLate  \\\n",
      "49580                                 4                        0   \n",
      "137319                                7                        0   \n",
      "22462                                 3                        0   \n",
      "76006                                 1                        1   \n",
      "47830                                10                        0   \n",
      "\n",
      "        NumberRealEstateLoansOrLines  NumberOfTime60-89DaysPastDueNotWorse  \\\n",
      "49580                              0                                     0   \n",
      "137319                             1                                     0   \n",
      "22462                              0                                     0   \n",
      "76006                              0                                     0   \n",
      "47830                              0                                     0   \n",
      "\n",
      "        NumberOfDependents  \n",
      "49580                    0  \n",
      "137319                   1  \n",
      "22462                    1  \n",
      "76006                    2  \n",
      "47830                    0  \n",
      "\n",
      "Data Columns:\n",
      "\t0 \tSeriousDlqin2yrs\n",
      "\t1 \tRevolvingUtilizationOfUnsecuredLines\n",
      "\t2 \tage\n",
      "\t3 \tNumberOfTime30-59DaysPastDueNotWorse\n",
      "\t4 \tDebtRatio\n",
      "\t5 \tMonthlyIncome\n",
      "\t6 \tNumberOfOpenCreditLinesAndLoans\n",
      "\t7 \tNumberOfTimes90DaysLate\n",
      "\t8 \tNumberRealEstateLoansOrLines\n",
      "\t9 \tNumberOfTime60-89DaysPastDueNotWorse\n",
      "\t10 \tNumberOfDependents\n",
      "\n",
      "Shape is:\n",
      "(30000, 11)\n",
      "        SeriousDlqin2yrs  RevolvingUtilizationOfUnsecuredLines  age  \\\n",
      "78751                  0                              0.850287   28   \n",
      "54161                  0                              0.000000   63   \n",
      "138873                 0                              0.423724   50   \n",
      "133206                 0                              0.177595   39   \n",
      "76455                  1                              0.242489   45   \n",
      "\n",
      "        NumberOfTime30-59DaysPastDueNotWorse  DebtRatio  MonthlyIncome  \\\n",
      "78751                                      1   0.321053           2849   \n",
      "54161                                      0   0.411579           9793   \n",
      "138873                                     0   0.182776           7500   \n",
      "133206                                     0   0.275217           8287   \n",
      "76455                                      0   0.427167           5999   \n",
      "\n",
      "        NumberOfOpenCreditLinesAndLoans  NumberOfTimes90DaysLate  \\\n",
      "78751                                 4                        0   \n",
      "54161                                11                        0   \n",
      "138873                                5                        0   \n",
      "133206                               15                        0   \n",
      "76455                                11                        0   \n",
      "\n",
      "        NumberRealEstateLoansOrLines  NumberOfTime60-89DaysPastDueNotWorse  \\\n",
      "78751                              0                                     1   \n",
      "54161                              2                                     0   \n",
      "138873                             1                                     0   \n",
      "133206                             1                                     0   \n",
      "76455                              1                                     0   \n",
      "\n",
      "        NumberOfDependents  \n",
      "78751                    2  \n",
      "54161                    0  \n",
      "138873                   0  \n",
      "133206                   3  \n",
      "76455                    1  \n"
     ]
    }
   ],
   "source": [
    "# load split data\n",
    "\n",
    "training = load('training.csv')\n",
    "cv = load('crossValidation.csv')\n",
    "test = load('test.csv')"
   ]
  },
  {
   "cell_type": "code",
   "execution_count": 9,
   "metadata": {
    "collapsed": false,
    "scrolled": false
   },
   "outputs": [],
   "source": [
    "# 2. splitData to X & y\n",
    "\n",
    "def splitData(Xandy):\n",
    "    '''\n",
    "    Xandy:\n",
    "    \n",
    "    returns: X, y\n",
    "    '''\n",
    "    X = Xandy.iloc[:, 1:]\n",
    "    #check(Xtrain)\n",
    "\n",
    "    y = Xandy['SeriousDlqin2yrs']\n",
    "    #check(ytrain)\n",
    "    \n",
    "    # fill nan with 0\n",
    "    X = X.fillna(0)\n",
    "    y = y.fillna(0)\n",
    "    return X, y\n",
    "\n",
    "\n",
    "\n",
    "# 3. feature scaling X\n",
    "def featureScale(X):\n",
    "    '''\n",
    "    X: DataFrame\n",
    "    \n",
    "    returns: DataFrame (feature scaled)\n",
    "    '''\n",
    "    for col in range(X.shape[1]):\n",
    "        #print 'col index:', col\n",
    "        copied = X.iloc[:, col]\n",
    "        #print 'head\\n', copied.head()\n",
    "        #print 'mean: ', copied.mean()\n",
    "        #print 'std: ', copied.std()\n",
    "        X.iloc[:, col] = (copied - copied.mean())/copied.std()\n",
    "    return X"
   ]
  },
  {
   "cell_type": "code",
   "execution_count": 10,
   "metadata": {
    "collapsed": false
   },
   "outputs": [
    {
     "name": "stdout",
     "output_type": "stream",
     "text": [
      "\n",
      "Shape is:\n",
      "(90000, 10)\n",
      "        RevolvingUtilizationOfUnsecuredLines       age  \\\n",
      "42082                              -0.021570 -1.303803   \n",
      "47463                              -0.027005  0.996573   \n",
      "6412                               -0.026100  1.064231   \n",
      "142967                             -0.024519 -0.153615   \n",
      "51191                              -0.027197  0.861257   \n",
      "\n",
      "        NumberOfTime30-59DaysPastDueNotWorse  DebtRatio  MonthlyIncome  \\\n",
      "42082                               0.599827  -0.240037       0.018670   \n",
      "47463                              -0.100036  -0.240334       0.435878   \n",
      "6412                               -0.100036  -0.240243      -0.125025   \n",
      "142967                             -0.100036  -0.240191       0.630518   \n",
      "51191                              -0.100036  -0.240334      -0.135349   \n",
      "\n",
      "        NumberOfOpenCreditLinesAndLoans  NumberOfTimes90DaysLate  \\\n",
      "42082                          0.889610                 1.108264   \n",
      "47463                          1.669514                -0.064323   \n",
      "6412                          -0.475221                -0.064323   \n",
      "142967                         2.449418                -0.064323   \n",
      "51191                         -0.865173                -0.064323   \n",
      "\n",
      "        NumberRealEstateLoansOrLines  NumberOfTime60-89DaysPastDueNotWorse  \\\n",
      "42082                      -0.907734                              0.412244   \n",
      "47463                      -0.907734                             -0.058292   \n",
      "6412                       -0.907734                             -0.058292   \n",
      "142967                     -0.015446                             -0.058292   \n",
      "51191                      -0.907734                             -0.058292   \n",
      "\n",
      "        NumberOfDependents  \n",
      "42082             1.136616  \n",
      "47463            -0.665820  \n",
      "6412             -0.665820  \n",
      "142967            0.235398  \n",
      "51191            -0.665820  \n"
     ]
    }
   ],
   "source": [
    "Xtrain, ytrain = splitData(training)\n",
    "Xtrain = featureScale(Xtrain)\n",
    "check(Xtrain)\n",
    "\n",
    "Xcv, ycv = splitData(cv)\n",
    "Xcv = featureScale(Xcv)\n",
    "\n",
    "Xtest, ytest = splitData(test)\n",
    "Xtest = featureScale(Xtest)"
   ]
  },
  {
   "cell_type": "markdown",
   "metadata": {
    "collapsed": false
   },
   "source": [
    "# 2. BUILD FIRST MODEL\n",
    "    1. Train\n",
    "        method 1) Manually Implemented\n",
    "        method 2) LogisticRegression module -> We'll stick to this onward!\n",
    "    2. Predict"
   ]
  },
  {
   "cell_type": "code",
   "execution_count": 11,
   "metadata": {
    "collapsed": false
   },
   "outputs": [],
   "source": [
    "# 1. Train\n",
    "    # method 1) Manually Implemented\n",
    "\n",
    "from scipy.optimize import fmin_cg\n",
    "\n",
    "# Add Bias terms to Xtrain\n",
    "def addBias(X):\n",
    "    '''\n",
    "    X: DataFrame (m * n)\n",
    "    \n",
    "        Adds bias terms to the first column\n",
    "    \n",
    "    returns: DataFrame (m * (n + 1))\n",
    "    '''\n",
    "    X.insert(0, 'Bias', 1)\n",
    "    return X\n",
    "\n",
    "\n",
    "\n",
    "# logisticRegression\n",
    "L = 0.1\n",
    "\n",
    "def logisticRegression(costfunction, gradFunction, X, y, L):\n",
    "    '''\n",
    "    constFunction: function\n",
    "    X: matrix\n",
    "    y: vector\n",
    "    L (lambda): float\n",
    "    \n",
    "    returns: vector (theta)\n",
    "    '''\n",
    "    initial_theta = np.zeros(n+1)\n",
    "    args = (X, y, L)\n",
    "    theta = fmin_cg(f = costFunction, x0 = initial_theta, \\\n",
    "                    fprime = gradFunction, args = args)\n",
    "    return theta\n",
    "\n",
    "# costFunction\n",
    "def costFunction(theta, *args):\n",
    "    '''\n",
    "    theta: vector\n",
    "    X: matrix\n",
    "    y: vector\n",
    "    L (lambda): float\n",
    "    \n",
    "    returns: float (J)\n",
    "    '''\n",
    "    #J = sum(np.multiply(np.log(sigmoid(X.dot(theta))), -y) - \\\n",
    "    #       np.multiply((1 - y),log(1 - sigmoid(X.dot(theta)))))/m \n",
    "    theta = theta.reshape((n+1, 1))\n",
    "    \n",
    "    X, y, L = args\n",
    "    y = pd.DataFrame(y)\n",
    "    y = y.rename(columns = {'SeriousDlqin2yrs':0})\n",
    "    \n",
    "    J = np.log(sigmoid(X.dot(theta))).T.dot(-y)\n",
    "    #print '1',J\n",
    "    J = J - pd.DataFrame(1 - y).T.dot(np.log(1 - sigmoid(X.dot(theta))))\n",
    "    #print '2', J\n",
    "    J = np.sum(J)/m\n",
    "    #print '3', J\n",
    "    J = J + (L/(2.0*m)) * np.sum(theta[1:]**2)\n",
    "    #print '4',J\n",
    "    \n",
    "    return np.array(J)\n",
    "\n",
    "# gradFunction\n",
    "def gradFunction(theta, *args):\n",
    "    # grad = transpose(sigmoid(X * y)) * y + lambda * sum(theta[1:])/m\n",
    "    theta = theta.reshape((n+1, 1))\n",
    "    \n",
    "    X, y, L = args\n",
    "    y = pd.DataFrame(y)\n",
    "    y = y.rename(columns = {'SeriousDlqin2yrs':0})\n",
    "    \n",
    "    grad = X.T.dot(sigmoid(X.dot(theta)) - pd.DataFrame(y))/m\n",
    "    #print grad.shape\n",
    "    \n",
    "    # Regularize\n",
    "    theta = (L/m)*theta\n",
    "    theta[0] = 0\n",
    "    #print theta.shape\n",
    "    #print theta\n",
    "    \n",
    "    grad = np.array(grad + theta)\n",
    "    grad = grad.reshape(n+1)\n",
    "    \n",
    "    return grad\n",
    "\n",
    "# sigmoid\n",
    "def sigmoid(z):\n",
    "    '''\n",
    "    x: float\n",
    "    \n",
    "    returns: float\n",
    "    '''\n",
    "    return 1.0/(1.0 + np.exp(-z))\n"
   ]
  },
  {
   "cell_type": "code",
   "execution_count": 12,
   "metadata": {
    "collapsed": false
   },
   "outputs": [
    {
     "data": {
      "text/plain": [
       "LogisticRegression(C=1.0, class_weight=None, dual=False, fit_intercept=True,\n",
       "          intercept_scaling=1, max_iter=100, multi_class='ovr',\n",
       "          penalty='l2', random_state=None, solver='liblinear', tol=0.0001,\n",
       "          verbose=0)"
      ]
     },
     "execution_count": 12,
     "metadata": {},
     "output_type": "execute_result"
    }
   ],
   "source": [
    "# 1. Train\n",
    "    # method 2) LogisticRegression Module\n",
    "\n",
    "from sklearn.linear_model import LogisticRegression\n",
    "\n",
    "clf = LogisticRegression()\n",
    "clf.fit(Xtrain, ytrain)"
   ]
  },
  {
   "cell_type": "code",
   "execution_count": 44,
   "metadata": {
    "collapsed": false
   },
   "outputs": [],
   "source": [
    "# 2. Predict\n",
    "\n",
    "from sklearn.metrics import precision_recall_fscore_support\n",
    "\n",
    "def predict(clf, X, y, threshold = 0.5):\n",
    "    '''\n",
    "    clf\n",
    "    X\n",
    "    y\n",
    "    threshold\n",
    "    \n",
    "        prints measures (accuracy, precision, recall, F-score)\n",
    "    \n",
    "    returns: prediction(vector) \n",
    "            \n",
    "    '''\n",
    "    # get prediction\n",
    "    prediction = getPrediction(clf, X, threshold)\n",
    "    \n",
    "    # get measures\n",
    "    measures = getMeasures(y, prediction)\n",
    "    accuracy, precision, recall, fscore = measures\n",
    "    \n",
    "    print '\\naccuracy', accuracy\n",
    "    print 'precision', precision\n",
    "    print 'recall', recall\n",
    "    print 'fscore', fscore\n",
    "    \n",
    "    return prediction\n",
    "\n",
    "def getPrediction(clf, X, threshold = 0.5):\n",
    "    '''\n",
    "    clf: LogisticRegression()\n",
    "    X\n",
    "    threshold\n",
    "    \n",
    "    return: prediction (label vector)\n",
    "    '''\n",
    "    proba = clf.predict_proba(X)[:,1]\n",
    "    return (proba > threshold) * 1\n",
    "\n",
    "def getMeasures(y, prediction):\n",
    "    '''\n",
    "    \n",
    "    returns: measures\n",
    "    '''\n",
    "    accuracy = (prediction == y).mean()\n",
    "    \n",
    "    precision, recall, f_score, support = \\\n",
    "        precision_recall_fscore_support(y, prediction, average = 'binary')\n",
    "    \n",
    "    measures = (accuracy, precision, recall, f_score)\n",
    "    return measures"
   ]
  },
  {
   "cell_type": "code",
   "execution_count": 20,
   "metadata": {
    "collapsed": false
   },
   "outputs": [
    {
     "name": "stdout",
     "output_type": "stream",
     "text": [
      "\n",
      "accuracy 0.9336\n",
      "precision 0.544871794872\n",
      "recall 0.0423728813559\n",
      "fscore 0.0786308973173\n",
      "\n",
      "[0 0 0 ..., 0 0 0]\n"
     ]
    }
   ],
   "source": [
    "prediction = predict(clf, Xtest, ytest)\n",
    "print '\\n', prediction"
   ]
  },
  {
   "cell_type": "markdown",
   "metadata": {},
   "source": [
    "#3. Evaluate Model\n",
    "    Learning Curve"
   ]
  },
  {
   "cell_type": "code",
   "execution_count": 91,
   "metadata": {
    "collapsed": true
   },
   "outputs": [],
   "source": [
    "def learningCurve(listOfNum, Xtrain, ytrain, Xcv, ycv, C = 1):\n",
    "    '''\n",
    "        prints learning curve\n",
    "    returns: None\n",
    "    '''\n",
    "    accuracyTList = []\n",
    "    accuracyCvList = []\n",
    "    fscoreTList = []\n",
    "    fscoreCvList = []\n",
    "    \n",
    "    clf = LogisticRegression(C = C)\n",
    "    \n",
    "    for i in listOfNum:\n",
    "        # slice training examples       \n",
    "        Xt_part = Xtrain.iloc[0:i,:]\n",
    "        yt_part = ytrain.iloc[0:i]\n",
    "        \n",
    "        # train\n",
    "        clf.fit(Xt_part, yt_part)\n",
    "        \n",
    "        # predict & get accuracy\n",
    "        accuracy, precision, recall, fscore = getMeasures(yt_part, \\\n",
    "                                                  getPrediction(clf, Xt_part))\n",
    "        accuracyCv, precisionCv, recallCv, fscoreCv = getMeasures(ycv, \\\n",
    "                                                  getPrediction(clf, Xcv))\n",
    "        \n",
    "        accuracyTList.append(accuracy)\n",
    "        accuracyCvList.append(accuracyCv)\n",
    "        fscoreTList.append(fscore)\n",
    "        fscoreCvList.append(fscoreCv)\n",
    "        \n",
    "        print accuracy, accuracyCv\n",
    "\n",
    "    # plot learning curve\n",
    "    plt.plot(listOfNum, accuracyTList, label = 'Accuracy Train')\n",
    "    plt.plot(listOfNum, accuracyCvList, label = 'Accuracy Cv')\n",
    "    #plt.plot(listOfNum, fscoreTList, label = 'Fscore Train')\n",
    "    #plt.plot(listOfNum, fscoreCvList, label = 'Fscore Cv')\n",
    "    \n",
    "    plt.legend(loc='best')\n",
    "    plt.xticks(rotation=70) \n",
    "    plt.xlabel(\"# of train data\")\n",
    "    plt.ylabel(\"Accuracy\")\n",
    "    plt.title(\"Learning Curve\")\n",
    "    \n",
    "    \n",
    "    return"
   ]
  },
  {
   "cell_type": "code",
   "execution_count": 92,
   "metadata": {
    "collapsed": false
   },
   "outputs": [
    {
     "name": "stdout",
     "output_type": "stream",
     "text": [
      "0.98 0.931166666667\n",
      "0.937647058824 0.931733333333\n",
      "0.93495049505 0.932033333333\n",
      "0.934370860927 0.932366666667\n",
      "0.93368159204 0.932766666667\n",
      "0.934780876494 0.932766666667\n",
      "0.933687707641 0.932766666667\n",
      "0.933703703704 0.932666666667\n",
      "0.934064837905 0.932733333333\n",
      "0.933680709534 0.932733333333\n",
      "0.934111776447 0.9328\n",
      "0.934083484574 0.9328\n",
      "0.933793677205 0.932666666667\n",
      "0.934055299539 0.9327\n",
      "0.934194008559 0.932766666667\n",
      "0.934167776298 0.932666666667\n",
      "0.93429463171 0.932733333333\n",
      "0.93428907168 0.9327\n"
     ]
    },
    {
     "data": {
      "image/png": "[encoded data removed]",
      "text/plain": [
       "<matplotlib.figure.Figure at 0x107345250>"
      ]
     },
     "metadata": {},
     "output_type": "display_data"
    }
   ],
   "source": [
    "learningCurve(range(100, 90000, 5000), Xtrain, ytrain, Xcv, ycv, C = 1)"
   ]
  },
  {
   "cell_type": "markdown",
   "metadata": {},
   "source": [
    "# 4. MODIFY MODEL\n",
    "    1. Modify Threshold\n",
    "    2. Add polynomial features\n",
    "    3. Modify C (regularization term)\n",
    "    4. Modified Model"
   ]
  },
  {
   "cell_type": "markdown",
   "metadata": {},
   "source": [
    "###1. Modify Threshold"
   ]
  },
  {
   "cell_type": "code",
   "execution_count": 63,
   "metadata": {
    "collapsed": true
   },
   "outputs": [],
   "source": [
    "# 3. Threshold\n",
    "\n",
    "def bestThreshold(listOfNum, Xtrain, ytrain, Xcv, ycv, C):\n",
    "    '''\n",
    "    returns: float, best Threshold\n",
    "    '''\n",
    "    fscoreList = []\n",
    "    accuracyList = []\n",
    "\n",
    "    \n",
    "    # 1 train\n",
    "    clf = LogisticRegression(C = C)\n",
    "    clf.fit(Xtrain, ytrain)\n",
    "    \n",
    "    for i in listOfNum:\n",
    "        # 2 get measures\n",
    "        accuracy, precision, recall, fscore = getMeasures(ycv, \\\n",
    "                                                          getPrediction(clf, Xcv, threshold = i))\n",
    "\n",
    "        fscoreList.append(fscore)\n",
    "        accuracyList.append(accuracy)\n",
    "\n",
    "        print \"\\nWhen Threshold is %f, accuracy is %f and fscore is %f.\" % (i, accuracy, fscore)\n",
    "\n",
    "    # plot learning curve\n",
    "    plt.plot(listOfNum, fscoreList, label = 'F-score')\n",
    "    plt.plot(listOfNum, accuracyList, label = 'Accuracy')\n",
    "\n",
    "    plt.legend(loc='best')\n",
    "    plt.xticks(rotation=70) \n",
    "    plt.xlabel(\"Threshold\")\n",
    "    plt.ylabel(\"F-score\")\n",
    "    plt.title(\"Threshold - F-score relationship\")\n",
    "    \n",
    "    maxFscore = max(fscoreList)\n",
    "    maxIndex = fscoreList.index(maxFscore)\n",
    "\n",
    "    return listOfNum[maxIndex]"
   ]
  },
  {
   "cell_type": "code",
   "execution_count": 64,
   "metadata": {
    "collapsed": false
   },
   "outputs": [
    {
     "name": "stdout",
     "output_type": "stream",
     "text": [
      "\n",
      "When Threshold is 0.000000, accuracy is 0.068300 and fscore is 0.127867.\n",
      "\n",
      "When Threshold is 0.025000, accuracy is 0.157667 and fscore is 0.129821.\n",
      "\n",
      "When Threshold is 0.050000, accuracy is 0.503633 and fscore is 0.173686.\n",
      "\n",
      "When Threshold is 0.075000, accuracy is 0.732833 and fscore is 0.229549.\n",
      "\n",
      "When Threshold is 0.100000, accuracy is 0.867733 and fscore is 0.297202.\n",
      "\n",
      "When Threshold is 0.125000, accuracy is 0.905400 and fscore is 0.315815.\n",
      "\n",
      "When Threshold is 0.150000, accuracy is 0.918733 and fscore is 0.304224.\n",
      "\n",
      "When Threshold is 0.175000, accuracy is 0.925167 and fscore is 0.275573.\n",
      "\n",
      "When Threshold is 0.200000, accuracy is 0.927833 and fscore is 0.252159.\n",
      "\n",
      "When Threshold is 0.225000, accuracy is 0.930300 and fscore is 0.231533.\n",
      "\n",
      "When Threshold is 0.250000, accuracy is 0.932033 and fscore is 0.215467.\n",
      "\n",
      "When Threshold is 0.275000, accuracy is 0.932833 and fscore is 0.201348.\n",
      "\n",
      "When Threshold is 0.300000, accuracy is 0.932533 and fscore is 0.177904.\n",
      "\n",
      "When Threshold is 0.325000, accuracy is 0.932833 and fscore is 0.165631.\n",
      "\n",
      "When Threshold is 0.350000, accuracy is 0.932900 and fscore is 0.150991.\n",
      "\n",
      "When Threshold is 0.375000, accuracy is 0.933000 and fscore is 0.139555.\n",
      "\n",
      "When Threshold is 0.400000, accuracy is 0.932867 and fscore is 0.127383.\n",
      "\n",
      "When Threshold is 0.425000, accuracy is 0.932800 and fscore is 0.118110.\n",
      "\n",
      "When Threshold is 0.450000, accuracy is 0.932800 and fscore is 0.105590.\n",
      "\n",
      "When Threshold is 0.475000, accuracy is 0.932700 and fscore is 0.095835.\n",
      "\n",
      "When Threshold is 0.500000, accuracy is 0.932733 and fscore is 0.091809.\n"
     ]
    },
    {
     "data": {
      "image/png": "[encoded data removed]",
      "text/plain": [
       "<matplotlib.figure.Figure at 0x10a597550>"
      ]
     },
     "metadata": {},
     "output_type": "display_data"
    }
   ],
   "source": [
    "bestT = bestThreshold(np.linspace(0, 0.5, 21), Xtrain, ytrain, Xcv, ycv, C = 2)\n",
    "print '\\nThreshold that maximizes F-score >>', bestT"
   ]
  },
  {
   "cell_type": "markdown",
   "metadata": {},
   "source": [
    "###2. Add polynomial features\n",
    "        1) add polynomial features\n",
    "        2) find optimum polynomial degree"
   ]
  },
  {
   "cell_type": "code",
   "execution_count": 68,
   "metadata": {
    "collapsed": false
   },
   "outputs": [],
   "source": [
    "# 1) add polynomial features\n",
    "\n",
    "from sklearn.preprocessing import PolynomialFeatures\n",
    "\n",
    "def polyFeature(level, X):\n",
    "    '''\n",
    "    level: int >=1\n",
    "    X\n",
    "    \n",
    "    returns: X with polynomial features\n",
    "    '''\n",
    "    \n",
    "    poly = PolynomialFeatures(level)\n",
    "    Xpoly = poly.fit_transform(X)\n",
    "    \n",
    "    return Xpoly"
   ]
  },
  {
   "cell_type": "code",
   "execution_count": 69,
   "metadata": {
    "collapsed": false
   },
   "outputs": [],
   "source": [
    "# 2) find optimum polynomial degree\n",
    "\n",
    "def bestPoly(listOfNum, Xtrain, ytrain, Xcv, ycv, C = 1, threshold = 0.5):\n",
    "    '''\n",
    "        prints Polynomial term - F-score relationship\n",
    "    returns: int, best polynomial term\n",
    "    '''\n",
    "    \n",
    "    accuracyList = []\n",
    "    fscoreList = []\n",
    "\n",
    "    for i in listOfNum:\n",
    "        print 'Polynomial %d' % i\n",
    "        \n",
    "        # 1 add polynomial terms\n",
    "        XtrainPoly = polyFeature(i, Xtrain)\n",
    "        XcvPoly = polyFeature(i, Xcv)\n",
    "\n",
    "        # 2 train\n",
    "        clf = LogisticRegression(C = C)\n",
    "        clf.fit(XtrainPoly, ytrain)\n",
    "\n",
    "        # 3 get measures\n",
    "        accuracy, precision, recall, fscore = getMeasures(ycv, getPrediction(clf, XcvPoly, threshold))\n",
    "        \n",
    "        accuracyList.append(accuracy)\n",
    "        fscoreList.append(fscore)\n",
    "    \n",
    "    # plot relationship\n",
    "    plt.figure()\n",
    "    plt.plot(listOfNum, fscoreList, label = 'F-score')\n",
    "    plt.plot(listOfNum, accuracyList, label = 'Accuracy')\n",
    "\n",
    "    plt.legend(loc='best')\n",
    "    plt.xticks(rotation=70) \n",
    "    plt.xlabel(\"Polynomial term\")\n",
    "    plt.ylabel(\"F-score\")\n",
    "    plt.title(\"Polynomial term - F-score relationship\")\n",
    "    \n",
    "    maxFscore = max(fscoreList)\n",
    "    maxIndex = fscoreList.index(maxFscore)\n",
    "    \n",
    "    return listOfNum[maxIndex]"
   ]
  },
  {
   "cell_type": "code",
   "execution_count": 70,
   "metadata": {
    "collapsed": false
   },
   "outputs": [
    {
     "name": "stdout",
     "output_type": "stream",
     "text": [
      "Polynomial 1\n",
      "Polynomial 2\n",
      "Polynomial 3\n",
      "\n",
      "Polynomial term that maximizes F-score >> 2\n"
     ]
    },
    {
     "data": {
      "image/png": "[encoded data removed]",
      "text/plain": [
       "<matplotlib.figure.Figure at 0x10930e1d0>"
      ]
     },
     "metadata": {},
     "output_type": "display_data"
    }
   ],
   "source": [
    "bestP = bestPoly(range(1,4), Xtrain, ytrain, Xcv, ycv, C = 1, threshold = bestT)\n",
    "print '\\nPolynomial term that maximizes F-score >>', bestP"
   ]
  },
  {
   "cell_type": "markdown",
   "metadata": {},
   "source": [
    "###3. Modify C (regularization term)"
   ]
  },
  {
   "cell_type": "code",
   "execution_count": 65,
   "metadata": {
    "collapsed": false
   },
   "outputs": [],
   "source": [
    "# 3. Modify C\n",
    "\n",
    "def bestC(listOfNum, Xtrain, ytrain, Xcv, ycv, threshold = 0.5):\n",
    "    accuracyList = []\n",
    "    fscoreList = []\n",
    "    \n",
    "    for i in listOfNum:\n",
    "\n",
    "        # 1 train\n",
    "        clf = LogisticRegression(C = i)\n",
    "        clf.fit(Xtrain, ytrain)\n",
    "\n",
    "        # 2 get measures\n",
    "        accuracy, precision, recall, fscore = getMeasures(ycv, \\\n",
    "                                                          getPrediction(clf, Xcv, threshold))\n",
    "        accuracyList.append(accuracy)\n",
    "        fscoreList.append(fscore)\n",
    "\n",
    "        print '\\nWhen C = %d, accuracy is %f and f-score is %f.' % (i, accuracy, fscore)\n",
    "    \n",
    "    # plot relationship\n",
    "    plt.figure()\n",
    "    plt.plot(listOfNum, fscoreList, label = 'F-score')\n",
    "    plt.plot(listOfNum, accuracyList, label = 'Accuracy')\n",
    "\n",
    "    plt.legend(loc='best')\n",
    "    plt.xticks(rotation=70) \n",
    "    plt.xlabel(\"C\")\n",
    "    plt.ylabel(\"F-score\")\n",
    "    plt.title(\"C - F-score relationship\")\n",
    "\n",
    "    maxFscore = max(fscoreList)\n",
    "    maxIndex = fscoreList.index(maxFscore)\n",
    "\n",
    "    return listOfNum[maxIndex]"
   ]
  },
  {
   "cell_type": "code",
   "execution_count": 72,
   "metadata": {
    "collapsed": false
   },
   "outputs": [
    {
     "name": "stdout",
     "output_type": "stream",
     "text": [
      "\n",
      "When C = 1, accuracy is 0.911000 and f-score is 0.403485.\n",
      "\n",
      "When C = 2, accuracy is 0.913200 and f-score is 0.401379.\n",
      "\n",
      "When C = 3, accuracy is 0.911433 and f-score is 0.407317.\n",
      "\n",
      "When C = 4, accuracy is 0.911867 and f-score is 0.358564.\n",
      "\n",
      "When C = 5, accuracy is 0.910567 and f-score is 0.356749.\n",
      "\n",
      "When C = 6, accuracy is 0.912667 and f-score is 0.400458.\n",
      "\n",
      "When C = 7, accuracy is 0.904300 and f-score is 0.345268.\n",
      "\n",
      "When C = 8, accuracy is 0.915067 and f-score is 0.394774.\n",
      "\n",
      "When C = 9, accuracy is 0.912100 and f-score is 0.398083.\n",
      "\n",
      "When C = 10, accuracy is 0.913300 and f-score is 0.358253.\n",
      "\n",
      "C that maximizes F-score >> 3.0\n"
     ]
    },
    {
     "data": {
      "image/png": "[encoded data removed]",
      "text/plain": [
       "<matplotlib.figure.Figure at 0x109fd1550>"
      ]
     },
     "metadata": {},
     "output_type": "display_data"
    }
   ],
   "source": [
    "XtrainPoly = polyFeature(bestP, Xtrain)\n",
    "XcvPoly = polyFeature(bestP, Xcv)\n",
    "\n",
    "bestc = bestC(np.linspace(1, 10, 10), XtrainPoly, ytrain, XcvPoly, ycv, threshold = bestT)\n",
    "print '\\nC that maximizes F-score >>', bestc"
   ]
  },
  {
   "cell_type": "markdown",
   "metadata": {},
   "source": [
    "### 4. Modified Model\n",
    "    Train again with modified parameters\n",
    "    (Higher f-score expected, in sacrifice of accuracy)\n",
    "    1. Modified Threshold: 0.125\n",
    "    2. Modified Polynomial Term: 2\n",
    "    3. Modified C: 3"
   ]
  },
  {
   "cell_type": "code",
   "execution_count": 75,
   "metadata": {
    "collapsed": false
   },
   "outputs": [
    {
     "name": "stdout",
     "output_type": "stream",
     "text": [
      "\n",
      "accuracy 0.910833333333\n",
      "precision 0.364739183178\n",
      "recall 0.449651046859\n",
      "fscore 0.402768475106\n"
     ]
    }
   ],
   "source": [
    "# 1. Modified Threshold: 0.125\n",
    "bestT\n",
    "\n",
    "# 2. Modified polynomial degree: 2\n",
    "XtrainPoly = polyFeature(bestP, Xtrain)\n",
    "XtestPoly = polyFeature(bestP, Xtest)\n",
    "\n",
    "# 3. Modified C: 3\n",
    "bestc\n",
    "\n",
    "# Modified Model\n",
    "    # Train\n",
    "bestClf = LogisticRegression(C = bestc)\n",
    "bestClf.fit(XtrainPoly, ytrain)\n",
    "\n",
    "    # Predict\n",
    "bestPrediction = predict(bestClf, XtestPoly, ytest, threshold = bestT)"
   ]
  }
 ],
 "metadata": {
  "kernelspec": {
   "display_name": "Python 2",
   "language": "python",
   "name": "python2"
  },
  "language_info": {
   "codemirror_mode": {
    "name": "ipython",
    "version": 2
   },
   "file_extension": ".py",
   "mimetype": "text/x-python",
   "name": "python",
   "nbconvert_exporter": "python",
   "pygments_lexer": "ipython2",
   "version": "2.7.9"
  }
 },
 "nbformat": 4,
 "nbformat_minor": 0
}
