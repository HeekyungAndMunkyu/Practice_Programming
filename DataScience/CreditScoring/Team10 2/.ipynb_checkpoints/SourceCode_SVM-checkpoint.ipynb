{
 "cells": [
  {
   "cell_type": "markdown",
   "metadata": {},
   "source": [
    "#Credit Scoring: Predict the probability of going default\n",
    "    Algorithm: Support Vector Machine(SVM) (10 features with 1 target)\n",
    "\n",
    "    Data: https://www.kaggle.com/c/GiveMeSomeCredit\n",
    "\n",
    "    By: ByeoungGeon,Kim and YooHyun,Jo "
   ]
  },
  {
   "cell_type": "code",
   "execution_count": 1,
   "metadata": {
    "collapsed": true
   },
   "outputs": [],
   "source": [
    "%matplotlib inline \n",
    "\n",
    "import pandas as pd\n",
    "import matplotlib.pyplot as plt\n",
    "import numpy as np\n",
    "\n",
    "from __future__ import division\n"
   ]
  },
  {
   "cell_type": "markdown",
   "metadata": {},
   "source": [
    "\n",
    "##0. LOAD DATA\n",
    "\n",
    "##1. BUILD FIRST MODEL\n",
    "    \n",
    "    1. Train\n",
    "    2. Predict\n",
    "   \n",
    "##2. EVALUATE MODEL\n",
    "    \n",
    "    Learning Curve \n",
    "     1. rbf-kernel\n",
    "     2. linear-kernel\n",
    "\n",
    "##3. MODIFY MODEL\n",
    "    1. Modify C\n",
    "    2. Modify Kernel Type\n",
    "    3. Modify Kernel Degree\n",
    "    4. Modified Model\n"
   ]
  },
  {
   "cell_type": "markdown",
   "metadata": {},
   "source": [
    "\n",
    "Make sure your traning examples and testing examples in your \"IPython Notebook\" directory"
   ]
  },
  {
   "cell_type": "markdown",
   "metadata": {},
   "source": [
    "## 0. Load Data\n",
    "\n",
    "* Read training data from folder\n",
    "\n",
    "* For Training Data / Convert from .csv format to the list format\n",
    "* For Training Label(Answer for Data) / Second column of the file\n",
    "* For Training Features / From 3 to last column of the file\n",
    "* for NaN data / Delete(first row = column name) or fill NaN with zero  "
   ]
  },
  {
   "cell_type": "code",
   "execution_count": 2,
   "metadata": {
    "collapsed": false
   },
   "outputs": [],
   "source": [
    "training = np.genfromtxt('C:/Users/Hyun/Desktop/ipnob/training.csv',delimiter=',')\n",
    "cv = np.genfromtxt('C:/Users/Hyun/Desktop/ipnob/crossValidation.csv',delimiter=',')"
   ]
  },
  {
   "cell_type": "code",
   "execution_count": 3,
   "metadata": {
    "collapsed": false
   },
   "outputs": [
    {
     "name": "stdout",
     "output_type": "stream",
     "text": [
      "[[             nan              nan              nan ...,              nan\n",
      "               nan              nan]\n",
      " [  4.20820000e+04   1.00000000e+00   1.17350929e+00 ...,   0.00000000e+00\n",
      "    2.00000000e+00   2.00000000e+00]\n",
      " [  4.74630000e+04   0.00000000e+00   4.01181850e-02 ...,   0.00000000e+00\n",
      "    0.00000000e+00   0.00000000e+00]\n",
      " ..., \n",
      " [  5.75000000e+04   0.00000000e+00   8.17888577e-01 ...,   0.00000000e+00\n",
      "    0.00000000e+00   0.00000000e+00]\n",
      " [  1.29582000e+05   1.00000000e+00   9.48217769e-01 ...,   2.00000000e+00\n",
      "    0.00000000e+00   1.00000000e+00]\n",
      " [  9.01260000e+04   0.00000000e+00   1.12952920e-01 ...,   2.00000000e+00\n",
      "    0.00000000e+00   0.00000000e+00]]\n",
      "(90001L, 12L)\n",
      "(90000L, 12L)\n",
      "(90000L, 10L)\n",
      "(90000L,)\n"
     ]
    }
   ],
   "source": [
    "print training\n",
    "print training.shape\n",
    "\n",
    "training = training[1:,:] # eliminate 'column name' row [nan nan nan ... nan]\n",
    "print training.shape\n",
    "\n",
    "y = training[:, 1] #Training Label = SeriousDlqin2yrs\n",
    "x = training[:, 2:] # 10 features = Age, DebtRatio, etc...\n",
    "print x.shape\n",
    "print y.shape\n",
    "yCv = cv[:, 1]\n",
    "xCv = cv[:, 2:]\n",
    "\n",
    "# fill nan with zeros\n",
    "\n",
    "x = np.nan_to_num(x)\n",
    "y = np.nan_to_num(y)"
   ]
  },
  {
   "cell_type": "markdown",
   "metadata": {},
   "source": [
    "\n",
    "##1. BUILD FIRST MODEL\n",
    "    1. Train Training data with SVM library\n",
    "\n",
    "* Train Model with training data\n",
    "\n",
    "* Refer to this link\n",
    "* http://scikit-learn.org/stable/modules/svm.html\n",
    "* Try to set your parameter for SVM model( different Kernel ) \n"
   ]
  },
  {
   "cell_type": "code",
   "execution_count": 4,
   "metadata": {
    "collapsed": false
   },
   "outputs": [
    {
     "name": "stdout",
     "output_type": "stream",
     "text": [
      "(90000L, 10L)\n",
      "(90000L,)\n",
      "(2000L, 10L)\n",
      "(2000L,)\n"
     ]
    },
    {
     "data": {
      "text/plain": [
       "SVC(C=1.0, cache_size=200, class_weight=None, coef0=0.0, degree=3, gamma=0.0,\n",
       "  kernel='rbf', max_iter=-1, probability=True, random_state=None,\n",
       "  shrinking=True, tol=0.001, verbose=False)"
      ]
     },
     "execution_count": 4,
     "metadata": {},
     "output_type": "execute_result"
    }
   ],
   "source": [
    "print x.shape\n",
    "print y.shape\n",
    "\n",
    "from sklearn.svm import SVC\n",
    "xpart = x[:2000, :] # kernel = 'rbf' (default)일 때, 30000개까지 가능. \n",
    "                    # kernel = 'linear'일 때, 100개 가능, 1000개 불가능.\n",
    "ypart = y[:2000]\n",
    "\n",
    "print xpart.shape\n",
    "print ypart.shape\n",
    "#write your code here\n",
    "\n",
    "# Train\n",
    "clf = SVC(probability = True) # probability = True\n",
    "clf.fit(xpart, ypart)"
   ]
  },
  {
   "cell_type": "markdown",
   "metadata": {},
   "source": [
    "    2. Predict Test data with trained SVM model\n",
    "\n",
    "\n",
    "* Read the test data from folder\n",
    "\n",
    "* For Training Data / Convert from .csv format to the list format\n",
    "* For Training Label(Answer for Data) / Second column of the file\n",
    "* For Training Features / From 3 to last column of the file\n",
    "* for NaN data / Delete(first row = column name) or fill NaN with zero  \n",
    "\n",
    "* Predict test data with trained SVM Model\n",
    "* Measure accuracy,f-score for Test Data\n",
    "* Accuracy = (nubmer of correct answers) / (all number of documents)\n",
    "* F-score = harmonic mean of Recall and Precision"
   ]
  },
  {
   "cell_type": "code",
   "execution_count": 14,
   "metadata": {
    "collapsed": false
   },
   "outputs": [],
   "source": [
    "# load test set\n",
    "\n",
    "test = np.genfromtxt('/Users/Hyun/Desktop/ipnob/test.csv',delimiter=',')"
   ]
  },
  {
   "cell_type": "code",
   "execution_count": 15,
   "metadata": {
    "collapsed": true
   },
   "outputs": [],
   "source": [
    "test = test[1:,:]\n",
    "\n",
    "ytest = test[:, 1]\n",
    "xtest = test[:, 2:]\n",
    "xtest.shape\n",
    "ytest.shape\n",
    "# fill nan with zeros\n",
    "xtest = np.nan_to_num(xtest)\n",
    "ytest = np.nan_to_num(ytest)"
   ]
  },
  {
   "cell_type": "code",
   "execution_count": 16,
   "metadata": {
    "collapsed": false
   },
   "outputs": [],
   "source": [
    "prediction = clf.predict_proba(xtest)"
   ]
  },
  {
   "cell_type": "code",
   "execution_count": 17,
   "metadata": {
    "collapsed": false
   },
   "outputs": [
    {
     "name": "stdout",
     "output_type": "stream",
     "text": [
      "[[ 0.93831597  0.06168403]\n",
      " [ 0.93829256  0.06170744]\n",
      " [ 0.87902233  0.12097767]\n",
      " ..., \n",
      " [ 0.938275    0.061725  ]\n",
      " [ 0.94234602  0.05765398]\n",
      " [ 0.93894667  0.06105333]]\n",
      "(30000L, 2L)\n"
     ]
    }
   ],
   "source": [
    "print prediction # [0일 확률  1일 확률]\n",
    "print prediction.shape"
   ]
  },
  {
   "cell_type": "code",
   "execution_count": 18,
   "metadata": {
    "collapsed": false
   },
   "outputs": [
    {
     "data": {
      "text/plain": [
       "array([False, False,  True, ..., False, False, False], dtype=bool)"
      ]
     },
     "execution_count": 18,
     "metadata": {},
     "output_type": "execute_result"
    }
   ],
   "source": [
    "pred = prediction[:, 1] # 1일 확률\n",
    "label = pred > 0.1 # 0.1이상일 때, 1이라고 예측하자\n",
    "label"
   ]
  },
  {
   "cell_type": "code",
   "execution_count": 19,
   "metadata": {
    "collapsed": false
   },
   "outputs": [
    {
     "data": {
      "text/plain": [
       "array([ 0.,  0.,  0., ...,  0.,  1.,  0.])"
      ]
     },
     "execution_count": 19,
     "metadata": {},
     "output_type": "execute_result"
    }
   ],
   "source": [
    "ytest"
   ]
  },
  {
   "cell_type": "markdown",
   "metadata": {},
   "source": []
  },
  {
   "cell_type": "code",
   "execution_count": 20,
   "metadata": {
    "collapsed": false
   },
   "outputs": [
    {
     "name": "stdout",
     "output_type": "stream",
     "text": [
      "0.925433333333\n"
     ]
    },
    {
     "data": {
      "text/plain": [
       "(29,\n",
       " 260,\n",
       " 27734,\n",
       " 1977,\n",
       " 0.10034602076124567,\n",
       " 0.014456630109670987,\n",
       " 0.025272331154684094)"
      ]
     },
     "execution_count": 20,
     "metadata": {},
     "output_type": "execute_result"
    }
   ],
   "source": [
    "a = (3 * (ytest) - label)\n",
    "\n",
    "TP = sum(a == 2)\n",
    "FP = sum(a == -1)\n",
    "FN = sum(a == 0)\n",
    "TN = sum(a == 3)\n",
    "Precision = TP / (TP + FP)\n",
    "Recall = TP / (TP + TN)\n",
    "fscore = 2 * (Precision * Recall) / (Precision + Recall)\n",
    "accuracy = (TP + FN) / (TP + FP + FN + TN )\n",
    "print accuracy\n",
    "TP, FP, FN, TN, Precision, Recall, fscore"
   ]
  },
  {
   "cell_type": "markdown",
   "metadata": {},
   "source": [
    "#2. Evaluate Model\n",
    "    Learning Curve\n",
    "    \n",
    "     1. rbf - kernel\n",
    "     2. linear - kernel"
   ]
  },
  {
   "cell_type": "markdown",
   "metadata": {},
   "source": [
    "###1. rbf - kernel\n",
    "    "
   ]
  },
  {
   "cell_type": "code",
   "execution_count": 14,
   "metadata": {
    "collapsed": false
   },
   "outputs": [
    {
     "name": "stdout",
     "output_type": "stream",
     "text": [
      "accuracy: 0.999600\n",
      "accuracy: 0.999300\n",
      "accuracy: 0.997733\n",
      "accuracy: 0.997350\n"
     ]
    },
    {
     "data": {
      "image/png": "[encoded data removed]",
      "text/plain": [
       "<matplotlib.figure.Figure at 0x1c9f6a90>"
      ]
     },
     "metadata": {},
     "output_type": "display_data"
    }
   ],
   "source": [
    "yCv = cv[1:5000, 1] #Training Label = SeriousDlqin2yrs\n",
    "xCv = cv[1:5000, 2:] # 10 features = Age, DebtRatio, etc...\n",
    "xCv = np.nan_to_num(xCv)\n",
    "yCv = np.nan_to_num(yCv)\n",
    "\n",
    "accuracyCurve = []\n",
    "accuracyCurveCv = []\n",
    "for i in range(5000,25000,5000):\n",
    "    # slice training examples       \n",
    "\n",
    "    y = training[1:i, 1] #Training Label = SeriousDlqin2yrs\n",
    "    x = training[1:i, 2:] # 10 features = Age, DebtRatio, etc...\n",
    "\n",
    "\n",
    "    # fill nan with zeros\n",
    "\n",
    "    x = np.nan_to_num(x)\n",
    "    y = np.nan_to_num(y)\n",
    "\n",
    "    # train\n",
    "    clf = SVC(probability=True) # probability = True\n",
    "    clf.fit(x, y)\n",
    "    prediction = clf.predict_proba(x)\n",
    "    pred = prediction[:, 1] # 1일 확률\n",
    "    label = pred > 0.1 # 0.1이상일 때, 1이라고 예측하자\n",
    "\n",
    "    a = (3 * (y) - label)\n",
    "    TP = sum(a == 2)\n",
    "    FP = sum(a == -1)\n",
    "    FN = sum(a == 0)\n",
    "    TN = sum(a == 3)\n",
    "    #from __future__ import division\n",
    "    Precision = TP / (TP + FP)\n",
    "    Recall = TP / (TP + TN)\n",
    "    fscore = 2 * (Precision * Recall) / (Precision + Recall)\n",
    "    accuracy = (TP + FN) / (TP + FP + FN + TN )\n",
    "    accuracyCurve.append(accuracy)\n",
    "    print ('accuracy: %f'% (accuracy))\n",
    "\n",
    "    \n",
    "    predictionCv = clf.predict_proba(xCv)\n",
    "    predCv = predictionCv[:, 1] # 1일 확률\n",
    "    labelCv = predCv > 0.1 # 0.1이상일 때, 1이라고 예측하자\n",
    "\n",
    "    aCv = (3 * (yCv) - labelCv)\n",
    "    TPCv = sum(aCv == 2)\n",
    "    FPCv = sum(aCv == -1)\n",
    "    FNCv = sum(aCv == 0)\n",
    "    TNCv = sum(aCv == 3)\n",
    "    #from __future__ import division\n",
    "    PrecisionCv = TPCv / (TPCv + FPCv)\n",
    "    RecallCv = TPCv / (TPCv + TNCv)\n",
    "    fscoreCv = 2 * (PrecisionCv * RecallCv) / (PrecisionCv + RecallCv)\n",
    "    accuracyCv = (TPCv + FNCv) / (TPCv + FPCv + FNCv + TNCv )\n",
    "    accuracyCurveCv.append(accuracyCv)\n",
    "\n",
    "# plot learning curve\n",
    "\n",
    "\n",
    "\n",
    "plt.plot(range(5000,25000,5000), accuracyCurve, label = 'accuracyCurveTrain')\n",
    "plt.plot(range(5000,25000,5000), accuracyCurveCv, label = 'accuracyCurveCv')\n",
    "\n",
    "#plt.plot(listOfNum, costCv, label = 'Jcv')\n",
    "\n",
    "plt.legend(loc='best')\n",
    "plt.xticks(rotation=70) \n",
    "plt.xlabel(\"# of examples\")\n",
    "plt.ylabel(\"J\")\n",
    "plt.title(\"Learning Curve\")\n",
    "plt.show()\n"
   ]
  },
  {
   "cell_type": "markdown",
   "metadata": {},
   "source": [
    "\n",
    "###2.linear - kernel\n",
    "    "
   ]
  },
  {
   "cell_type": "code",
   "execution_count": 15,
   "metadata": {
    "collapsed": false
   },
   "outputs": [
    {
     "name": "stdout",
     "output_type": "stream",
     "text": [
      "accuracy: 0.444444\n",
      "accuracy: 0.947368\n",
      "accuracy: 0.965517\n",
      "accuracy: 0.974359\n",
      "accuracy: 0.979592\n",
      "accuracy: 0.983051\n",
      "accuracy: 0.985507\n",
      "accuracy: 0.987342\n",
      "accuracy: 0.988764\n",
      "accuracy: 0.989899\n"
     ]
    },
    {
     "data": {
      "image/png": "[encoded data removed]",
      "text/plain": [
       "<matplotlib.figure.Figure at 0x26eb8e80>"
      ]
     },
     "metadata": {},
     "output_type": "display_data"
    }
   ],
   "source": [
    "\n",
    "yCv = cv[1:110, 1] #Training Label = SeriousDlqin2yrs\n",
    "xCv = cv[1:110, 2:] # 10 features = Age, DebtRatio, etc...\n",
    "xCv = np.nan_to_num(xCv)\n",
    "yCv = np.nan_to_num(yCv)\n",
    "\n",
    "accuracyCurve = []\n",
    "accuracyCurveCv = []\n",
    "for i in range(10,110,10):\n",
    "    # slice training examples       \n",
    "\n",
    "    y = training[1:i, 1] #Training Label = SeriousDlqin2yrs\n",
    "    x = training[1:i, 2:] # 10 features = Age, DebtRatio, etc...\n",
    "\n",
    "\n",
    "    # fill nan with zeros\n",
    "\n",
    "    x = np.nan_to_num(x)\n",
    "    y = np.nan_to_num(y)\n",
    "\n",
    "    # train\n",
    "    clf = SVC(kernel='linear', probability=True) # probability = True\n",
    "    clf.fit(x, y)\n",
    "    prediction = clf.predict_proba(x)\n",
    "    pred = prediction[:, 1] # 1일 확률\n",
    "    label = pred > 0.1 # 0.1이상일 때, 1이라고 예측하자\n",
    "\n",
    "    a = (3 * (y) - label)\n",
    "    TP = sum(a == 2)\n",
    "    FP = sum(a == -1)\n",
    "    FN = sum(a == 0)\n",
    "    TN = sum(a == 3)\n",
    "    #from __future__ import division\n",
    "    Precision = TP / (TP + FP)\n",
    "    Recall = TP / (TP + TN)\n",
    "    fscore = 2 * (Precision * Recall) / (Precision + Recall)\n",
    "    accuracy = (TP + FN) / (TP + FP + FN + TN )\n",
    "    accuracyCurve.append(accuracy)\n",
    "    print ('accuracy: %f'% (accuracy))\n",
    "  \n",
    "    predictionCv = clf.predict_proba(xCv)\n",
    "    predCv = predictionCv[:, 1] # 1일 확률\n",
    "    labelCv = predCv > 0.1 # 0.1이상일 때, 1이라고 예측하자\n",
    "\n",
    "    aCv = (3 * (yCv) - labelCv)\n",
    "    TPCv = sum(aCv == 2)\n",
    "    FPCv = sum(aCv == -1)\n",
    "    FNCv = sum(aCv == 0)\n",
    "    TNCv = sum(aCv == 3)\n",
    "    #from __future__ import division\n",
    "    PrecisionCv = TPCv / (TPCv + FPCv)\n",
    "    RecallCv = TPCv / (TPCv + TNCv)\n",
    "    fscoreCv = 2 * (PrecisionCv * RecallCv) / (PrecisionCv + RecallCv)\n",
    "    accuracyCv = (TPCv + FNCv) / (TPCv + FPCv + FNCv + TNCv )\n",
    "    accuracyCurveCv.append(accuracyCv)\n",
    "\n",
    "# plot learning curve\n",
    "\n",
    "\n",
    "plt.plot(range(10,110,10), accuracyCurve, label = 'accuracyCurveTrain')\n",
    "plt.plot(range(10,110,10), accuracyCurveCv, label = 'accuracyCurveCv')\n",
    "\n",
    "#plt.plot(listOfNum, costCv, label = 'Jcv')\n",
    "\n",
    "plt.legend(loc='best')\n",
    "plt.xticks(rotation=70) \n",
    "plt.xlabel(\"# of examples\")\n",
    "plt.ylabel(\"J\")\n",
    "plt.title(\"Learning Curve\")\n",
    "plt.show()\n"
   ]
  },
  {
   "cell_type": "markdown",
   "metadata": {},
   "source": [
    "It's high - bias so, don't need to train with more dataset"
   ]
  },
  {
   "cell_type": "markdown",
   "metadata": {},
   "source": [
    "#3. MODIFY MODEL\n",
    "    \n",
    "    1. Modify C\n",
    "    2. Modify Kernel type\n",
    "    3. Modify Kernel's degree\n",
    "    4. Modified Model"
   ]
  },
  {
   "cell_type": "markdown",
   "metadata": {},
   "source": [
    "###1. Modify C\n",
    "    "
   ]
  },
  {
   "cell_type": "code",
   "execution_count": 26,
   "metadata": {
    "collapsed": false
   },
   "outputs": [
    {
     "name": "stdout",
     "output_type": "stream",
     "text": [
      "When C = 1, fscore is 0.031657.\n",
      "When C = 2, fscore is 0.028504.\n",
      "When C = 3, fscore is 0.029176.\n",
      "When C = 4, fscore is 0.027606.\n",
      "When C = 5, fscore is 0.028450.\n",
      "When C = 6, fscore is 0.029231.\n",
      "When C = 7, fscore is 0.028531.\n",
      "When C = 8, fscore is 0.029176.\n",
      "When C = 9, fscore is 0.029356.\n",
      "When C = 10, fscore is 0.031880.\n",
      "When C = 11, fscore is 0.027593.\n",
      "When C = 12, fscore is 0.029259.\n",
      "When C = 13, fscore is 0.028463.\n",
      "When C = 14, fscore is 0.029163.\n",
      "When C = 15, fscore is 0.028517.\n",
      "When C = 16, fscore is 0.028531.\n",
      "When C = 17, fscore is 0.029218.\n",
      "When C = 18, fscore is 0.027593.\n",
      "When C = 19, fscore is 0.028531.\n"
     ]
    }
   ],
   "source": [
    "# 1. C\n",
    "fscoreList = []\n",
    "\n",
    "xpart = training[1:60,2:]\n",
    "ypart = training[1:60,1]\n",
    "\n",
    "xpart = np.nan_to_num(xpart)\n",
    "ypart = np.nan_to_num(ypart)\n",
    "\n",
    "\n",
    "yCv = cv[1:, 1] #Training Label = SeriousDlqin2yrs\n",
    "xCv = cv[1:, 2:] # 10 features = Age, DebtRatio, etc...\n",
    "xCv = np.nan_to_num(xCv)\n",
    "yCv = np.nan_to_num(yCv)\n",
    "for i in range(1, 20, 1):    \n",
    "    clf = SVC(probability=True, kernel = 'linear',C = i)\n",
    "    clf.fit(xpart, ypart)\n",
    "    prediction = clf.predict_proba(xCv)\n",
    "    pred = prediction[:, 1] # 1일 확률\n",
    "    label = pred > 0.1 # 0.1이상일 때, 1이라고 예측하자\n",
    "\n",
    "    a = (3 * (yCv) - label)\n",
    "\n",
    "    TP = sum(a == 2)\n",
    "    FP = sum(a == -1)\n",
    "    FN = sum(a == 0)\n",
    "    TN = sum(a == 3)\n",
    "    #from __future__ import division\n",
    "    Precision = TP / (TP + FP)\n",
    "    Recall = TP / (TP + TN)\n",
    "    fscore = 2 * (Precision * Recall) / (Precision + Recall)\n",
    "    fscoreList.append(fscore)\n",
    "    print 'When C = %d, fscore is %f.' % (i, fscore)\n"
   ]
  },
  {
   "cell_type": "code",
   "execution_count": 27,
   "metadata": {
    "collapsed": false,
    "scrolled": true
   },
   "outputs": [
    {
     "data": {
      "text/plain": [
       "<matplotlib.text.Text at 0x26eb8860>"
      ]
     },
     "execution_count": 27,
     "metadata": {},
     "output_type": "execute_result"
    },
    {
     "data": {
      "image/png": "[encoded data removed]",
      "text/plain": [
       "<matplotlib.figure.Figure at 0x2c5bc208>"
      ]
     },
     "metadata": {},
     "output_type": "display_data"
    }
   ],
   "source": [
    "%matplotlib inline \n",
    "import matplotlib.pyplot as plt\n",
    "\n",
    "plt.figure()\n",
    "plt.plot(range(1, 20, 1), fscoreList, label = 'fscore')\n",
    "\n",
    "plt.legend(loc='best')\n",
    "plt.xticks(rotation=70) \n",
    "plt.xlabel(\"C\")\n",
    "plt.ylabel(\"fscore\")\n",
    "plt.title(\"C - fscore relationship\")"
   ]
  },
  {
   "cell_type": "markdown",
   "metadata": {},
   "source": [
    "### 2. Modify Kernel type\n",
    "    "
   ]
  },
  {
   "cell_type": "code",
   "execution_count": 29,
   "metadata": {
    "collapsed": false
   },
   "outputs": [
    {
     "name": "stdout",
     "output_type": "stream",
     "text": [
      "[ 0.  0.  0. ...,  0.  0.  0.] 30 27 27924 2019\n",
      "When kernel = linear, fscore is 0.028490.\n",
      "[ 0.  0.  0. ...,  0.  0.  0.] 7 55 27896 2042\n",
      "When kernel = poly, fscore is 0.006632.\n",
      "[ 0.  0.  0. ...,  0.  0.  0.] 0 0 27951 2049\n",
      "When kernel = rbf, fscore is nan.\n",
      "[ 0.  0.  0. ...,  0.  0.  0.] 0 0 27951 2049\n",
      "When kernel = sigmoid, fscore is nan.\n"
     ]
    }
   ],
   "source": [
    "# 2. kernel\n",
    "fscoreListK = []\n",
    "\n",
    "ypart = training[1:60, 1] #Training Label = SeriousDlqin2yrs\n",
    "xpart = training[1:60, 2:] # 10 features = Age, DebtRatio, etc...\n",
    "# fill nan with zeros\n",
    "xpart = np.nan_to_num(xpart)\n",
    "ypart = np.nan_to_num(ypart)\n",
    "for i in ['linear', 'poly', 'rbf', 'sigmoid']:\n",
    "    clf = SVC(probability=True, kernel = i, C = 10)\n",
    "    clf.fit(xpart, ypart)\n",
    "    predictionK = clf.predict_proba(xCv)\n",
    "    predK = predictionK[:, 1] # 1일 확률\n",
    "    labelK = predK > 0.1 # 0.1이상일 때, 1이라고 예측하자\n",
    "    aK = (3 * (yCv) - labelK)\n",
    "    \n",
    "    TPK = sum(aK == 2)\n",
    "    FPK = sum(aK == -1)\n",
    "    FNK = sum(aK == 0)\n",
    "    TNK = sum(aK == 3)\n",
    "    #from __future__ import division\n",
    "    PrecisionK = TPK / (TPK + FPK)\n",
    "    RecallK = TPK / (TPK + TNK)\n",
    "    fscoreK = 2 * (PrecisionK * RecallK) / (PrecisionK + RecallK)\n",
    "    fscoreListK.append(fscoreK)\n",
    "    print aK,TPK,FPK,FNK,TNK\n",
    "    print 'When kernel = %s, fscore is %f.' % (i, fscoreK)\n"
   ]
  },
  {
   "cell_type": "markdown",
   "metadata": {},
   "source": [
    "From highest fscore to lowest fscore: linear > poly > rbf > sigmoid\n",
    "\n",
    "With 'linear' kernel, fscore was the highest.\n",
    "\n",
    "but training cost is too expensive."
   ]
  },
  {
   "cell_type": "markdown",
   "metadata": {},
   "source": [
    "### 3. Change (polynomial) Kernel's degree\n",
    "    "
   ]
  },
  {
   "cell_type": "code",
   "execution_count": 32,
   "metadata": {
    "collapsed": false
   },
   "outputs": [
    {
     "name": "stdout",
     "output_type": "stream",
     "text": [
      "When degree = 1, fscore is 0.064257.\n",
      "When degree = 2, fscore is 0.025221.\n",
      "When degree = 3, fscore is 0.023057.\n",
      "When degree = 4, fscore is 0.022404.\n",
      "When degree = 5, fscore is 0.023236.\n"
     ]
    }
   ],
   "source": [
    "# 3. degree\n",
    "fscoreListD = []\n",
    "for i in range(1, 6):\n",
    "    clf = SVC(kernel = 'poly', degree = i, C = 10) # degree only applies when kernel is poly\n",
    "    clf.fit(xpart, ypart)\n",
    "    prediction = clf.predict(xCv)\n",
    "    accuracy = np.mean(prediction == yCv)\n",
    "    aD = (3 * (yCv) - prediction)\n",
    "    \n",
    "    TPD = sum(aD == 2)\n",
    "    FPD = sum(aD == -1)\n",
    "    FND = sum(aD == 0)\n",
    "    TND = sum(aD == 3)\n",
    "    #from __future__ import division\n",
    "    PrecisionD = TPD / (TPD + FPD)\n",
    "    RecallD = TPD / (TPD + TND)\n",
    "    fscoreD = 2 * (PrecisionD * RecallD) / (PrecisionD + RecallD)\n",
    "    fscoreListD.append(fscoreD)\n",
    "    print 'When degree = %d, fscore is %f.' % (i, fscoreD)\n",
    "\n"
   ]
  },
  {
   "cell_type": "code",
   "execution_count": 33,
   "metadata": {
    "collapsed": false
   },
   "outputs": [
    {
     "data": {
      "text/plain": [
       "<matplotlib.text.Text at 0x1c5a7710>"
      ]
     },
     "execution_count": 33,
     "metadata": {},
     "output_type": "execute_result"
    },
    {
     "data": {
      "image/png": "[encoded data removed]",
      "text/plain": [
       "<matplotlib.figure.Figure at 0x27c07a20>"
      ]
     },
     "metadata": {},
     "output_type": "display_data"
    }
   ],
   "source": [
    "plt.figure()\n",
    "plt.plot(range(1, 6), fscoreListD, label = 'fscore')\n",
    "\n",
    "plt.legend(loc='best')\n",
    "plt.xticks(rotation=70) \n",
    "plt.xlabel(\"Degree\")\n",
    "plt.ylabel(\"fscore\")\n",
    "plt.title(\"Degree - Accuracy relationship (kernel = 'poly')\")"
   ]
  },
  {
   "cell_type": "markdown",
   "metadata": {},
   "source": [
    "When using 'poly' kernel, degree 1 results in the highest fscore."
   ]
  },
  {
   "cell_type": "markdown",
   "metadata": {},
   "source": [
    "### 4. Modified Model\n",
    "    Train again with modified parameters\n",
    "    (Higher f-score expected, in sacrifice of accuracy)\n",
    "    (high bias -> small trainset, svm which is linear kernel, C=10)"
   ]
  },
  {
   "cell_type": "code",
   "execution_count": 38,
   "metadata": {
    "collapsed": false
   },
   "outputs": [
    {
     "name": "stdout",
     "output_type": "stream",
     "text": [
      "accuracy: 0.932800\n",
      "Precision: 0.421875\n",
      "Recall: 0.013460\n",
      "fscore: 0.026087\n"
     ]
    }
   ],
   "source": [
    "y = training[1:80, 1] #Training Label = SeriousDlqin2yrs\n",
    "x = training[1:80, 2:] # 10 features = Age, DebtRatio, etc...\n",
    "\n",
    "\n",
    "# fill nan with zeros\n",
    "\n",
    "x = np.nan_to_num(x)\n",
    "y = np.nan_to_num(y)\n",
    "\n",
    "# train\n",
    "clf = SVC(kernel = 'linear', probability=True, C=10) # probability = True\n",
    "clf.fit(x, y)\n",
    "prediction = clf.predict_proba(xtest)\n",
    "pred = prediction[:, 1] # 1일 확률\n",
    "label = pred > 0.1 # 0.1이상일 때, 1이라고 예측하자\n",
    "\n",
    "a = (3 * (ytest) - label)\n",
    "TP = sum(a == 2)\n",
    "FP = sum(a == -1)\n",
    "FN = sum(a == 0)\n",
    "TN = sum(a == 3)\n",
    "#from __future__ import division\n",
    "Precision = TP / (TP + FP)\n",
    "Recall = TP / (TP + TN)\n",
    "fscore = 2 * (Precision * Recall) / (Precision + Recall)\n",
    "accuracy = (TP + FN) / (TP + FP + FN + TN )\n",
    "\n",
    "print ('accuracy: %f'% (accuracy))\n",
    "print ('Precision: %f'% (Precision))\n",
    "print ('Recall: %f'% (Recall))\n",
    "print ('fscore: %f'% (fscore)) "
   ]
  },
  {
   "cell_type": "code",
   "execution_count": null,
   "metadata": {
    "collapsed": true
   },
   "outputs": [],
   "source": []
  }
 ],
 "metadata": {
  "kernelspec": {
   "display_name": "Python 2",
   "language": "python",
   "name": "python2"
  },
  "language_info": {
   "codemirror_mode": {
    "name": "ipython",
    "version": 2
   },
   "file_extension": ".py",
   "mimetype": "text/x-python",
   "name": "python",
   "nbconvert_exporter": "python",
   "pygments_lexer": "ipython2",
   "version": "2.7.9"
  }
 },
 "nbformat": 4,
 "nbformat_minor": 0
}
