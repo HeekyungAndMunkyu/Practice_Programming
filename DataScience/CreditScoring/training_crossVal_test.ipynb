{
 "cells": [
  {
   "cell_type": "code",
   "execution_count": 3,
   "metadata": {
    "collapsed": true
   },
   "outputs": [],
   "source": [
    "%matplotlib inline \n",
    "\n",
    "import pandas as pd\n",
    "import matplotlib.pyplot as plt\n",
    "import numpy as np\n",
    "import random"
   ]
  },
  {
   "cell_type": "code",
   "execution_count": 4,
   "metadata": {
    "collapsed": false
   },
   "outputs": [
    {
     "name": "stdout",
     "output_type": "stream",
     "text": [
      "\n",
      "Data Columns:\n",
      "\tSeriousDlqin2yrs\n",
      "\tRevolvingUtilizationOfUnsecuredLines\n",
      "\tage\n",
      "\tNumberOfTime30-59DaysPastDueNotWorse\n",
      "\tDebtRatio\n",
      "\tMonthlyIncome\n",
      "\tNumberOfOpenCreditLinesAndLoans\n",
      "\tNumberOfTimes90DaysLate\n",
      "\tNumberRealEstateLoansOrLines\n",
      "\tNumberOfTime60-89DaysPastDueNotWorse\n",
      "\tNumberOfDependents\n",
      "\n",
      "Data shape is (150000, 11) \n",
      "\n"
     ]
    }
   ],
   "source": [
    "#import data\n",
    "\n",
    "\n",
    "def load(filename):\n",
    "    '''\n",
    "    filenname: string ('test.csv')\n",
    "    \n",
    "    returns: DataFrame\n",
    "    '''\n",
    "    data = pd.DataFrame.from_csv(filename, encoding = 'utf-8')\n",
    "    print '\\nData Columns:'\n",
    "    for c in data.columns:\n",
    "        print '\\t',c\n",
    "\n",
    "    print '\\nData shape is', data.shape,'\\n'\n",
    "\n",
    "    data.head(30)\n",
    "    \n",
    "    return data\n",
    "\n",
    "data = load('cs-training.csv')"
   ]
  },
  {
   "cell_type": "code",
   "execution_count": 12,
   "metadata": {
    "collapsed": false
   },
   "outputs": [
    {
     "name": "stdout",
     "output_type": "stream",
     "text": [
      "(150000,)\n",
      "[42082 47463  6412 ..., 26924 18093 78303]\n",
      "\n",
      "(90000, 11)\n",
      "        SeriousDlqin2yrs  RevolvingUtilizationOfUnsecuredLines  age  \\\n",
      "42082                  1                              1.173509   33   \n",
      "47463                  0                              0.040118   67   \n",
      "6412                   0                              0.228882   68   \n",
      "142967                 0                              0.558521   50   \n",
      "51191                  0                              0.000000   65   \n",
      "\n",
      "        NumberOfTime30-59DaysPastDueNotWorse  DebtRatio  MonthlyIncome  \\\n",
      "42082                                      3   0.430443           5570   \n",
      "47463                                      0   0.007237          10500   \n",
      "6412                                       0   0.137878           3872   \n",
      "142967                                     0   0.211546          12800   \n",
      "51191                                      0   0.007198           3750   \n",
      "\n",
      "        NumberOfOpenCreditLinesAndLoans  NumberOfTimes90DaysLate  \\\n",
      "42082                                13                        5   \n",
      "47463                                17                        0   \n",
      "6412                                  6                        0   \n",
      "142967                               21                        0   \n",
      "51191                                 4                        0   \n",
      "\n",
      "        NumberRealEstateLoansOrLines  NumberOfTime60-89DaysPastDueNotWorse  \\\n",
      "42082                              0                                     2   \n",
      "47463                              0                                     0   \n",
      "6412                               0                                     0   \n",
      "142967                             1                                     0   \n",
      "51191                              0                                     0   \n",
      "\n",
      "        NumberOfDependents  \n",
      "42082                    2  \n",
      "47463                    0  \n",
      "6412                     0  \n",
      "142967                   1  \n",
      "51191                    0  \n",
      "\n",
      "(30000, 11)\n",
      "\n",
      "(30000, 11)\n"
     ]
    }
   ],
   "source": [
    "\n",
    "# Shuffle index\n",
    "index = np.array(data.index)\n",
    "random.shuffle(index)\n",
    "\n",
    "print index.shape\n",
    "print index\n",
    "\n",
    "# training set (60%)\n",
    "trainingSize = data.shape[0] * 0.60\n",
    "training = data.ix[index[:trainingSize]]\n",
    "\n",
    "training.to_csv('training.csv', encoding='utf-8')\n",
    "\n",
    "print '\\n', training.shape\n",
    "print training.head()\n",
    "\n",
    "# crossValidation set (20%)\n",
    "crossValSize = data.shape[0] * 0.20\n",
    "crossValidation = data.ix[index[trainingSize:trainingSize + crossValSize]]\n",
    "\n",
    "crossValidation.to_csv('crossValidation.csv', encoding='utf-8')\n",
    "\n",
    "print '\\n', crossValidation.shape\n",
    "\n",
    "# test set (20%)\n",
    "test = data.ix[index[trainingSize + crossValSize:]]\n",
    "\n",
    "test.to_csv('test.csv', encoding = 'utf-8')\n",
    "\n",
    "print '\\n', crossValidation.shape\n"
   ]
  },
  {
   "cell_type": "code",
   "execution_count": 13,
   "metadata": {
    "collapsed": false
   },
   "outputs": [
    {
     "name": "stdout",
     "output_type": "stream",
     "text": [
      "\n",
      "Data Columns:\n",
      "\tSeriousDlqin2yrs\n",
      "\tRevolvingUtilizationOfUnsecuredLines\n",
      "\tage\n",
      "\tNumberOfTime30-59DaysPastDueNotWorse\n",
      "\tDebtRatio\n",
      "\tMonthlyIncome\n",
      "\tNumberOfOpenCreditLinesAndLoans\n",
      "\tNumberOfTimes90DaysLate\n",
      "\tNumberRealEstateLoansOrLines\n",
      "\tNumberOfTime60-89DaysPastDueNotWorse\n",
      "\tNumberOfDependents\n",
      "\n",
      "Data shape is (90000, 11) \n",
      "\n",
      "\n",
      "Data Columns:\n",
      "\tSeriousDlqin2yrs\n",
      "\tRevolvingUtilizationOfUnsecuredLines\n",
      "\tage\n",
      "\tNumberOfTime30-59DaysPastDueNotWorse\n",
      "\tDebtRatio\n",
      "\tMonthlyIncome\n",
      "\tNumberOfOpenCreditLinesAndLoans\n",
      "\tNumberOfTimes90DaysLate\n",
      "\tNumberRealEstateLoansOrLines\n",
      "\tNumberOfTime60-89DaysPastDueNotWorse\n",
      "\tNumberOfDependents\n",
      "\n",
      "Data shape is (30000, 11) \n",
      "\n",
      "\n",
      "Data Columns:\n",
      "\tSeriousDlqin2yrs\n",
      "\tRevolvingUtilizationOfUnsecuredLines\n",
      "\tage\n",
      "\tNumberOfTime30-59DaysPastDueNotWorse\n",
      "\tDebtRatio\n",
      "\tMonthlyIncome\n",
      "\tNumberOfOpenCreditLinesAndLoans\n",
      "\tNumberOfTimes90DaysLate\n",
      "\tNumberRealEstateLoansOrLines\n",
      "\tNumberOfTime60-89DaysPastDueNotWorse\n",
      "\tNumberOfDependents\n",
      "\n",
      "Data shape is (30000, 11) \n",
      "\n"
     ]
    }
   ],
   "source": [
    "# load files\n",
    "\n",
    "training = load('training.csv')\n",
    "crossValidation = load('crossValidation.csv')\n",
    "test = load('test.csv')"
   ]
  },
  {
   "cell_type": "code",
   "execution_count": 14,
   "metadata": {
    "collapsed": false
   },
   "outputs": [],
   "source": [
    "# I. TRAIN (-> theta)\n",
    "# theta = fmincg(CostFunction, X, y)\n",
    "# II. PREDICT (-> h(x))\n",
    "\n",
    "# III. GET ACCURACY & F-SCORE"
   ]
  },
  {
   "cell_type": "code",
   "execution_count": null,
   "metadata": {
    "collapsed": false
   },
   "outputs": [],
   "source": []
  },
  {
   "cell_type": "code",
   "execution_count": null,
   "metadata": {
    "collapsed": true
   },
   "outputs": [],
   "source": []
  }
 ],
 "metadata": {
  "kernelspec": {
   "display_name": "Python 2",
   "language": "python",
   "name": "python2"
  },
  "language_info": {
   "codemirror_mode": {
    "name": "ipython",
    "version": 2
   },
   "file_extension": ".py",
   "mimetype": "text/x-python",
   "name": "python",
   "nbconvert_exporter": "python",
   "pygments_lexer": "ipython2",
   "version": "2.7.9"
  }
 },
 "nbformat": 4,
 "nbformat_minor": 0
}
