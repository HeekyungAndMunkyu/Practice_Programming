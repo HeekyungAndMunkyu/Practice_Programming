{
 "cells": [
  {
   "cell_type": "markdown",
   "metadata": {},
   "source": [
    "# Data Science Project: Credit Scoring\n",
    "###http://www.kaggle.com/c/GiveMeSomeCredit\n",
    "\n",
    "###김병건\n",
    "###윤희경\n",
    "###조유현"
   ]
  },
  {
   "cell_type": "code",
   "execution_count": 4,
   "metadata": {
    "collapsed": false
   },
   "outputs": [],
   "source": [
    "%matplotlib inline \n",
    "\n",
    "import pandas as pd\n",
    "import matplotlib.pyplot as plt\n",
    "import numpy as np"
   ]
  },
  {
   "cell_type": "code",
   "execution_count": 78,
   "metadata": {
    "collapsed": false,
    "scrolled": false
   },
   "outputs": [
    {
     "name": "stdout",
     "output_type": "stream",
     "text": [
      "\n",
      "columns are Index([u'SeriousDlqin2yrs', u'RevolvingUtilizationOfUnsecuredLines', u'age', u'NumberOfTime30-59DaysPastDueNotWorse', u'DebtRatio', u'MonthlyIncome', u'NumberOfOpenCreditLinesAndLoans', u'NumberOfTimes90DaysLate', u'NumberRealEstateLoansOrLines', u'NumberOfTime60-89DaysPastDueNotWorse', u'NumberOfDependents'], dtype='object')\n",
      "\n",
      "data shape is (150000, 11)\n",
      "\n"
     ]
    },
    {
     "data": {
      "text/html": [
       "<div style=\"max-height:1000px;max-width:1500px;overflow:auto;\">\n",
       "<table border=\"1\" class=\"dataframe\">\n",
       "  <thead>\n",
       "    <tr style=\"text-align: right;\">\n",
       "      <th></th>\n",
       "      <th>SeriousDlqin2yrs</th>\n",
       "      <th>RevolvingUtilizationOfUnsecuredLines</th>\n",
       "      <th>age</th>\n",
       "      <th>NumberOfTime30-59DaysPastDueNotWorse</th>\n",
       "      <th>DebtRatio</th>\n",
       "      <th>MonthlyIncome</th>\n",
       "      <th>NumberOfOpenCreditLinesAndLoans</th>\n",
       "      <th>NumberOfTimes90DaysLate</th>\n",
       "      <th>NumberRealEstateLoansOrLines</th>\n",
       "      <th>NumberOfTime60-89DaysPastDueNotWorse</th>\n",
       "      <th>NumberOfDependents</th>\n",
       "    </tr>\n",
       "  </thead>\n",
       "  <tbody>\n",
       "    <tr>\n",
       "      <th>1</th>\n",
       "      <td>1</td>\n",
       "      <td>0.766127</td>\n",
       "      <td>45</td>\n",
       "      <td>2</td>\n",
       "      <td>0.802982</td>\n",
       "      <td>9120</td>\n",
       "      <td>13</td>\n",
       "      <td>0</td>\n",
       "      <td>6</td>\n",
       "      <td>0</td>\n",
       "      <td>2</td>\n",
       "    </tr>\n",
       "    <tr>\n",
       "      <th>2</th>\n",
       "      <td>0</td>\n",
       "      <td>0.957151</td>\n",
       "      <td>40</td>\n",
       "      <td>0</td>\n",
       "      <td>0.121876</td>\n",
       "      <td>2600</td>\n",
       "      <td>4</td>\n",
       "      <td>0</td>\n",
       "      <td>0</td>\n",
       "      <td>0</td>\n",
       "      <td>1</td>\n",
       "    </tr>\n",
       "    <tr>\n",
       "      <th>3</th>\n",
       "      <td>0</td>\n",
       "      <td>0.658180</td>\n",
       "      <td>38</td>\n",
       "      <td>1</td>\n",
       "      <td>0.085113</td>\n",
       "      <td>3042</td>\n",
       "      <td>2</td>\n",
       "      <td>1</td>\n",
       "      <td>0</td>\n",
       "      <td>0</td>\n",
       "      <td>0</td>\n",
       "    </tr>\n",
       "    <tr>\n",
       "      <th>4</th>\n",
       "      <td>0</td>\n",
       "      <td>0.233810</td>\n",
       "      <td>30</td>\n",
       "      <td>0</td>\n",
       "      <td>0.036050</td>\n",
       "      <td>3300</td>\n",
       "      <td>5</td>\n",
       "      <td>0</td>\n",
       "      <td>0</td>\n",
       "      <td>0</td>\n",
       "      <td>0</td>\n",
       "    </tr>\n",
       "    <tr>\n",
       "      <th>5</th>\n",
       "      <td>0</td>\n",
       "      <td>0.907239</td>\n",
       "      <td>49</td>\n",
       "      <td>1</td>\n",
       "      <td>0.024926</td>\n",
       "      <td>63588</td>\n",
       "      <td>7</td>\n",
       "      <td>0</td>\n",
       "      <td>1</td>\n",
       "      <td>0</td>\n",
       "      <td>0</td>\n",
       "    </tr>\n",
       "    <tr>\n",
       "      <th>6</th>\n",
       "      <td>0</td>\n",
       "      <td>0.213179</td>\n",
       "      <td>74</td>\n",
       "      <td>0</td>\n",
       "      <td>0.375607</td>\n",
       "      <td>3500</td>\n",
       "      <td>3</td>\n",
       "      <td>0</td>\n",
       "      <td>1</td>\n",
       "      <td>0</td>\n",
       "      <td>1</td>\n",
       "    </tr>\n",
       "    <tr>\n",
       "      <th>7</th>\n",
       "      <td>0</td>\n",
       "      <td>0.305682</td>\n",
       "      <td>57</td>\n",
       "      <td>0</td>\n",
       "      <td>5710.000000</td>\n",
       "      <td>NaN</td>\n",
       "      <td>8</td>\n",
       "      <td>0</td>\n",
       "      <td>3</td>\n",
       "      <td>0</td>\n",
       "      <td>0</td>\n",
       "    </tr>\n",
       "    <tr>\n",
       "      <th>8</th>\n",
       "      <td>0</td>\n",
       "      <td>0.754464</td>\n",
       "      <td>39</td>\n",
       "      <td>0</td>\n",
       "      <td>0.209940</td>\n",
       "      <td>3500</td>\n",
       "      <td>8</td>\n",
       "      <td>0</td>\n",
       "      <td>0</td>\n",
       "      <td>0</td>\n",
       "      <td>0</td>\n",
       "    </tr>\n",
       "    <tr>\n",
       "      <th>9</th>\n",
       "      <td>0</td>\n",
       "      <td>0.116951</td>\n",
       "      <td>27</td>\n",
       "      <td>0</td>\n",
       "      <td>46.000000</td>\n",
       "      <td>NaN</td>\n",
       "      <td>2</td>\n",
       "      <td>0</td>\n",
       "      <td>0</td>\n",
       "      <td>0</td>\n",
       "      <td>NaN</td>\n",
       "    </tr>\n",
       "    <tr>\n",
       "      <th>10</th>\n",
       "      <td>0</td>\n",
       "      <td>0.189169</td>\n",
       "      <td>57</td>\n",
       "      <td>0</td>\n",
       "      <td>0.606291</td>\n",
       "      <td>23684</td>\n",
       "      <td>9</td>\n",
       "      <td>0</td>\n",
       "      <td>4</td>\n",
       "      <td>0</td>\n",
       "      <td>2</td>\n",
       "    </tr>\n",
       "    <tr>\n",
       "      <th>11</th>\n",
       "      <td>0</td>\n",
       "      <td>0.644226</td>\n",
       "      <td>30</td>\n",
       "      <td>0</td>\n",
       "      <td>0.309476</td>\n",
       "      <td>2500</td>\n",
       "      <td>5</td>\n",
       "      <td>0</td>\n",
       "      <td>0</td>\n",
       "      <td>0</td>\n",
       "      <td>0</td>\n",
       "    </tr>\n",
       "    <tr>\n",
       "      <th>12</th>\n",
       "      <td>0</td>\n",
       "      <td>0.018798</td>\n",
       "      <td>51</td>\n",
       "      <td>0</td>\n",
       "      <td>0.531529</td>\n",
       "      <td>6501</td>\n",
       "      <td>7</td>\n",
       "      <td>0</td>\n",
       "      <td>2</td>\n",
       "      <td>0</td>\n",
       "      <td>2</td>\n",
       "    </tr>\n",
       "    <tr>\n",
       "      <th>13</th>\n",
       "      <td>0</td>\n",
       "      <td>0.010352</td>\n",
       "      <td>46</td>\n",
       "      <td>0</td>\n",
       "      <td>0.298354</td>\n",
       "      <td>12454</td>\n",
       "      <td>13</td>\n",
       "      <td>0</td>\n",
       "      <td>2</td>\n",
       "      <td>0</td>\n",
       "      <td>2</td>\n",
       "    </tr>\n",
       "    <tr>\n",
       "      <th>14</th>\n",
       "      <td>1</td>\n",
       "      <td>0.964673</td>\n",
       "      <td>40</td>\n",
       "      <td>3</td>\n",
       "      <td>0.382965</td>\n",
       "      <td>13700</td>\n",
       "      <td>9</td>\n",
       "      <td>3</td>\n",
       "      <td>1</td>\n",
       "      <td>1</td>\n",
       "      <td>2</td>\n",
       "    </tr>\n",
       "    <tr>\n",
       "      <th>15</th>\n",
       "      <td>0</td>\n",
       "      <td>0.019657</td>\n",
       "      <td>76</td>\n",
       "      <td>0</td>\n",
       "      <td>477.000000</td>\n",
       "      <td>0</td>\n",
       "      <td>6</td>\n",
       "      <td>0</td>\n",
       "      <td>1</td>\n",
       "      <td>0</td>\n",
       "      <td>0</td>\n",
       "    </tr>\n",
       "    <tr>\n",
       "      <th>16</th>\n",
       "      <td>0</td>\n",
       "      <td>0.548458</td>\n",
       "      <td>64</td>\n",
       "      <td>0</td>\n",
       "      <td>0.209892</td>\n",
       "      <td>11362</td>\n",
       "      <td>7</td>\n",
       "      <td>0</td>\n",
       "      <td>1</td>\n",
       "      <td>0</td>\n",
       "      <td>2</td>\n",
       "    </tr>\n",
       "    <tr>\n",
       "      <th>17</th>\n",
       "      <td>0</td>\n",
       "      <td>0.061086</td>\n",
       "      <td>78</td>\n",
       "      <td>0</td>\n",
       "      <td>2058.000000</td>\n",
       "      <td>NaN</td>\n",
       "      <td>10</td>\n",
       "      <td>0</td>\n",
       "      <td>2</td>\n",
       "      <td>0</td>\n",
       "      <td>0</td>\n",
       "    </tr>\n",
       "    <tr>\n",
       "      <th>18</th>\n",
       "      <td>0</td>\n",
       "      <td>0.166284</td>\n",
       "      <td>53</td>\n",
       "      <td>0</td>\n",
       "      <td>0.188274</td>\n",
       "      <td>8800</td>\n",
       "      <td>7</td>\n",
       "      <td>0</td>\n",
       "      <td>0</td>\n",
       "      <td>0</td>\n",
       "      <td>0</td>\n",
       "    </tr>\n",
       "    <tr>\n",
       "      <th>19</th>\n",
       "      <td>0</td>\n",
       "      <td>0.221813</td>\n",
       "      <td>43</td>\n",
       "      <td>0</td>\n",
       "      <td>0.527888</td>\n",
       "      <td>3280</td>\n",
       "      <td>7</td>\n",
       "      <td>0</td>\n",
       "      <td>1</td>\n",
       "      <td>0</td>\n",
       "      <td>2</td>\n",
       "    </tr>\n",
       "    <tr>\n",
       "      <th>20</th>\n",
       "      <td>0</td>\n",
       "      <td>0.602794</td>\n",
       "      <td>25</td>\n",
       "      <td>0</td>\n",
       "      <td>0.065868</td>\n",
       "      <td>333</td>\n",
       "      <td>2</td>\n",
       "      <td>0</td>\n",
       "      <td>0</td>\n",
       "      <td>0</td>\n",
       "      <td>0</td>\n",
       "    </tr>\n",
       "    <tr>\n",
       "      <th>21</th>\n",
       "      <td>0</td>\n",
       "      <td>0.200923</td>\n",
       "      <td>43</td>\n",
       "      <td>0</td>\n",
       "      <td>0.430046</td>\n",
       "      <td>12300</td>\n",
       "      <td>10</td>\n",
       "      <td>0</td>\n",
       "      <td>2</td>\n",
       "      <td>0</td>\n",
       "      <td>0</td>\n",
       "    </tr>\n",
       "    <tr>\n",
       "      <th>22</th>\n",
       "      <td>1</td>\n",
       "      <td>0.025656</td>\n",
       "      <td>38</td>\n",
       "      <td>0</td>\n",
       "      <td>0.475841</td>\n",
       "      <td>3000</td>\n",
       "      <td>7</td>\n",
       "      <td>0</td>\n",
       "      <td>1</td>\n",
       "      <td>0</td>\n",
       "      <td>2</td>\n",
       "    </tr>\n",
       "    <tr>\n",
       "      <th>23</th>\n",
       "      <td>0</td>\n",
       "      <td>1.000000</td>\n",
       "      <td>39</td>\n",
       "      <td>0</td>\n",
       "      <td>0.241104</td>\n",
       "      <td>2500</td>\n",
       "      <td>4</td>\n",
       "      <td>0</td>\n",
       "      <td>0</td>\n",
       "      <td>0</td>\n",
       "      <td>0</td>\n",
       "    </tr>\n",
       "    <tr>\n",
       "      <th>24</th>\n",
       "      <td>0</td>\n",
       "      <td>0.075427</td>\n",
       "      <td>32</td>\n",
       "      <td>0</td>\n",
       "      <td>0.085512</td>\n",
       "      <td>7916</td>\n",
       "      <td>6</td>\n",
       "      <td>0</td>\n",
       "      <td>0</td>\n",
       "      <td>0</td>\n",
       "      <td>0</td>\n",
       "    </tr>\n",
       "    <tr>\n",
       "      <th>25</th>\n",
       "      <td>0</td>\n",
       "      <td>0.046560</td>\n",
       "      <td>58</td>\n",
       "      <td>0</td>\n",
       "      <td>0.241622</td>\n",
       "      <td>2416</td>\n",
       "      <td>9</td>\n",
       "      <td>0</td>\n",
       "      <td>1</td>\n",
       "      <td>0</td>\n",
       "      <td>0</td>\n",
       "    </tr>\n",
       "    <tr>\n",
       "      <th>26</th>\n",
       "      <td>1</td>\n",
       "      <td>0.392248</td>\n",
       "      <td>50</td>\n",
       "      <td>0</td>\n",
       "      <td>1.595253</td>\n",
       "      <td>4676</td>\n",
       "      <td>14</td>\n",
       "      <td>0</td>\n",
       "      <td>3</td>\n",
       "      <td>0</td>\n",
       "      <td>1</td>\n",
       "    </tr>\n",
       "    <tr>\n",
       "      <th>27</th>\n",
       "      <td>0</td>\n",
       "      <td>0.052436</td>\n",
       "      <td>58</td>\n",
       "      <td>0</td>\n",
       "      <td>0.097672</td>\n",
       "      <td>8333</td>\n",
       "      <td>22</td>\n",
       "      <td>0</td>\n",
       "      <td>1</td>\n",
       "      <td>0</td>\n",
       "      <td>0</td>\n",
       "    </tr>\n",
       "    <tr>\n",
       "      <th>28</th>\n",
       "      <td>0</td>\n",
       "      <td>0.034421</td>\n",
       "      <td>69</td>\n",
       "      <td>0</td>\n",
       "      <td>0.042383</td>\n",
       "      <td>2500</td>\n",
       "      <td>17</td>\n",
       "      <td>0</td>\n",
       "      <td>0</td>\n",
       "      <td>0</td>\n",
       "      <td>1</td>\n",
       "    </tr>\n",
       "    <tr>\n",
       "      <th>29</th>\n",
       "      <td>0</td>\n",
       "      <td>0.452516</td>\n",
       "      <td>24</td>\n",
       "      <td>0</td>\n",
       "      <td>0.011761</td>\n",
       "      <td>3400</td>\n",
       "      <td>1</td>\n",
       "      <td>0</td>\n",
       "      <td>0</td>\n",
       "      <td>0</td>\n",
       "      <td>0</td>\n",
       "    </tr>\n",
       "    <tr>\n",
       "      <th>30</th>\n",
       "      <td>0</td>\n",
       "      <td>0.392995</td>\n",
       "      <td>58</td>\n",
       "      <td>2</td>\n",
       "      <td>0.436103</td>\n",
       "      <td>5500</td>\n",
       "      <td>15</td>\n",
       "      <td>0</td>\n",
       "      <td>1</td>\n",
       "      <td>0</td>\n",
       "      <td>0</td>\n",
       "    </tr>\n",
       "  </tbody>\n",
       "</table>\n",
       "</div>"
      ],
      "text/plain": [
       "    SeriousDlqin2yrs  RevolvingUtilizationOfUnsecuredLines  age  \\\n",
       "1                  1                              0.766127   45   \n",
       "2                  0                              0.957151   40   \n",
       "3                  0                              0.658180   38   \n",
       "4                  0                              0.233810   30   \n",
       "5                  0                              0.907239   49   \n",
       "6                  0                              0.213179   74   \n",
       "7                  0                              0.305682   57   \n",
       "8                  0                              0.754464   39   \n",
       "9                  0                              0.116951   27   \n",
       "10                 0                              0.189169   57   \n",
       "11                 0                              0.644226   30   \n",
       "12                 0                              0.018798   51   \n",
       "13                 0                              0.010352   46   \n",
       "14                 1                              0.964673   40   \n",
       "15                 0                              0.019657   76   \n",
       "16                 0                              0.548458   64   \n",
       "17                 0                              0.061086   78   \n",
       "18                 0                              0.166284   53   \n",
       "19                 0                              0.221813   43   \n",
       "20                 0                              0.602794   25   \n",
       "21                 0                              0.200923   43   \n",
       "22                 1                              0.025656   38   \n",
       "23                 0                              1.000000   39   \n",
       "24                 0                              0.075427   32   \n",
       "25                 0                              0.046560   58   \n",
       "26                 1                              0.392248   50   \n",
       "27                 0                              0.052436   58   \n",
       "28                 0                              0.034421   69   \n",
       "29                 0                              0.452516   24   \n",
       "30                 0                              0.392995   58   \n",
       "\n",
       "    NumberOfTime30-59DaysPastDueNotWorse    DebtRatio  MonthlyIncome  \\\n",
       "1                                      2     0.802982           9120   \n",
       "2                                      0     0.121876           2600   \n",
       "3                                      1     0.085113           3042   \n",
       "4                                      0     0.036050           3300   \n",
       "5                                      1     0.024926          63588   \n",
       "6                                      0     0.375607           3500   \n",
       "7                                      0  5710.000000            NaN   \n",
       "8                                      0     0.209940           3500   \n",
       "9                                      0    46.000000            NaN   \n",
       "10                                     0     0.606291          23684   \n",
       "11                                     0     0.309476           2500   \n",
       "12                                     0     0.531529           6501   \n",
       "13                                     0     0.298354          12454   \n",
       "14                                     3     0.382965          13700   \n",
       "15                                     0   477.000000              0   \n",
       "16                                     0     0.209892          11362   \n",
       "17                                     0  2058.000000            NaN   \n",
       "18                                     0     0.188274           8800   \n",
       "19                                     0     0.527888           3280   \n",
       "20                                     0     0.065868            333   \n",
       "21                                     0     0.430046          12300   \n",
       "22                                     0     0.475841           3000   \n",
       "23                                     0     0.241104           2500   \n",
       "24                                     0     0.085512           7916   \n",
       "25                                     0     0.241622           2416   \n",
       "26                                     0     1.595253           4676   \n",
       "27                                     0     0.097672           8333   \n",
       "28                                     0     0.042383           2500   \n",
       "29                                     0     0.011761           3400   \n",
       "30                                     2     0.436103           5500   \n",
       "\n",
       "    NumberOfOpenCreditLinesAndLoans  NumberOfTimes90DaysLate  \\\n",
       "1                                13                        0   \n",
       "2                                 4                        0   \n",
       "3                                 2                        1   \n",
       "4                                 5                        0   \n",
       "5                                 7                        0   \n",
       "6                                 3                        0   \n",
       "7                                 8                        0   \n",
       "8                                 8                        0   \n",
       "9                                 2                        0   \n",
       "10                                9                        0   \n",
       "11                                5                        0   \n",
       "12                                7                        0   \n",
       "13                               13                        0   \n",
       "14                                9                        3   \n",
       "15                                6                        0   \n",
       "16                                7                        0   \n",
       "17                               10                        0   \n",
       "18                                7                        0   \n",
       "19                                7                        0   \n",
       "20                                2                        0   \n",
       "21                               10                        0   \n",
       "22                                7                        0   \n",
       "23                                4                        0   \n",
       "24                                6                        0   \n",
       "25                                9                        0   \n",
       "26                               14                        0   \n",
       "27                               22                        0   \n",
       "28                               17                        0   \n",
       "29                                1                        0   \n",
       "30                               15                        0   \n",
       "\n",
       "    NumberRealEstateLoansOrLines  NumberOfTime60-89DaysPastDueNotWorse  \\\n",
       "1                              6                                     0   \n",
       "2                              0                                     0   \n",
       "3                              0                                     0   \n",
       "4                              0                                     0   \n",
       "5                              1                                     0   \n",
       "6                              1                                     0   \n",
       "7                              3                                     0   \n",
       "8                              0                                     0   \n",
       "9                              0                                     0   \n",
       "10                             4                                     0   \n",
       "11                             0                                     0   \n",
       "12                             2                                     0   \n",
       "13                             2                                     0   \n",
       "14                             1                                     1   \n",
       "15                             1                                     0   \n",
       "16                             1                                     0   \n",
       "17                             2                                     0   \n",
       "18                             0                                     0   \n",
       "19                             1                                     0   \n",
       "20                             0                                     0   \n",
       "21                             2                                     0   \n",
       "22                             1                                     0   \n",
       "23                             0                                     0   \n",
       "24                             0                                     0   \n",
       "25                             1                                     0   \n",
       "26                             3                                     0   \n",
       "27                             1                                     0   \n",
       "28                             0                                     0   \n",
       "29                             0                                     0   \n",
       "30                             1                                     0   \n",
       "\n",
       "    NumberOfDependents  \n",
       "1                    2  \n",
       "2                    1  \n",
       "3                    0  \n",
       "4                    0  \n",
       "5                    0  \n",
       "6                    1  \n",
       "7                    0  \n",
       "8                    0  \n",
       "9                  NaN  \n",
       "10                   2  \n",
       "11                   0  \n",
       "12                   2  \n",
       "13                   2  \n",
       "14                   2  \n",
       "15                   0  \n",
       "16                   2  \n",
       "17                   0  \n",
       "18                   0  \n",
       "19                   2  \n",
       "20                   0  \n",
       "21                   0  \n",
       "22                   2  \n",
       "23                   0  \n",
       "24                   0  \n",
       "25                   0  \n",
       "26                   1  \n",
       "27                   0  \n",
       "28                   1  \n",
       "29                   0  \n",
       "30                   0  "
      ]
     },
     "execution_count": 78,
     "metadata": {},
     "output_type": "execute_result"
    }
   ],
   "source": [
    "#import data\n",
    "data = pd.DataFrame.from_csv('credit_train.csv', encoding = 'utf-8')\n",
    "print\n",
    "print 'columns are', data.columns\n",
    "print \n",
    "print 'data shape is', data.shape\n",
    "print\n",
    "data.head(30)"
   ]
  },
  {
   "cell_type": "markdown",
   "metadata": {},
   "source": [
    "#1. SeriousDlqin2yrs \n",
    "###Person experienced 90 days past due delinquency or worse "
   ]
  },
  {
   "cell_type": "code",
   "execution_count": 143,
   "metadata": {
    "collapsed": false
   },
   "outputs": [
    {
     "name": "stdout",
     "output_type": "stream",
     "text": [
      "1     1\n",
      "2     0\n",
      "3     0\n",
      "4     0\n",
      "5     0\n",
      "6     0\n",
      "7     0\n",
      "8     0\n",
      "9     0\n",
      "10    0\n",
      "Name: SeriousDlqin2yrs, dtype: int64\n"
     ]
    }
   ],
   "source": [
    "SeriousDlqin2yrs = data['SeriousDlqin2yrs']\n",
    "print SeriousDlqin2yrs.head(10)"
   ]
  },
  {
   "cell_type": "code",
   "execution_count": 186,
   "metadata": {
    "collapsed": false
   },
   "outputs": [
    {
     "name": "stdout",
     "output_type": "stream",
     "text": [
      "unique values are [0 1]\n",
      "count are [0 1] =  [139974  10026]\n"
     ]
    }
   ],
   "source": [
    "xData = np.sort(SeriousDlqin2yrs.unique())\n",
    "print 'unique values are', xData\n",
    "yData = np.bincount(SeriousDlqin2yrs)\n",
    "print 'count are [0 1] = ', yData"
   ]
  },
  {
   "cell_type": "code",
   "execution_count": 187,
   "metadata": {
    "collapsed": false
   },
   "outputs": [
    {
     "data": {
      "image/png": "[encoded data removed]",
      "text/plain": [
       "<matplotlib.figure.Figure at 0x10ef23590>"
      ]
     },
     "metadata": {},
     "output_type": "display_data"
    }
   ],
   "source": [
    "plt.bar(xData, yData, 0.70)\n",
    "plt.xticks(xData, ('No (=0)', 'Yes (=1)'))\n",
    "plt.xticks(rotation=70)\n",
    "plt.xlabel(\"Serious Delinquency in 2 years\")\n",
    "plt.ylabel(\"Frequency\")\n",
    "plt.title(\"Serious Delinquency in 2 years\")\n",
    "plt.grid()"
   ]
  },
  {
   "cell_type": "markdown",
   "metadata": {},
   "source": [
    "#2. RevolvingUtilizationOfUnsecuredLines\n",
    "###Total balance on credit cards and personal lines of credit except real estate and no installment debt like car loans divided by the sum of credit limits"
   ]
  },
  {
   "cell_type": "code",
   "execution_count": 16,
   "metadata": {
    "collapsed": false
   },
   "outputs": [
    {
     "name": "stdout",
     "output_type": "stream",
     "text": [
      "1     0.766127\n",
      "2     0.957151\n",
      "3     0.658180\n",
      "4     0.233810\n",
      "5     0.907239\n",
      "6     0.213179\n",
      "7     0.305682\n",
      "8     0.754464\n",
      "9     0.116951\n",
      "10    0.189169\n",
      "Name: RevolvingUtilizationOfUnsecuredLines, dtype: float64\n",
      "<class 'pandas.core.series.Series'>\n"
     ]
    }
   ],
   "source": [
    "# examine column by column\n",
    "# 2. RevolvingUtilizationOfUnsecuredLines\n",
    "RevolvingUtilizationOfUnsecuredLines = data['RevolvingUtilizationOfUnsecuredLines']\n",
    "print RevolvingUtilizationOfUnsecuredLines.head(10)\n",
    "print type(RevolvingUtilizationOfUnsecuredLines)"
   ]
  },
  {
   "cell_type": "code",
   "execution_count": 137,
   "metadata": {
    "collapsed": false
   },
   "outputs": [
    {
     "data": {
      "image/png": "[encoded data removed]",
      "text/plain": [
       "<matplotlib.figure.Figure at 0x110b3b250>"
      ]
     },
     "metadata": {},
     "output_type": "display_data"
    }
   ],
   "source": [
    "plt.hist(np.array(RevolvingUtilizationOfUnsecuredLines),40)\n",
    "plt.xticks(rotation=70)    # x values tilted\n",
    "plt.xlabel(\"Revolving utilization of unsecured lines (percentage)\")\n",
    "plt.ylabel(\"Frequency\")\n",
    "plt.title(\"Revolving utilization of unsecured lines (100% data)\")\n",
    "plt.grid()"
   ]
  },
  {
   "cell_type": "markdown",
   "metadata": {},
   "source": [
    "\n",
    "Since outliers make it difficult to interpret the graph, we need to get rid of the outliers.\n"
   ]
  },
  {
   "cell_type": "code",
   "execution_count": 136,
   "metadata": {
    "collapsed": false
   },
   "outputs": [
    {
     "data": {
      "image/png": "[encoded data removed]",
      "text/plain": [
       "<matplotlib.figure.Figure at 0x10dc00790>"
      ]
     },
     "metadata": {},
     "output_type": "display_data"
    }
   ],
   "source": [
    "## Remove outliers\n",
    "# sort the data\n",
    "Revolving_sorted = np.sort(np.array(RevolvingUtilizationOfUnsecuredLines))\n",
    "\n",
    "# 0.2 percent of the data are ignored -> only 99.8 percent data will be plotted\n",
    "percentile_99_8 = Revolving_sorted.size * 0.002\n",
    "plt.hist(Revolving_sorted[:-percentile_99_8], 40)\n",
    "plt.xticks(rotation=70)    # x values tilted\n",
    "plt.xlabel(\"Revolving utilization of unsecured lines (percentage)\")\n",
    "plt.ylabel(\"Frequency\")\n",
    "plt.title(\"Revolving utilization of unsecured lines (99.8% data)\")\n",
    "plt.grid()"
   ]
  },
  {
   "cell_type": "markdown",
   "metadata": {},
   "source": [
    "#3. Age\n",
    "###Age of borrower in years"
   ]
  },
  {
   "cell_type": "code",
   "execution_count": 139,
   "metadata": {
    "collapsed": false
   },
   "outputs": [
    {
     "name": "stdout",
     "output_type": "stream",
     "text": [
      "1     45\n",
      "2     40\n",
      "3     38\n",
      "4     30\n",
      "5     49\n",
      "6     74\n",
      "7     57\n",
      "8     39\n",
      "9     27\n",
      "10    57\n",
      "Name: age, dtype: int64\n"
     ]
    }
   ],
   "source": [
    "age = data['age']\n",
    "print age.head(10)"
   ]
  },
  {
   "cell_type": "code",
   "execution_count": 142,
   "metadata": {
    "collapsed": false
   },
   "outputs": [
    {
     "data": {
      "image/png": "[encoded data removed]",
      "text/plain": [
       "<matplotlib.figure.Figure at 0x10f541ad0>"
      ]
     },
     "metadata": {},
     "output_type": "display_data"
    }
   ],
   "source": [
    "plt.hist(np.array(age),20)\n",
    "plt.xticks(rotation=70)    # x values tilted\n",
    "plt.xlabel(\"Age\")\n",
    "plt.ylabel(\"Frequency\")\n",
    "plt.title(\"Age\")\n",
    "plt.grid()"
   ]
  },
  {
   "cell_type": "markdown",
   "metadata": {},
   "source": [
    "#4. NumberOfTime30-59DaysPastDueNotWorse\n",
    "###Number of times borrower has been 30-59 days past due but no worse in the last 2 years."
   ]
  },
  {
   "cell_type": "code",
   "execution_count": 188,
   "metadata": {
    "collapsed": false
   },
   "outputs": [
    {
     "name": "stdout",
     "output_type": "stream",
     "text": [
      "1     2\n",
      "2     0\n",
      "3     1\n",
      "4     0\n",
      "5     1\n",
      "6     0\n",
      "7     0\n",
      "8     0\n",
      "9     0\n",
      "10    0\n",
      "Name: NumberOfTime30-59DaysPastDueNotWorse, dtype: int64\n"
     ]
    }
   ],
   "source": [
    "NumberOfTime30_59DaysPastDueNotWorse = data['NumberOfTime30-59DaysPastDueNotWorse']\n",
    "print NumberOfTime30_59DaysPastDueNotWorse.head(10)"
   ]
  },
  {
   "cell_type": "code",
   "execution_count": 200,
   "metadata": {
    "collapsed": false
   },
   "outputs": [
    {
     "data": {
      "image/png": "[encoded data removed]",
      "text/plain": [
       "<matplotlib.figure.Figure at 0x10f1f1450>"
      ]
     },
     "metadata": {},
     "output_type": "display_data"
    }
   ],
   "source": [
    "plt.hist(np.array(NumberOfTime30_59DaysPastDueNotWorse))\n",
    "plt.xticks(rotation=70)    # x values tilted\n",
    "plt.xlabel(\"Number of times 30-59 days past due\")\n",
    "plt.ylabel(\"Frequency\")\n",
    "plt.title(\"Number of times 30-59 days past due in last 2 years (100% data)\")\n",
    "plt.grid()"
   ]
  },
  {
   "cell_type": "code",
   "execution_count": 201,
   "metadata": {
    "collapsed": false
   },
   "outputs": [
    {
     "data": {
      "image/png": "[encoded data removed]",
      "text/plain": [
       "<matplotlib.figure.Figure at 0x10f12d690>"
      ]
     },
     "metadata": {},
     "output_type": "display_data"
    }
   ],
   "source": [
    "## Remove outliers\n",
    "# sort the data\n",
    "NumberOfTime30_59DaysPastDue_sorted = np.sort(np.array(NumberOfTime30_59DaysPastDueNotWorse))\n",
    "\n",
    "# 0.2 percent of the data are ignored -> only 99.8 percent data will be plotted\n",
    "percentile_99_8 = NumberOfTime30_59DaysPastDue_sorted.size * 0.002\n",
    "plt.hist(NumberOfTime30_59DaysPastDue_sorted[:-percentile_99_8])\n",
    "plt.xticks(rotation=70)    # x values tilted\n",
    "plt.xlabel(\"Number of times 30-59 days past due\")\n",
    "plt.ylabel(\"Frequency\")\n",
    "plt.title(\"Number of times 30-59 days past due in last 2 years (99.8% data)\")\n",
    "plt.grid()"
   ]
  },
  {
   "cell_type": "markdown",
   "metadata": {},
   "source": [
    "#5. DebtRatio"
   ]
  },
  {
   "cell_type": "code",
   "execution_count": 107,
   "metadata": {
    "collapsed": false
   },
   "outputs": [
    {
     "name": "stdout",
     "output_type": "stream",
     "text": [
      "1        0.802982\n",
      "2        0.121876\n",
      "3        0.085113\n",
      "4        0.036050\n",
      "5        0.024926\n",
      "6        0.375607\n",
      "7     5710.000000\n",
      "8        0.209940\n",
      "9       46.000000\n",
      "10       0.606291\n",
      "Name: DebtRatio, dtype: float64\n"
     ]
    }
   ],
   "source": [
    "DebtRatio = data['DebtRatio']\n",
    "print DebtRatio.head(10)"
   ]
  },
  {
   "cell_type": "code",
   "execution_count": 135,
   "metadata": {
    "collapsed": false
   },
   "outputs": [
    {
     "data": {
      "image/png": "[encoded data removed]",
      "text/plain": [
       "<matplotlib.figure.Figure at 0x110d95510>"
      ]
     },
     "metadata": {},
     "output_type": "display_data"
    }
   ],
   "source": [
    "plt.hist(np.array(DebtRatio),40)\n",
    "plt.xticks(rotation=70)    # x values tilted\n",
    "plt.xlabel(\"Debt ratio (percentage)\")\n",
    "plt.ylabel(\"Frequency\")\n",
    "plt.title(\"Debt Ratio (100% data)\")\n",
    "plt.grid()"
   ]
  },
  {
   "cell_type": "code",
   "execution_count": 133,
   "metadata": {
    "collapsed": false
   },
   "outputs": [
    {
     "data": {
      "image/png": "[encoded data removed]",
      "text/plain": [
       "<matplotlib.figure.Figure at 0x10db99f50>"
      ]
     },
     "metadata": {},
     "output_type": "display_data"
    }
   ],
   "source": [
    "## Remove outliers\n",
    "# sort the data\n",
    "DebtRatio_sorted = np.sort(np.array(DebtRatio))\n",
    "\n",
    "# 20 percent of the data are ignored -> only 80 percent data will be plotted\n",
    "percentile_80 = DebtRatio_sorted.size * 0.2\n",
    "plt.hist(DebtRatio_sorted[:-percentile_80], 40)\n",
    "plt.xticks(rotation=70)    # x values tilted\n",
    "plt.xlabel(\"Debt ratio (percentage)\")\n",
    "plt.ylabel(\"Frequency\")\n",
    "plt.title(\"Debt Ratio (80% data)\")\n",
    "plt.grid()"
   ]
  },
  {
   "cell_type": "code",
   "execution_count": 134,
   "metadata": {
    "collapsed": false
   },
   "outputs": [
    {
     "data": {
      "image/png": "[encoded data removed]",
      "text/plain": [
       "<matplotlib.figure.Figure at 0x110704710>"
      ]
     },
     "metadata": {},
     "output_type": "display_data"
    }
   ],
   "source": [
    "# 40 percent of the data are ignored -> only 60 percent data will be plotted\n",
    "percentile_60 = DebtRatio_sorted.size * 0.4\n",
    "plt.hist(DebtRatio_sorted[:-percentile_60], 40)\n",
    "plt.xticks(rotation=70)    # x values tilted\n",
    "plt.xlabel(\"Debt ratio (percentage)\")\n",
    "plt.ylabel(\"Frequency\")\n",
    "plt.title(\"Debt Ratio (60% data)\")\n",
    "plt.grid()"
   ]
  },
  {
   "cell_type": "code",
   "execution_count": null,
   "metadata": {
    "collapsed": true
   },
   "outputs": [],
   "source": []
  }
 ],
 "metadata": {
  "kernelspec": {
   "display_name": "Python 2",
   "language": "python",
   "name": "python2"
  },
  "language_info": {
   "codemirror_mode": {
    "name": "ipython",
    "version": 2
   },
   "file_extension": ".py",
   "mimetype": "text/x-python",
   "name": "python",
   "nbconvert_exporter": "python",
   "pygments_lexer": "ipython2",
   "version": "2.7.9"
  }
 },
 "nbformat": 4,
 "nbformat_minor": 0
}
